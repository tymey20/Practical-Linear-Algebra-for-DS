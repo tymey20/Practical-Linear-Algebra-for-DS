{
  "nbformat": 4,
  "nbformat_minor": 0,
  "metadata": {
    "colab": {
      "provenance": [],
      "include_colab_link": true
    },
    "kernelspec": {
      "name": "python3",
      "display_name": "Python 3"
    },
    "language_info": {
      "name": "python"
    }
  },
  "cells": [
    {
      "cell_type": "markdown",
      "metadata": {
        "id": "view-in-github",
        "colab_type": "text"
      },
      "source": [
        "<a href=\"https://colab.research.google.com/github/tymey20/Practical-Linear-Algebra-for-DS/blob/main/LA4DS_ch02.ipynb\" target=\"_parent\"><img src=\"https://colab.research.google.com/assets/colab-badge.svg\" alt=\"Open In Colab\"/></a>"
      ]
    },
    {
      "cell_type": "markdown",
      "source": [
        "# Practical Linear Algebra for Data Science\n",
        "## Mike X Cohen (sincxpress.com)\n",
        "### https://www.oreilly.com/library/view/practical-linear-algebra/9781098120603/\n",
        "\n",
        "#### Code for chapter 2"
      ],
      "metadata": {
        "id": "SbGFWGzkd44U"
      }
    },
    {
      "cell_type": "code",
      "metadata": {
        "id": "tY0IlmddejbI"
      },
      "source": [
        "# import libraries\n",
        "import numpy as np\n",
        "import matplotlib.pyplot as plt\n",
        "\n",
        "\n",
        "# NOTE: these lines define global figure properties used for publication.\n",
        "from IPython import display\n",
        "display.set_matplotlib_formats('svg') # display figures in vector format\n",
        "plt.rcParams.update({'font.size':14}) # set global font size"
      ],
      "execution_count": 49,
      "outputs": []
    },
    {
      "cell_type": "markdown",
      "metadata": {
        "id": "lILGCfNmeaoR"
      },
      "source": [
        "# Creating vectors"
      ]
    },
    {
      "cell_type": "code",
      "metadata": {
        "id": "9AoQthPKegez"
      },
      "source": [
        "# a vector as a Python list datatype\n",
        "asList = [1,2,3]\n",
        "\n",
        "# same numbers, but as a dimensionless numpy array\n",
        "asArray = np.array([1,2,3])\n",
        "\n",
        "# again same numbers, but now endowed with orientations\n",
        "rowVec = np.array([ [1,2,3] ]) # row\n",
        "colVec = np.array([ [1],[2],[3] ]) # column\n",
        "\n",
        "# Note the use of spacing when defining the vectors; that is not necessary but makes the code more readable."
      ],
      "execution_count": 50,
      "outputs": []
    },
    {
      "cell_type": "code",
      "metadata": {
        "id": "pKu9GCbSeghU",
        "colab": {
          "base_uri": "https://localhost:8080/"
        },
        "outputId": "923444f3-6d83-460b-f792-78b138faef2a"
      },
      "source": [
        "# Check the sizes of the variables\n",
        "print(f'asList:  {np.shape(asList)}') # using np's shape function\n",
        "print(f'asArray: {asArray.shape}') # using a method associated with numpy objects\n",
        "print(f'rowVec:  {rowVec.shape}')\n",
        "print(f'colVec:  {colVec.shape}')"
      ],
      "execution_count": 51,
      "outputs": [
        {
          "output_type": "stream",
          "name": "stdout",
          "text": [
            "asList:  (3,)\n",
            "asArray: (3,)\n",
            "rowVec:  (1, 3)\n",
            "colVec:  (3, 1)\n"
          ]
        }
      ]
    },
    {
      "cell_type": "markdown",
      "metadata": {
        "id": "7vK1qpzpegkN"
      },
      "source": [
        "# Geometry of vectors"
      ]
    },
    {
      "cell_type": "code",
      "metadata": {
        "id": "yQ0gPgH4fBLy",
        "colab": {
          "base_uri": "https://localhost:8080/",
          "height": 406
        },
        "outputId": "aa9b7dab-7f7f-4797-8dd3-1cb81b5e9c8c"
      },
      "source": [
        "# create a vector\n",
        "v = np.array([-1,2])\n",
        "\n",
        "# plot that vector (and a dot for the tail)\n",
        "plt.arrow(0,0,v[0],v[1],head_width=.5,width=.1)\n",
        "plt.plot(0,0,'ko',markerfacecolor='k',markersize=7)\n",
        "\n",
        "# add axis lines\n",
        "plt.plot([-3,3],[0,0],'--',color=[.8,.8,.8],zorder=-1)\n",
        "plt.plot([0,0],[-3,3],'--',color=[.8,.8,.8],zorder=-1)\n",
        "\n",
        "# make the plot look nicer\n",
        "plt.axis('square')\n",
        "plt.axis([-3,3,-3,3])\n",
        "plt.xlabel('$v_0$')\n",
        "plt.ylabel('$v_1$')\n",
        "plt.title('Vector v in standard position')\n",
        "plt.show()"
      ],
      "execution_count": 52,
      "outputs": [
        {
          "output_type": "display_data",
          "data": {
            "text/plain": [
              "<Figure size 432x288 with 1 Axes>"
            ],
            "image/svg+xml": "<?xml version=\"1.0\" encoding=\"utf-8\" standalone=\"no\"?>\n<!DOCTYPE svg PUBLIC \"-//W3C//DTD SVG 1.1//EN\"\n  \"http://www.w3.org/Graphics/SVG/1.1/DTD/svg11.dtd\">\n<!-- Created with matplotlib (https://matplotlib.org/) -->\n<svg height=\"288.704125pt\" version=\"1.1\" viewBox=\"0 0 288.915375 288.704125\" width=\"288.915375pt\" xmlns=\"http://www.w3.org/2000/svg\" xmlns:xlink=\"http://www.w3.org/1999/xlink\">\n <defs>\n  <style type=\"text/css\">\n*{stroke-linecap:butt;stroke-linejoin:round;}\n  </style>\n </defs>\n <g id=\"figure_1\">\n  <g id=\"patch_1\">\n   <path d=\"M 0 288.704125 \nL 288.915375 288.704125 \nL 288.915375 0 \nL 0 0 \nz\n\" style=\"fill:none;\"/>\n  </g>\n  <g id=\"axes_1\">\n   <g id=\"patch_2\">\n    <path d=\"M 52.388437 243.405375 \nL 269.828438 243.405375 \nL 269.828438 25.965375 \nL 52.388437 25.965375 \nz\n\" style=\"fill:#ffffff;\"/>\n   </g>\n   <g id=\"line2d_1\">\n    <path clip-path=\"url(#p4ef4674ea7)\" d=\"M 52.388437 134.685375 \nL 269.828437 134.685375 \n\" style=\"fill:none;stroke:#cccccc;stroke-dasharray:5.55,2.4;stroke-dashoffset:0;stroke-width:1.5;\"/>\n   </g>\n   <g id=\"line2d_2\">\n    <path clip-path=\"url(#p4ef4674ea7)\" d=\"M 161.108437 243.405375 \nL 161.108437 25.965375 \n\" style=\"fill:none;stroke:#cccccc;stroke-dasharray:5.55,2.4;stroke-dashoffset:0;stroke-width:1.5;\"/>\n   </g>\n   <g id=\"patch_3\">\n    <path clip-path=\"url(#p4ef4674ea7)\" d=\"M 112.713172 37.894844 \nL 132.971948 58.15362 \nL 126.48914 61.395024 \nL 162.72914 133.875024 \nL 159.487735 135.495726 \nL 123.247735 63.015726 \nL 116.764927 66.25713 \nz\n\" style=\"fill:#1f77b4;stroke:#000000;stroke-linejoin:miter;\"/>\n   </g>\n   <g id=\"matplotlib.axis_1\">\n    <g id=\"xtick_1\">\n     <g id=\"line2d_3\">\n      <defs>\n       <path d=\"M 0 0 \nL 0 3.5 \n\" id=\"m8bf2f6e2ce\" style=\"stroke:#000000;stroke-width:0.8;\"/>\n      </defs>\n      <g>\n       <use style=\"stroke:#000000;stroke-width:0.8;\" x=\"88.628437\" xlink:href=\"#m8bf2f6e2ce\" y=\"243.405375\"/>\n      </g>\n     </g>\n     <g id=\"text_1\">\n      <!-- −2 -->\n      <defs>\n       <path d=\"M 10.59375 35.5 \nL 73.1875 35.5 \nL 73.1875 27.203125 \nL 10.59375 27.203125 \nz\n\" id=\"DejaVuSans-8722\"/>\n       <path d=\"M 19.1875 8.296875 \nL 53.609375 8.296875 \nL 53.609375 0 \nL 7.328125 0 \nL 7.328125 8.296875 \nQ 12.9375 14.109375 22.625 23.890625 \nQ 32.328125 33.6875 34.8125 36.53125 \nQ 39.546875 41.84375 41.421875 45.53125 \nQ 43.3125 49.21875 43.3125 52.78125 \nQ 43.3125 58.59375 39.234375 62.25 \nQ 35.15625 65.921875 28.609375 65.921875 \nQ 23.96875 65.921875 18.8125 64.3125 \nQ 13.671875 62.703125 7.8125 59.421875 \nL 7.8125 69.390625 \nQ 13.765625 71.78125 18.9375 73 \nQ 24.125 74.21875 28.421875 74.21875 \nQ 39.75 74.21875 46.484375 68.546875 \nQ 53.21875 62.890625 53.21875 53.421875 \nQ 53.21875 48.921875 51.53125 44.890625 \nQ 49.859375 40.875 45.40625 35.40625 \nQ 44.1875 33.984375 37.640625 27.21875 \nQ 31.109375 20.453125 19.1875 8.296875 \nz\n\" id=\"DejaVuSans-50\"/>\n      </defs>\n      <g transform=\"translate(78.308906 261.043187)scale(0.14 -0.14)\">\n       <use xlink:href=\"#DejaVuSans-8722\"/>\n       <use x=\"83.789062\" xlink:href=\"#DejaVuSans-50\"/>\n      </g>\n     </g>\n    </g>\n    <g id=\"xtick_2\">\n     <g id=\"line2d_4\">\n      <g>\n       <use style=\"stroke:#000000;stroke-width:0.8;\" x=\"161.108437\" xlink:href=\"#m8bf2f6e2ce\" y=\"243.405375\"/>\n      </g>\n     </g>\n     <g id=\"text_2\">\n      <!-- 0 -->\n      <defs>\n       <path d=\"M 31.78125 66.40625 \nQ 24.171875 66.40625 20.328125 58.90625 \nQ 16.5 51.421875 16.5 36.375 \nQ 16.5 21.390625 20.328125 13.890625 \nQ 24.171875 6.390625 31.78125 6.390625 \nQ 39.453125 6.390625 43.28125 13.890625 \nQ 47.125 21.390625 47.125 36.375 \nQ 47.125 51.421875 43.28125 58.90625 \nQ 39.453125 66.40625 31.78125 66.40625 \nz\nM 31.78125 74.21875 \nQ 44.046875 74.21875 50.515625 64.515625 \nQ 56.984375 54.828125 56.984375 36.375 \nQ 56.984375 17.96875 50.515625 8.265625 \nQ 44.046875 -1.421875 31.78125 -1.421875 \nQ 19.53125 -1.421875 13.0625 8.265625 \nQ 6.59375 17.96875 6.59375 36.375 \nQ 6.59375 54.828125 13.0625 64.515625 \nQ 19.53125 74.21875 31.78125 74.21875 \nz\n\" id=\"DejaVuSans-48\"/>\n      </defs>\n      <g transform=\"translate(156.654687 261.043187)scale(0.14 -0.14)\">\n       <use xlink:href=\"#DejaVuSans-48\"/>\n      </g>\n     </g>\n    </g>\n    <g id=\"xtick_3\">\n     <g id=\"line2d_5\">\n      <g>\n       <use style=\"stroke:#000000;stroke-width:0.8;\" x=\"233.588437\" xlink:href=\"#m8bf2f6e2ce\" y=\"243.405375\"/>\n      </g>\n     </g>\n     <g id=\"text_3\">\n      <!-- 2 -->\n      <g transform=\"translate(229.134687 261.043187)scale(0.14 -0.14)\">\n       <use xlink:href=\"#DejaVuSans-50\"/>\n      </g>\n     </g>\n    </g>\n    <g id=\"text_4\">\n     <!-- $v_0$ -->\n     <defs>\n      <path d=\"M 7.171875 54.6875 \nL 16.703125 54.6875 \nL 24.703125 8.203125 \nL 50.875 54.6875 \nL 60.40625 54.6875 \nL 29.296875 0 \nL 17.1875 0 \nz\n\" id=\"DejaVuSans-Oblique-118\"/>\n     </defs>\n     <g transform=\"translate(153.618437 278.592562)scale(0.14 -0.14)\">\n      <use transform=\"translate(0 0.3125)\" xlink:href=\"#DejaVuSans-Oblique-118\"/>\n      <use transform=\"translate(59.179688 -16.09375)scale(0.7)\" xlink:href=\"#DejaVuSans-48\"/>\n     </g>\n    </g>\n   </g>\n   <g id=\"matplotlib.axis_2\">\n    <g id=\"ytick_1\">\n     <g id=\"line2d_6\">\n      <defs>\n       <path d=\"M 0 0 \nL -3.5 0 \n\" id=\"m5227fde853\" style=\"stroke:#000000;stroke-width:0.8;\"/>\n      </defs>\n      <g>\n       <use style=\"stroke:#000000;stroke-width:0.8;\" x=\"52.388437\" xlink:href=\"#m5227fde853\" y=\"243.405375\"/>\n      </g>\n     </g>\n     <g id=\"text_5\">\n      <!-- −3 -->\n      <defs>\n       <path d=\"M 40.578125 39.3125 \nQ 47.65625 37.796875 51.625 33 \nQ 55.609375 28.21875 55.609375 21.1875 \nQ 55.609375 10.40625 48.1875 4.484375 \nQ 40.765625 -1.421875 27.09375 -1.421875 \nQ 22.515625 -1.421875 17.65625 -0.515625 \nQ 12.796875 0.390625 7.625 2.203125 \nL 7.625 11.71875 \nQ 11.71875 9.328125 16.59375 8.109375 \nQ 21.484375 6.890625 26.8125 6.890625 \nQ 36.078125 6.890625 40.9375 10.546875 \nQ 45.796875 14.203125 45.796875 21.1875 \nQ 45.796875 27.640625 41.28125 31.265625 \nQ 36.765625 34.90625 28.71875 34.90625 \nL 20.21875 34.90625 \nL 20.21875 43.015625 \nL 29.109375 43.015625 \nQ 36.375 43.015625 40.234375 45.921875 \nQ 44.09375 48.828125 44.09375 54.296875 \nQ 44.09375 59.90625 40.109375 62.90625 \nQ 36.140625 65.921875 28.71875 65.921875 \nQ 24.65625 65.921875 20.015625 65.03125 \nQ 15.375 64.15625 9.8125 62.3125 \nL 9.8125 71.09375 \nQ 15.4375 72.65625 20.34375 73.4375 \nQ 25.25 74.21875 29.59375 74.21875 \nQ 40.828125 74.21875 47.359375 69.109375 \nQ 53.90625 64.015625 53.90625 55.328125 \nQ 53.90625 49.265625 50.4375 45.09375 \nQ 46.96875 40.921875 40.578125 39.3125 \nz\n\" id=\"DejaVuSans-51\"/>\n      </defs>\n      <g transform=\"translate(24.749375 248.724281)scale(0.14 -0.14)\">\n       <use xlink:href=\"#DejaVuSans-8722\"/>\n       <use x=\"83.789062\" xlink:href=\"#DejaVuSans-51\"/>\n      </g>\n     </g>\n    </g>\n    <g id=\"ytick_2\">\n     <g id=\"line2d_7\">\n      <g>\n       <use style=\"stroke:#000000;stroke-width:0.8;\" x=\"52.388437\" xlink:href=\"#m5227fde853\" y=\"207.165375\"/>\n      </g>\n     </g>\n     <g id=\"text_6\">\n      <!-- −2 -->\n      <g transform=\"translate(24.749375 212.484281)scale(0.14 -0.14)\">\n       <use xlink:href=\"#DejaVuSans-8722\"/>\n       <use x=\"83.789062\" xlink:href=\"#DejaVuSans-50\"/>\n      </g>\n     </g>\n    </g>\n    <g id=\"ytick_3\">\n     <g id=\"line2d_8\">\n      <g>\n       <use style=\"stroke:#000000;stroke-width:0.8;\" x=\"52.388437\" xlink:href=\"#m5227fde853\" y=\"170.925375\"/>\n      </g>\n     </g>\n     <g id=\"text_7\">\n      <!-- −1 -->\n      <defs>\n       <path d=\"M 12.40625 8.296875 \nL 28.515625 8.296875 \nL 28.515625 63.921875 \nL 10.984375 60.40625 \nL 10.984375 69.390625 \nL 28.421875 72.90625 \nL 38.28125 72.90625 \nL 38.28125 8.296875 \nL 54.390625 8.296875 \nL 54.390625 0 \nL 12.40625 0 \nz\n\" id=\"DejaVuSans-49\"/>\n      </defs>\n      <g transform=\"translate(24.749375 176.244281)scale(0.14 -0.14)\">\n       <use xlink:href=\"#DejaVuSans-8722\"/>\n       <use x=\"83.789062\" xlink:href=\"#DejaVuSans-49\"/>\n      </g>\n     </g>\n    </g>\n    <g id=\"ytick_4\">\n     <g id=\"line2d_9\">\n      <g>\n       <use style=\"stroke:#000000;stroke-width:0.8;\" x=\"52.388437\" xlink:href=\"#m5227fde853\" y=\"134.685375\"/>\n      </g>\n     </g>\n     <g id=\"text_8\">\n      <!-- 0 -->\n      <g transform=\"translate(36.480937 140.004281)scale(0.14 -0.14)\">\n       <use xlink:href=\"#DejaVuSans-48\"/>\n      </g>\n     </g>\n    </g>\n    <g id=\"ytick_5\">\n     <g id=\"line2d_10\">\n      <g>\n       <use style=\"stroke:#000000;stroke-width:0.8;\" x=\"52.388437\" xlink:href=\"#m5227fde853\" y=\"98.445375\"/>\n      </g>\n     </g>\n     <g id=\"text_9\">\n      <!-- 1 -->\n      <g transform=\"translate(36.480937 103.764281)scale(0.14 -0.14)\">\n       <use xlink:href=\"#DejaVuSans-49\"/>\n      </g>\n     </g>\n    </g>\n    <g id=\"ytick_6\">\n     <g id=\"line2d_11\">\n      <g>\n       <use style=\"stroke:#000000;stroke-width:0.8;\" x=\"52.388437\" xlink:href=\"#m5227fde853\" y=\"62.205375\"/>\n      </g>\n     </g>\n     <g id=\"text_10\">\n      <!-- 2 -->\n      <g transform=\"translate(36.480937 67.524281)scale(0.14 -0.14)\">\n       <use xlink:href=\"#DejaVuSans-50\"/>\n      </g>\n     </g>\n    </g>\n    <g id=\"ytick_7\">\n     <g id=\"line2d_12\">\n      <g>\n       <use style=\"stroke:#000000;stroke-width:0.8;\" x=\"52.388437\" xlink:href=\"#m5227fde853\" y=\"25.965375\"/>\n      </g>\n     </g>\n     <g id=\"text_11\">\n      <!-- 3 -->\n      <g transform=\"translate(36.480937 31.284281)scale(0.14 -0.14)\">\n       <use xlink:href=\"#DejaVuSans-51\"/>\n      </g>\n     </g>\n    </g>\n    <g id=\"text_12\">\n     <!-- $v_1$ -->\n     <g transform=\"translate(17.837812 142.175375)rotate(-90)scale(0.14 -0.14)\">\n      <use transform=\"translate(0 0.3125)\" xlink:href=\"#DejaVuSans-Oblique-118\"/>\n      <use transform=\"translate(59.179688 -16.09375)scale(0.7)\" xlink:href=\"#DejaVuSans-49\"/>\n     </g>\n    </g>\n   </g>\n   <g id=\"line2d_13\">\n    <defs>\n     <path d=\"M 0 3.5 \nC 0.928211 3.5 1.81853 3.131218 2.474874 2.474874 \nC 3.131218 1.81853 3.5 0.928211 3.5 0 \nC 3.5 -0.928211 3.131218 -1.81853 2.474874 -2.474874 \nC 1.81853 -3.131218 0.928211 -3.5 0 -3.5 \nC -0.928211 -3.5 -1.81853 -3.131218 -2.474874 -2.474874 \nC -3.131218 -1.81853 -3.5 -0.928211 -3.5 0 \nC -3.5 0.928211 -3.131218 1.81853 -2.474874 2.474874 \nC -1.81853 3.131218 -0.928211 3.5 0 3.5 \nz\n\" id=\"m9e99181891\" style=\"stroke:#000000;\"/>\n    </defs>\n    <g clip-path=\"url(#p4ef4674ea7)\">\n     <use style=\"stroke:#000000;\" x=\"161.108437\" xlink:href=\"#m9e99181891\" y=\"134.685375\"/>\n    </g>\n   </g>\n   <g id=\"patch_4\">\n    <path d=\"M 52.388437 243.405375 \nL 52.388437 25.965375 \n\" style=\"fill:none;stroke:#000000;stroke-linecap:square;stroke-linejoin:miter;stroke-width:0.8;\"/>\n   </g>\n   <g id=\"patch_5\">\n    <path d=\"M 269.828438 243.405375 \nL 269.828438 25.965375 \n\" style=\"fill:none;stroke:#000000;stroke-linecap:square;stroke-linejoin:miter;stroke-width:0.8;\"/>\n   </g>\n   <g id=\"patch_6\">\n    <path d=\"M 52.388437 243.405375 \nL 269.828437 243.405375 \n\" style=\"fill:none;stroke:#000000;stroke-linecap:square;stroke-linejoin:miter;stroke-width:0.8;\"/>\n   </g>\n   <g id=\"patch_7\">\n    <path d=\"M 52.388437 25.965375 \nL 269.828437 25.965375 \n\" style=\"fill:none;stroke:#000000;stroke-linecap:square;stroke-linejoin:miter;stroke-width:0.8;\"/>\n   </g>\n   <g id=\"text_13\">\n    <!-- Vector v in standard position -->\n    <defs>\n     <path d=\"M 28.609375 0 \nL 0.78125 72.90625 \nL 11.078125 72.90625 \nL 34.1875 11.53125 \nL 57.328125 72.90625 \nL 67.578125 72.90625 \nL 39.796875 0 \nz\n\" id=\"DejaVuSans-86\"/>\n     <path d=\"M 56.203125 29.59375 \nL 56.203125 25.203125 \nL 14.890625 25.203125 \nQ 15.484375 15.921875 20.484375 11.0625 \nQ 25.484375 6.203125 34.421875 6.203125 \nQ 39.59375 6.203125 44.453125 7.46875 \nQ 49.3125 8.734375 54.109375 11.28125 \nL 54.109375 2.78125 \nQ 49.265625 0.734375 44.1875 -0.34375 \nQ 39.109375 -1.421875 33.890625 -1.421875 \nQ 20.796875 -1.421875 13.15625 6.1875 \nQ 5.515625 13.8125 5.515625 26.8125 \nQ 5.515625 40.234375 12.765625 48.109375 \nQ 20.015625 56 32.328125 56 \nQ 43.359375 56 49.78125 48.890625 \nQ 56.203125 41.796875 56.203125 29.59375 \nz\nM 47.21875 32.234375 \nQ 47.125 39.59375 43.09375 43.984375 \nQ 39.0625 48.390625 32.421875 48.390625 \nQ 24.90625 48.390625 20.390625 44.140625 \nQ 15.875 39.890625 15.1875 32.171875 \nz\n\" id=\"DejaVuSans-101\"/>\n     <path d=\"M 48.78125 52.59375 \nL 48.78125 44.1875 \nQ 44.96875 46.296875 41.140625 47.34375 \nQ 37.3125 48.390625 33.40625 48.390625 \nQ 24.65625 48.390625 19.8125 42.84375 \nQ 14.984375 37.3125 14.984375 27.296875 \nQ 14.984375 17.28125 19.8125 11.734375 \nQ 24.65625 6.203125 33.40625 6.203125 \nQ 37.3125 6.203125 41.140625 7.25 \nQ 44.96875 8.296875 48.78125 10.40625 \nL 48.78125 2.09375 \nQ 45.015625 0.34375 40.984375 -0.53125 \nQ 36.96875 -1.421875 32.421875 -1.421875 \nQ 20.0625 -1.421875 12.78125 6.34375 \nQ 5.515625 14.109375 5.515625 27.296875 \nQ 5.515625 40.671875 12.859375 48.328125 \nQ 20.21875 56 33.015625 56 \nQ 37.15625 56 41.109375 55.140625 \nQ 45.0625 54.296875 48.78125 52.59375 \nz\n\" id=\"DejaVuSans-99\"/>\n     <path d=\"M 18.3125 70.21875 \nL 18.3125 54.6875 \nL 36.8125 54.6875 \nL 36.8125 47.703125 \nL 18.3125 47.703125 \nL 18.3125 18.015625 \nQ 18.3125 11.328125 20.140625 9.421875 \nQ 21.96875 7.515625 27.59375 7.515625 \nL 36.8125 7.515625 \nL 36.8125 0 \nL 27.59375 0 \nQ 17.1875 0 13.234375 3.875 \nQ 9.28125 7.765625 9.28125 18.015625 \nL 9.28125 47.703125 \nL 2.6875 47.703125 \nL 2.6875 54.6875 \nL 9.28125 54.6875 \nL 9.28125 70.21875 \nz\n\" id=\"DejaVuSans-116\"/>\n     <path d=\"M 30.609375 48.390625 \nQ 23.390625 48.390625 19.1875 42.75 \nQ 14.984375 37.109375 14.984375 27.296875 \nQ 14.984375 17.484375 19.15625 11.84375 \nQ 23.34375 6.203125 30.609375 6.203125 \nQ 37.796875 6.203125 41.984375 11.859375 \nQ 46.1875 17.53125 46.1875 27.296875 \nQ 46.1875 37.015625 41.984375 42.703125 \nQ 37.796875 48.390625 30.609375 48.390625 \nz\nM 30.609375 56 \nQ 42.328125 56 49.015625 48.375 \nQ 55.71875 40.765625 55.71875 27.296875 \nQ 55.71875 13.875 49.015625 6.21875 \nQ 42.328125 -1.421875 30.609375 -1.421875 \nQ 18.84375 -1.421875 12.171875 6.21875 \nQ 5.515625 13.875 5.515625 27.296875 \nQ 5.515625 40.765625 12.171875 48.375 \nQ 18.84375 56 30.609375 56 \nz\n\" id=\"DejaVuSans-111\"/>\n     <path d=\"M 41.109375 46.296875 \nQ 39.59375 47.171875 37.8125 47.578125 \nQ 36.03125 48 33.890625 48 \nQ 26.265625 48 22.1875 43.046875 \nQ 18.109375 38.09375 18.109375 28.8125 \nL 18.109375 0 \nL 9.078125 0 \nL 9.078125 54.6875 \nL 18.109375 54.6875 \nL 18.109375 46.1875 \nQ 20.953125 51.171875 25.484375 53.578125 \nQ 30.03125 56 36.53125 56 \nQ 37.453125 56 38.578125 55.875 \nQ 39.703125 55.765625 41.0625 55.515625 \nz\n\" id=\"DejaVuSans-114\"/>\n     <path id=\"DejaVuSans-32\"/>\n     <path d=\"M 2.984375 54.6875 \nL 12.5 54.6875 \nL 29.59375 8.796875 \nL 46.6875 54.6875 \nL 56.203125 54.6875 \nL 35.6875 0 \nL 23.484375 0 \nz\n\" id=\"DejaVuSans-118\"/>\n     <path d=\"M 9.421875 54.6875 \nL 18.40625 54.6875 \nL 18.40625 0 \nL 9.421875 0 \nz\nM 9.421875 75.984375 \nL 18.40625 75.984375 \nL 18.40625 64.59375 \nL 9.421875 64.59375 \nz\n\" id=\"DejaVuSans-105\"/>\n     <path d=\"M 54.890625 33.015625 \nL 54.890625 0 \nL 45.90625 0 \nL 45.90625 32.71875 \nQ 45.90625 40.484375 42.875 44.328125 \nQ 39.84375 48.1875 33.796875 48.1875 \nQ 26.515625 48.1875 22.3125 43.546875 \nQ 18.109375 38.921875 18.109375 30.90625 \nL 18.109375 0 \nL 9.078125 0 \nL 9.078125 54.6875 \nL 18.109375 54.6875 \nL 18.109375 46.1875 \nQ 21.34375 51.125 25.703125 53.5625 \nQ 30.078125 56 35.796875 56 \nQ 45.21875 56 50.046875 50.171875 \nQ 54.890625 44.34375 54.890625 33.015625 \nz\n\" id=\"DejaVuSans-110\"/>\n     <path d=\"M 44.28125 53.078125 \nL 44.28125 44.578125 \nQ 40.484375 46.53125 36.375 47.5 \nQ 32.28125 48.484375 27.875 48.484375 \nQ 21.1875 48.484375 17.84375 46.4375 \nQ 14.5 44.390625 14.5 40.28125 \nQ 14.5 37.15625 16.890625 35.375 \nQ 19.28125 33.59375 26.515625 31.984375 \nL 29.59375 31.296875 \nQ 39.15625 29.25 43.1875 25.515625 \nQ 47.21875 21.78125 47.21875 15.09375 \nQ 47.21875 7.46875 41.1875 3.015625 \nQ 35.15625 -1.421875 24.609375 -1.421875 \nQ 20.21875 -1.421875 15.453125 -0.5625 \nQ 10.6875 0.296875 5.421875 2 \nL 5.421875 11.28125 \nQ 10.40625 8.6875 15.234375 7.390625 \nQ 20.0625 6.109375 24.8125 6.109375 \nQ 31.15625 6.109375 34.5625 8.28125 \nQ 37.984375 10.453125 37.984375 14.40625 \nQ 37.984375 18.0625 35.515625 20.015625 \nQ 33.0625 21.96875 24.703125 23.78125 \nL 21.578125 24.515625 \nQ 13.234375 26.265625 9.515625 29.90625 \nQ 5.8125 33.546875 5.8125 39.890625 \nQ 5.8125 47.609375 11.28125 51.796875 \nQ 16.75 56 26.8125 56 \nQ 31.78125 56 36.171875 55.265625 \nQ 40.578125 54.546875 44.28125 53.078125 \nz\n\" id=\"DejaVuSans-115\"/>\n     <path d=\"M 34.28125 27.484375 \nQ 23.390625 27.484375 19.1875 25 \nQ 14.984375 22.515625 14.984375 16.5 \nQ 14.984375 11.71875 18.140625 8.90625 \nQ 21.296875 6.109375 26.703125 6.109375 \nQ 34.1875 6.109375 38.703125 11.40625 \nQ 43.21875 16.703125 43.21875 25.484375 \nL 43.21875 27.484375 \nz\nM 52.203125 31.203125 \nL 52.203125 0 \nL 43.21875 0 \nL 43.21875 8.296875 \nQ 40.140625 3.328125 35.546875 0.953125 \nQ 30.953125 -1.421875 24.3125 -1.421875 \nQ 15.921875 -1.421875 10.953125 3.296875 \nQ 6 8.015625 6 15.921875 \nQ 6 25.140625 12.171875 29.828125 \nQ 18.359375 34.515625 30.609375 34.515625 \nL 43.21875 34.515625 \nL 43.21875 35.40625 \nQ 43.21875 41.609375 39.140625 45 \nQ 35.0625 48.390625 27.6875 48.390625 \nQ 23 48.390625 18.546875 47.265625 \nQ 14.109375 46.140625 10.015625 43.890625 \nL 10.015625 52.203125 \nQ 14.9375 54.109375 19.578125 55.046875 \nQ 24.21875 56 28.609375 56 \nQ 40.484375 56 46.34375 49.84375 \nQ 52.203125 43.703125 52.203125 31.203125 \nz\n\" id=\"DejaVuSans-97\"/>\n     <path d=\"M 45.40625 46.390625 \nL 45.40625 75.984375 \nL 54.390625 75.984375 \nL 54.390625 0 \nL 45.40625 0 \nL 45.40625 8.203125 \nQ 42.578125 3.328125 38.25 0.953125 \nQ 33.9375 -1.421875 27.875 -1.421875 \nQ 17.96875 -1.421875 11.734375 6.484375 \nQ 5.515625 14.40625 5.515625 27.296875 \nQ 5.515625 40.1875 11.734375 48.09375 \nQ 17.96875 56 27.875 56 \nQ 33.9375 56 38.25 53.625 \nQ 42.578125 51.265625 45.40625 46.390625 \nz\nM 14.796875 27.296875 \nQ 14.796875 17.390625 18.875 11.75 \nQ 22.953125 6.109375 30.078125 6.109375 \nQ 37.203125 6.109375 41.296875 11.75 \nQ 45.40625 17.390625 45.40625 27.296875 \nQ 45.40625 37.203125 41.296875 42.84375 \nQ 37.203125 48.484375 30.078125 48.484375 \nQ 22.953125 48.484375 18.875 42.84375 \nQ 14.796875 37.203125 14.796875 27.296875 \nz\n\" id=\"DejaVuSans-100\"/>\n     <path d=\"M 18.109375 8.203125 \nL 18.109375 -20.796875 \nL 9.078125 -20.796875 \nL 9.078125 54.6875 \nL 18.109375 54.6875 \nL 18.109375 46.390625 \nQ 20.953125 51.265625 25.265625 53.625 \nQ 29.59375 56 35.59375 56 \nQ 45.5625 56 51.78125 48.09375 \nQ 58.015625 40.1875 58.015625 27.296875 \nQ 58.015625 14.40625 51.78125 6.484375 \nQ 45.5625 -1.421875 35.59375 -1.421875 \nQ 29.59375 -1.421875 25.265625 0.953125 \nQ 20.953125 3.328125 18.109375 8.203125 \nz\nM 48.6875 27.296875 \nQ 48.6875 37.203125 44.609375 42.84375 \nQ 40.53125 48.484375 33.40625 48.484375 \nQ 26.265625 48.484375 22.1875 42.84375 \nQ 18.109375 37.203125 18.109375 27.296875 \nQ 18.109375 17.390625 22.1875 11.75 \nQ 26.265625 6.109375 33.40625 6.109375 \nQ 40.53125 6.109375 44.609375 11.75 \nQ 48.6875 17.390625 48.6875 27.296875 \nz\n\" id=\"DejaVuSans-112\"/>\n    </defs>\n    <g transform=\"translate(40.5015 19.965375)scale(0.168 -0.168)\">\n     <use xlink:href=\"#DejaVuSans-86\"/>\n     <use x=\"60.658203\" xlink:href=\"#DejaVuSans-101\"/>\n     <use x=\"122.181641\" xlink:href=\"#DejaVuSans-99\"/>\n     <use x=\"177.162109\" xlink:href=\"#DejaVuSans-116\"/>\n     <use x=\"216.371094\" xlink:href=\"#DejaVuSans-111\"/>\n     <use x=\"277.552734\" xlink:href=\"#DejaVuSans-114\"/>\n     <use x=\"318.666016\" xlink:href=\"#DejaVuSans-32\"/>\n     <use x=\"350.453125\" xlink:href=\"#DejaVuSans-118\"/>\n     <use x=\"409.632812\" xlink:href=\"#DejaVuSans-32\"/>\n     <use x=\"441.419922\" xlink:href=\"#DejaVuSans-105\"/>\n     <use x=\"469.203125\" xlink:href=\"#DejaVuSans-110\"/>\n     <use x=\"532.582031\" xlink:href=\"#DejaVuSans-32\"/>\n     <use x=\"564.369141\" xlink:href=\"#DejaVuSans-115\"/>\n     <use x=\"616.46875\" xlink:href=\"#DejaVuSans-116\"/>\n     <use x=\"655.677734\" xlink:href=\"#DejaVuSans-97\"/>\n     <use x=\"716.957031\" xlink:href=\"#DejaVuSans-110\"/>\n     <use x=\"780.335938\" xlink:href=\"#DejaVuSans-100\"/>\n     <use x=\"843.8125\" xlink:href=\"#DejaVuSans-97\"/>\n     <use x=\"905.091797\" xlink:href=\"#DejaVuSans-114\"/>\n     <use x=\"944.455078\" xlink:href=\"#DejaVuSans-100\"/>\n     <use x=\"1007.931641\" xlink:href=\"#DejaVuSans-32\"/>\n     <use x=\"1039.71875\" xlink:href=\"#DejaVuSans-112\"/>\n     <use x=\"1103.195312\" xlink:href=\"#DejaVuSans-111\"/>\n     <use x=\"1164.376953\" xlink:href=\"#DejaVuSans-115\"/>\n     <use x=\"1216.476562\" xlink:href=\"#DejaVuSans-105\"/>\n     <use x=\"1244.259766\" xlink:href=\"#DejaVuSans-116\"/>\n     <use x=\"1283.46875\" xlink:href=\"#DejaVuSans-105\"/>\n     <use x=\"1311.251953\" xlink:href=\"#DejaVuSans-111\"/>\n     <use x=\"1372.433594\" xlink:href=\"#DejaVuSans-110\"/>\n    </g>\n   </g>\n  </g>\n </g>\n <defs>\n  <clipPath id=\"p4ef4674ea7\">\n   <rect height=\"217.44\" width=\"217.44\" x=\"52.388437\" y=\"25.965375\"/>\n  </clipPath>\n </defs>\n</svg>\n"
          },
          "metadata": {
            "needs_background": "light"
          }
        }
      ]
    },
    {
      "cell_type": "code",
      "metadata": {
        "id": "Vf-wu4LtfBOp",
        "colab": {
          "base_uri": "https://localhost:8080/",
          "height": 551
        },
        "outputId": "d0862ef6-f039-429a-8d6b-d8e22ad941bf"
      },
      "source": [
        "# A range of starting positions\n",
        "\n",
        "startPos = [\n",
        "            [0,0],\n",
        "            [-1,-1],\n",
        "            [1.5,-2]\n",
        "            ]\n",
        "\n",
        "\n",
        "# create a new figure\n",
        "fig = plt.figure(figsize=(6,6))\n",
        "\n",
        "for s in startPos:\n",
        "\n",
        "  # plot that vector (and a dot for the tail)\n",
        "  # note that plt.arrow automatically adds an offset to the third/fourth inputs\n",
        "  plt.arrow(s[0],s[1],v[0],v[1],head_width=.5,width=.1,color='black')\n",
        "  plt.plot(s[0],s[1],'ko',markerfacecolor='k',markersize=7)\n",
        "\n",
        "  # indicate the vector in its standard position\n",
        "  if s==[0,0]:\n",
        "    plt.text(v[0]+.1,v[1]+.2,'\"Standard pos.\"')\n",
        "\n",
        "\n",
        "# add axis lines\n",
        "plt.plot([-3,3],[0,0],'--',color=[.8,.8,.8],zorder=-1)\n",
        "plt.plot([0,0],[-3,3],'--',color=[.8,.8,.8],zorder=-1)\n",
        "\n",
        "# make the plot look nicer\n",
        "plt.axis('square')\n",
        "plt.axis([-3,3,-3,3])\n",
        "plt.xlabel('$v_0$')\n",
        "plt.ylabel('$v_1$')\n",
        "plt.title('Vector $\\mathbf{v}$ in various locations')\n",
        "plt.savefig('Figure_02_01.png',dpi=300) # write out the fig to a file\n",
        "plt.show()"
      ],
      "execution_count": 53,
      "outputs": [
        {
          "output_type": "display_data",
          "data": {
            "text/plain": [
              "<Figure size 432x432 with 1 Axes>"
            ],
            "image/svg+xml": "<?xml version=\"1.0\" encoding=\"utf-8\" standalone=\"no\"?>\n<!DOCTYPE svg PUBLIC \"-//W3C//DTD SVG 1.1//EN\"\n  \"http://www.w3.org/Graphics/SVG/1.1/DTD/svg11.dtd\">\n<!-- Created with matplotlib (https://matplotlib.org/) -->\n<svg height=\"397.424125pt\" version=\"1.1\" viewBox=\"0 0 390.202188 397.424125\" width=\"390.202188pt\" xmlns=\"http://www.w3.org/2000/svg\" xmlns:xlink=\"http://www.w3.org/1999/xlink\">\n <defs>\n  <style type=\"text/css\">\n*{stroke-linecap:butt;stroke-linejoin:round;}\n  </style>\n </defs>\n <g id=\"figure_1\">\n  <g id=\"patch_1\">\n   <path d=\"M 0 397.424125 \nL 390.202188 397.424125 \nL 390.202188 0 \nL 0 0 \nz\n\" style=\"fill:none;\"/>\n  </g>\n  <g id=\"axes_1\">\n   <g id=\"patch_2\">\n    <path d=\"M 52.388438 352.125375 \nL 378.548438 352.125375 \nL 378.548438 25.965375 \nL 52.388438 25.965375 \nz\n\" style=\"fill:#ffffff;\"/>\n   </g>\n   <g id=\"line2d_1\">\n    <path clip-path=\"url(#p7dff001fe3)\" d=\"M 52.388438 189.045375 \nL 378.548437 189.045375 \n\" style=\"fill:none;stroke:#cccccc;stroke-dasharray:5.55,2.4;stroke-dashoffset:0;stroke-width:1.5;\"/>\n   </g>\n   <g id=\"line2d_2\">\n    <path clip-path=\"url(#p7dff001fe3)\" d=\"M 215.468438 352.125375 \nL 215.468438 25.965375 \n\" style=\"fill:none;stroke:#cccccc;stroke-dasharray:5.55,2.4;stroke-dashoffset:0;stroke-width:1.5;\"/>\n   </g>\n   <g id=\"patch_3\">\n    <path clip-path=\"url(#p7dff001fe3)\" d=\"M 142.875539 43.859578 \nL 173.263703 74.247742 \nL 163.539491 79.109848 \nL 217.899491 187.829848 \nL 213.037384 190.260902 \nL 158.677384 81.540902 \nL 148.953172 86.403008 \nz\n\" style=\"stroke:#000000;stroke-linejoin:miter;\"/>\n   </g>\n   <g id=\"patch_4\">\n    <path clip-path=\"url(#p7dff001fe3)\" d=\"M 88.515539 98.219578 \nL 118.903703 128.607742 \nL 109.179491 133.469848 \nL 163.539491 242.189848 \nL 158.677384 244.620902 \nL 104.317384 135.900902 \nL 94.593172 140.763008 \nz\n\" style=\"stroke:#000000;stroke-linejoin:miter;\"/>\n   </g>\n   <g id=\"patch_5\">\n    <path clip-path=\"url(#p7dff001fe3)\" d=\"M 224.415539 152.579578 \nL 254.803703 182.967742 \nL 245.079491 187.829848 \nL 299.439491 296.549848 \nL 294.577384 298.980902 \nL 240.217384 190.260902 \nL 230.493172 195.123008 \nz\n\" style=\"stroke:#000000;stroke-linejoin:miter;\"/>\n   </g>\n   <g id=\"matplotlib.axis_1\">\n    <g id=\"xtick_1\">\n     <g id=\"line2d_3\">\n      <defs>\n       <path d=\"M 0 0 \nL 0 3.5 \n\" id=\"m4ba7ae6882\" style=\"stroke:#000000;stroke-width:0.8;\"/>\n      </defs>\n      <g>\n       <use style=\"stroke:#000000;stroke-width:0.8;\" x=\"52.388438\" xlink:href=\"#m4ba7ae6882\" y=\"352.125375\"/>\n      </g>\n     </g>\n     <g id=\"text_1\">\n      <!-- −3 -->\n      <defs>\n       <path d=\"M 10.59375 35.5 \nL 73.1875 35.5 \nL 73.1875 27.203125 \nL 10.59375 27.203125 \nz\n\" id=\"DejaVuSans-8722\"/>\n       <path d=\"M 40.578125 39.3125 \nQ 47.65625 37.796875 51.625 33 \nQ 55.609375 28.21875 55.609375 21.1875 \nQ 55.609375 10.40625 48.1875 4.484375 \nQ 40.765625 -1.421875 27.09375 -1.421875 \nQ 22.515625 -1.421875 17.65625 -0.515625 \nQ 12.796875 0.390625 7.625 2.203125 \nL 7.625 11.71875 \nQ 11.71875 9.328125 16.59375 8.109375 \nQ 21.484375 6.890625 26.8125 6.890625 \nQ 36.078125 6.890625 40.9375 10.546875 \nQ 45.796875 14.203125 45.796875 21.1875 \nQ 45.796875 27.640625 41.28125 31.265625 \nQ 36.765625 34.90625 28.71875 34.90625 \nL 20.21875 34.90625 \nL 20.21875 43.015625 \nL 29.109375 43.015625 \nQ 36.375 43.015625 40.234375 45.921875 \nQ 44.09375 48.828125 44.09375 54.296875 \nQ 44.09375 59.90625 40.109375 62.90625 \nQ 36.140625 65.921875 28.71875 65.921875 \nQ 24.65625 65.921875 20.015625 65.03125 \nQ 15.375 64.15625 9.8125 62.3125 \nL 9.8125 71.09375 \nQ 15.4375 72.65625 20.34375 73.4375 \nQ 25.25 74.21875 29.59375 74.21875 \nQ 40.828125 74.21875 47.359375 69.109375 \nQ 53.90625 64.015625 53.90625 55.328125 \nQ 53.90625 49.265625 50.4375 45.09375 \nQ 46.96875 40.921875 40.578125 39.3125 \nz\n\" id=\"DejaVuSans-51\"/>\n      </defs>\n      <g transform=\"translate(42.068906 369.763188)scale(0.14 -0.14)\">\n       <use xlink:href=\"#DejaVuSans-8722\"/>\n       <use x=\"83.789062\" xlink:href=\"#DejaVuSans-51\"/>\n      </g>\n     </g>\n    </g>\n    <g id=\"xtick_2\">\n     <g id=\"line2d_4\">\n      <g>\n       <use style=\"stroke:#000000;stroke-width:0.8;\" x=\"106.748438\" xlink:href=\"#m4ba7ae6882\" y=\"352.125375\"/>\n      </g>\n     </g>\n     <g id=\"text_2\">\n      <!-- −2 -->\n      <defs>\n       <path d=\"M 19.1875 8.296875 \nL 53.609375 8.296875 \nL 53.609375 0 \nL 7.328125 0 \nL 7.328125 8.296875 \nQ 12.9375 14.109375 22.625 23.890625 \nQ 32.328125 33.6875 34.8125 36.53125 \nQ 39.546875 41.84375 41.421875 45.53125 \nQ 43.3125 49.21875 43.3125 52.78125 \nQ 43.3125 58.59375 39.234375 62.25 \nQ 35.15625 65.921875 28.609375 65.921875 \nQ 23.96875 65.921875 18.8125 64.3125 \nQ 13.671875 62.703125 7.8125 59.421875 \nL 7.8125 69.390625 \nQ 13.765625 71.78125 18.9375 73 \nQ 24.125 74.21875 28.421875 74.21875 \nQ 39.75 74.21875 46.484375 68.546875 \nQ 53.21875 62.890625 53.21875 53.421875 \nQ 53.21875 48.921875 51.53125 44.890625 \nQ 49.859375 40.875 45.40625 35.40625 \nQ 44.1875 33.984375 37.640625 27.21875 \nQ 31.109375 20.453125 19.1875 8.296875 \nz\n\" id=\"DejaVuSans-50\"/>\n      </defs>\n      <g transform=\"translate(96.428906 369.763188)scale(0.14 -0.14)\">\n       <use xlink:href=\"#DejaVuSans-8722\"/>\n       <use x=\"83.789062\" xlink:href=\"#DejaVuSans-50\"/>\n      </g>\n     </g>\n    </g>\n    <g id=\"xtick_3\">\n     <g id=\"line2d_5\">\n      <g>\n       <use style=\"stroke:#000000;stroke-width:0.8;\" x=\"161.108438\" xlink:href=\"#m4ba7ae6882\" y=\"352.125375\"/>\n      </g>\n     </g>\n     <g id=\"text_3\">\n      <!-- −1 -->\n      <defs>\n       <path d=\"M 12.40625 8.296875 \nL 28.515625 8.296875 \nL 28.515625 63.921875 \nL 10.984375 60.40625 \nL 10.984375 69.390625 \nL 28.421875 72.90625 \nL 38.28125 72.90625 \nL 38.28125 8.296875 \nL 54.390625 8.296875 \nL 54.390625 0 \nL 12.40625 0 \nz\n\" id=\"DejaVuSans-49\"/>\n      </defs>\n      <g transform=\"translate(150.788906 369.763188)scale(0.14 -0.14)\">\n       <use xlink:href=\"#DejaVuSans-8722\"/>\n       <use x=\"83.789062\" xlink:href=\"#DejaVuSans-49\"/>\n      </g>\n     </g>\n    </g>\n    <g id=\"xtick_4\">\n     <g id=\"line2d_6\">\n      <g>\n       <use style=\"stroke:#000000;stroke-width:0.8;\" x=\"215.468438\" xlink:href=\"#m4ba7ae6882\" y=\"352.125375\"/>\n      </g>\n     </g>\n     <g id=\"text_4\">\n      <!-- 0 -->\n      <defs>\n       <path d=\"M 31.78125 66.40625 \nQ 24.171875 66.40625 20.328125 58.90625 \nQ 16.5 51.421875 16.5 36.375 \nQ 16.5 21.390625 20.328125 13.890625 \nQ 24.171875 6.390625 31.78125 6.390625 \nQ 39.453125 6.390625 43.28125 13.890625 \nQ 47.125 21.390625 47.125 36.375 \nQ 47.125 51.421875 43.28125 58.90625 \nQ 39.453125 66.40625 31.78125 66.40625 \nz\nM 31.78125 74.21875 \nQ 44.046875 74.21875 50.515625 64.515625 \nQ 56.984375 54.828125 56.984375 36.375 \nQ 56.984375 17.96875 50.515625 8.265625 \nQ 44.046875 -1.421875 31.78125 -1.421875 \nQ 19.53125 -1.421875 13.0625 8.265625 \nQ 6.59375 17.96875 6.59375 36.375 \nQ 6.59375 54.828125 13.0625 64.515625 \nQ 19.53125 74.21875 31.78125 74.21875 \nz\n\" id=\"DejaVuSans-48\"/>\n      </defs>\n      <g transform=\"translate(211.014688 369.763188)scale(0.14 -0.14)\">\n       <use xlink:href=\"#DejaVuSans-48\"/>\n      </g>\n     </g>\n    </g>\n    <g id=\"xtick_5\">\n     <g id=\"line2d_7\">\n      <g>\n       <use style=\"stroke:#000000;stroke-width:0.8;\" x=\"269.828438\" xlink:href=\"#m4ba7ae6882\" y=\"352.125375\"/>\n      </g>\n     </g>\n     <g id=\"text_5\">\n      <!-- 1 -->\n      <g transform=\"translate(265.374687 369.763188)scale(0.14 -0.14)\">\n       <use xlink:href=\"#DejaVuSans-49\"/>\n      </g>\n     </g>\n    </g>\n    <g id=\"xtick_6\">\n     <g id=\"line2d_8\">\n      <g>\n       <use style=\"stroke:#000000;stroke-width:0.8;\" x=\"324.188438\" xlink:href=\"#m4ba7ae6882\" y=\"352.125375\"/>\n      </g>\n     </g>\n     <g id=\"text_6\">\n      <!-- 2 -->\n      <g transform=\"translate(319.734688 369.763188)scale(0.14 -0.14)\">\n       <use xlink:href=\"#DejaVuSans-50\"/>\n      </g>\n     </g>\n    </g>\n    <g id=\"xtick_7\">\n     <g id=\"line2d_9\">\n      <g>\n       <use style=\"stroke:#000000;stroke-width:0.8;\" x=\"378.548437\" xlink:href=\"#m4ba7ae6882\" y=\"352.125375\"/>\n      </g>\n     </g>\n     <g id=\"text_7\">\n      <!-- 3 -->\n      <g transform=\"translate(374.094687 369.763188)scale(0.14 -0.14)\">\n       <use xlink:href=\"#DejaVuSans-51\"/>\n      </g>\n     </g>\n    </g>\n    <g id=\"text_8\">\n     <!-- $v_0$ -->\n     <defs>\n      <path d=\"M 7.171875 54.6875 \nL 16.703125 54.6875 \nL 24.703125 8.203125 \nL 50.875 54.6875 \nL 60.40625 54.6875 \nL 29.296875 0 \nL 17.1875 0 \nz\n\" id=\"DejaVuSans-Oblique-118\"/>\n     </defs>\n     <g transform=\"translate(207.978438 387.312563)scale(0.14 -0.14)\">\n      <use transform=\"translate(0 0.3125)\" xlink:href=\"#DejaVuSans-Oblique-118\"/>\n      <use transform=\"translate(59.179688 -16.09375)scale(0.7)\" xlink:href=\"#DejaVuSans-48\"/>\n     </g>\n    </g>\n   </g>\n   <g id=\"matplotlib.axis_2\">\n    <g id=\"ytick_1\">\n     <g id=\"line2d_10\">\n      <defs>\n       <path d=\"M 0 0 \nL -3.5 0 \n\" id=\"m812ae1d665\" style=\"stroke:#000000;stroke-width:0.8;\"/>\n      </defs>\n      <g>\n       <use style=\"stroke:#000000;stroke-width:0.8;\" x=\"52.388438\" xlink:href=\"#m812ae1d665\" y=\"352.125375\"/>\n      </g>\n     </g>\n     <g id=\"text_9\">\n      <!-- −3 -->\n      <g transform=\"translate(24.749375 357.444281)scale(0.14 -0.14)\">\n       <use xlink:href=\"#DejaVuSans-8722\"/>\n       <use x=\"83.789062\" xlink:href=\"#DejaVuSans-51\"/>\n      </g>\n     </g>\n    </g>\n    <g id=\"ytick_2\">\n     <g id=\"line2d_11\">\n      <g>\n       <use style=\"stroke:#000000;stroke-width:0.8;\" x=\"52.388438\" xlink:href=\"#m812ae1d665\" y=\"297.765375\"/>\n      </g>\n     </g>\n     <g id=\"text_10\">\n      <!-- −2 -->\n      <g transform=\"translate(24.749375 303.084281)scale(0.14 -0.14)\">\n       <use xlink:href=\"#DejaVuSans-8722\"/>\n       <use x=\"83.789062\" xlink:href=\"#DejaVuSans-50\"/>\n      </g>\n     </g>\n    </g>\n    <g id=\"ytick_3\">\n     <g id=\"line2d_12\">\n      <g>\n       <use style=\"stroke:#000000;stroke-width:0.8;\" x=\"52.388438\" xlink:href=\"#m812ae1d665\" y=\"243.405375\"/>\n      </g>\n     </g>\n     <g id=\"text_11\">\n      <!-- −1 -->\n      <g transform=\"translate(24.749375 248.724281)scale(0.14 -0.14)\">\n       <use xlink:href=\"#DejaVuSans-8722\"/>\n       <use x=\"83.789062\" xlink:href=\"#DejaVuSans-49\"/>\n      </g>\n     </g>\n    </g>\n    <g id=\"ytick_4\">\n     <g id=\"line2d_13\">\n      <g>\n       <use style=\"stroke:#000000;stroke-width:0.8;\" x=\"52.388438\" xlink:href=\"#m812ae1d665\" y=\"189.045375\"/>\n      </g>\n     </g>\n     <g id=\"text_12\">\n      <!-- 0 -->\n      <g transform=\"translate(36.480938 194.364281)scale(0.14 -0.14)\">\n       <use xlink:href=\"#DejaVuSans-48\"/>\n      </g>\n     </g>\n    </g>\n    <g id=\"ytick_5\">\n     <g id=\"line2d_14\">\n      <g>\n       <use style=\"stroke:#000000;stroke-width:0.8;\" x=\"52.388438\" xlink:href=\"#m812ae1d665\" y=\"134.685375\"/>\n      </g>\n     </g>\n     <g id=\"text_13\">\n      <!-- 1 -->\n      <g transform=\"translate(36.480938 140.004281)scale(0.14 -0.14)\">\n       <use xlink:href=\"#DejaVuSans-49\"/>\n      </g>\n     </g>\n    </g>\n    <g id=\"ytick_6\">\n     <g id=\"line2d_15\">\n      <g>\n       <use style=\"stroke:#000000;stroke-width:0.8;\" x=\"52.388438\" xlink:href=\"#m812ae1d665\" y=\"80.325375\"/>\n      </g>\n     </g>\n     <g id=\"text_14\">\n      <!-- 2 -->\n      <g transform=\"translate(36.480938 85.644281)scale(0.14 -0.14)\">\n       <use xlink:href=\"#DejaVuSans-50\"/>\n      </g>\n     </g>\n    </g>\n    <g id=\"ytick_7\">\n     <g id=\"line2d_16\">\n      <g>\n       <use style=\"stroke:#000000;stroke-width:0.8;\" x=\"52.388438\" xlink:href=\"#m812ae1d665\" y=\"25.965375\"/>\n      </g>\n     </g>\n     <g id=\"text_15\">\n      <!-- 3 -->\n      <g transform=\"translate(36.480938 31.284281)scale(0.14 -0.14)\">\n       <use xlink:href=\"#DejaVuSans-51\"/>\n      </g>\n     </g>\n    </g>\n    <g id=\"text_16\">\n     <!-- $v_1$ -->\n     <g transform=\"translate(17.837812 196.535375)rotate(-90)scale(0.14 -0.14)\">\n      <use transform=\"translate(0 0.3125)\" xlink:href=\"#DejaVuSans-Oblique-118\"/>\n      <use transform=\"translate(59.179688 -16.09375)scale(0.7)\" xlink:href=\"#DejaVuSans-49\"/>\n     </g>\n    </g>\n   </g>\n   <g id=\"line2d_17\">\n    <defs>\n     <path d=\"M 0 3.5 \nC 0.928211 3.5 1.81853 3.131218 2.474874 2.474874 \nC 3.131218 1.81853 3.5 0.928211 3.5 0 \nC 3.5 -0.928211 3.131218 -1.81853 2.474874 -2.474874 \nC 1.81853 -3.131218 0.928211 -3.5 0 -3.5 \nC -0.928211 -3.5 -1.81853 -3.131218 -2.474874 -2.474874 \nC -3.131218 -1.81853 -3.5 -0.928211 -3.5 0 \nC -3.5 0.928211 -3.131218 1.81853 -2.474874 2.474874 \nC -1.81853 3.131218 -0.928211 3.5 0 3.5 \nz\n\" id=\"m709ea6692b\" style=\"stroke:#000000;\"/>\n    </defs>\n    <g clip-path=\"url(#p7dff001fe3)\">\n     <use style=\"stroke:#000000;\" x=\"215.468438\" xlink:href=\"#m709ea6692b\" y=\"189.045375\"/>\n    </g>\n   </g>\n   <g id=\"line2d_18\">\n    <g clip-path=\"url(#p7dff001fe3)\">\n     <use style=\"stroke:#000000;\" x=\"161.108438\" xlink:href=\"#m709ea6692b\" y=\"243.405375\"/>\n    </g>\n   </g>\n   <g id=\"line2d_19\">\n    <g clip-path=\"url(#p7dff001fe3)\">\n     <use style=\"stroke:#000000;\" x=\"297.008438\" xlink:href=\"#m709ea6692b\" y=\"297.765375\"/>\n    </g>\n   </g>\n   <g id=\"patch_6\">\n    <path d=\"M 52.388438 352.125375 \nL 52.388438 25.965375 \n\" style=\"fill:none;stroke:#000000;stroke-linecap:square;stroke-linejoin:miter;stroke-width:0.8;\"/>\n   </g>\n   <g id=\"patch_7\">\n    <path d=\"M 378.548438 352.125375 \nL 378.548438 25.965375 \n\" style=\"fill:none;stroke:#000000;stroke-linecap:square;stroke-linejoin:miter;stroke-width:0.8;\"/>\n   </g>\n   <g id=\"patch_8\">\n    <path d=\"M 52.388438 352.125375 \nL 378.548437 352.125375 \n\" style=\"fill:none;stroke:#000000;stroke-linecap:square;stroke-linejoin:miter;stroke-width:0.8;\"/>\n   </g>\n   <g id=\"patch_9\">\n    <path d=\"M 52.388438 25.965375 \nL 378.548437 25.965375 \n\" style=\"fill:none;stroke:#000000;stroke-linecap:square;stroke-linejoin:miter;stroke-width:0.8;\"/>\n   </g>\n   <g id=\"text_17\">\n    <!-- \"Standard pos.\" -->\n    <defs>\n     <path d=\"M 17.921875 72.90625 \nL 17.921875 45.796875 \nL 9.625 45.796875 \nL 9.625 72.90625 \nz\nM 36.375 72.90625 \nL 36.375 45.796875 \nL 28.078125 45.796875 \nL 28.078125 72.90625 \nz\n\" id=\"DejaVuSans-34\"/>\n     <path d=\"M 53.515625 70.515625 \nL 53.515625 60.890625 \nQ 47.90625 63.578125 42.921875 64.890625 \nQ 37.9375 66.21875 33.296875 66.21875 \nQ 25.25 66.21875 20.875 63.09375 \nQ 16.5 59.96875 16.5 54.203125 \nQ 16.5 49.359375 19.40625 46.890625 \nQ 22.3125 44.4375 30.421875 42.921875 \nL 36.375 41.703125 \nQ 47.40625 39.59375 52.65625 34.296875 \nQ 57.90625 29 57.90625 20.125 \nQ 57.90625 9.515625 50.796875 4.046875 \nQ 43.703125 -1.421875 29.984375 -1.421875 \nQ 24.8125 -1.421875 18.96875 -0.25 \nQ 13.140625 0.921875 6.890625 3.21875 \nL 6.890625 13.375 \nQ 12.890625 10.015625 18.65625 8.296875 \nQ 24.421875 6.59375 29.984375 6.59375 \nQ 38.421875 6.59375 43.015625 9.90625 \nQ 47.609375 13.234375 47.609375 19.390625 \nQ 47.609375 24.75 44.3125 27.78125 \nQ 41.015625 30.8125 33.5 32.328125 \nL 27.484375 33.5 \nQ 16.453125 35.6875 11.515625 40.375 \nQ 6.59375 45.0625 6.59375 53.421875 \nQ 6.59375 63.09375 13.40625 68.65625 \nQ 20.21875 74.21875 32.171875 74.21875 \nQ 37.3125 74.21875 42.625 73.28125 \nQ 47.953125 72.359375 53.515625 70.515625 \nz\n\" id=\"DejaVuSans-83\"/>\n     <path d=\"M 18.3125 70.21875 \nL 18.3125 54.6875 \nL 36.8125 54.6875 \nL 36.8125 47.703125 \nL 18.3125 47.703125 \nL 18.3125 18.015625 \nQ 18.3125 11.328125 20.140625 9.421875 \nQ 21.96875 7.515625 27.59375 7.515625 \nL 36.8125 7.515625 \nL 36.8125 0 \nL 27.59375 0 \nQ 17.1875 0 13.234375 3.875 \nQ 9.28125 7.765625 9.28125 18.015625 \nL 9.28125 47.703125 \nL 2.6875 47.703125 \nL 2.6875 54.6875 \nL 9.28125 54.6875 \nL 9.28125 70.21875 \nz\n\" id=\"DejaVuSans-116\"/>\n     <path d=\"M 34.28125 27.484375 \nQ 23.390625 27.484375 19.1875 25 \nQ 14.984375 22.515625 14.984375 16.5 \nQ 14.984375 11.71875 18.140625 8.90625 \nQ 21.296875 6.109375 26.703125 6.109375 \nQ 34.1875 6.109375 38.703125 11.40625 \nQ 43.21875 16.703125 43.21875 25.484375 \nL 43.21875 27.484375 \nz\nM 52.203125 31.203125 \nL 52.203125 0 \nL 43.21875 0 \nL 43.21875 8.296875 \nQ 40.140625 3.328125 35.546875 0.953125 \nQ 30.953125 -1.421875 24.3125 -1.421875 \nQ 15.921875 -1.421875 10.953125 3.296875 \nQ 6 8.015625 6 15.921875 \nQ 6 25.140625 12.171875 29.828125 \nQ 18.359375 34.515625 30.609375 34.515625 \nL 43.21875 34.515625 \nL 43.21875 35.40625 \nQ 43.21875 41.609375 39.140625 45 \nQ 35.0625 48.390625 27.6875 48.390625 \nQ 23 48.390625 18.546875 47.265625 \nQ 14.109375 46.140625 10.015625 43.890625 \nL 10.015625 52.203125 \nQ 14.9375 54.109375 19.578125 55.046875 \nQ 24.21875 56 28.609375 56 \nQ 40.484375 56 46.34375 49.84375 \nQ 52.203125 43.703125 52.203125 31.203125 \nz\n\" id=\"DejaVuSans-97\"/>\n     <path d=\"M 54.890625 33.015625 \nL 54.890625 0 \nL 45.90625 0 \nL 45.90625 32.71875 \nQ 45.90625 40.484375 42.875 44.328125 \nQ 39.84375 48.1875 33.796875 48.1875 \nQ 26.515625 48.1875 22.3125 43.546875 \nQ 18.109375 38.921875 18.109375 30.90625 \nL 18.109375 0 \nL 9.078125 0 \nL 9.078125 54.6875 \nL 18.109375 54.6875 \nL 18.109375 46.1875 \nQ 21.34375 51.125 25.703125 53.5625 \nQ 30.078125 56 35.796875 56 \nQ 45.21875 56 50.046875 50.171875 \nQ 54.890625 44.34375 54.890625 33.015625 \nz\n\" id=\"DejaVuSans-110\"/>\n     <path d=\"M 45.40625 46.390625 \nL 45.40625 75.984375 \nL 54.390625 75.984375 \nL 54.390625 0 \nL 45.40625 0 \nL 45.40625 8.203125 \nQ 42.578125 3.328125 38.25 0.953125 \nQ 33.9375 -1.421875 27.875 -1.421875 \nQ 17.96875 -1.421875 11.734375 6.484375 \nQ 5.515625 14.40625 5.515625 27.296875 \nQ 5.515625 40.1875 11.734375 48.09375 \nQ 17.96875 56 27.875 56 \nQ 33.9375 56 38.25 53.625 \nQ 42.578125 51.265625 45.40625 46.390625 \nz\nM 14.796875 27.296875 \nQ 14.796875 17.390625 18.875 11.75 \nQ 22.953125 6.109375 30.078125 6.109375 \nQ 37.203125 6.109375 41.296875 11.75 \nQ 45.40625 17.390625 45.40625 27.296875 \nQ 45.40625 37.203125 41.296875 42.84375 \nQ 37.203125 48.484375 30.078125 48.484375 \nQ 22.953125 48.484375 18.875 42.84375 \nQ 14.796875 37.203125 14.796875 27.296875 \nz\n\" id=\"DejaVuSans-100\"/>\n     <path d=\"M 41.109375 46.296875 \nQ 39.59375 47.171875 37.8125 47.578125 \nQ 36.03125 48 33.890625 48 \nQ 26.265625 48 22.1875 43.046875 \nQ 18.109375 38.09375 18.109375 28.8125 \nL 18.109375 0 \nL 9.078125 0 \nL 9.078125 54.6875 \nL 18.109375 54.6875 \nL 18.109375 46.1875 \nQ 20.953125 51.171875 25.484375 53.578125 \nQ 30.03125 56 36.53125 56 \nQ 37.453125 56 38.578125 55.875 \nQ 39.703125 55.765625 41.0625 55.515625 \nz\n\" id=\"DejaVuSans-114\"/>\n     <path id=\"DejaVuSans-32\"/>\n     <path d=\"M 18.109375 8.203125 \nL 18.109375 -20.796875 \nL 9.078125 -20.796875 \nL 9.078125 54.6875 \nL 18.109375 54.6875 \nL 18.109375 46.390625 \nQ 20.953125 51.265625 25.265625 53.625 \nQ 29.59375 56 35.59375 56 \nQ 45.5625 56 51.78125 48.09375 \nQ 58.015625 40.1875 58.015625 27.296875 \nQ 58.015625 14.40625 51.78125 6.484375 \nQ 45.5625 -1.421875 35.59375 -1.421875 \nQ 29.59375 -1.421875 25.265625 0.953125 \nQ 20.953125 3.328125 18.109375 8.203125 \nz\nM 48.6875 27.296875 \nQ 48.6875 37.203125 44.609375 42.84375 \nQ 40.53125 48.484375 33.40625 48.484375 \nQ 26.265625 48.484375 22.1875 42.84375 \nQ 18.109375 37.203125 18.109375 27.296875 \nQ 18.109375 17.390625 22.1875 11.75 \nQ 26.265625 6.109375 33.40625 6.109375 \nQ 40.53125 6.109375 44.609375 11.75 \nQ 48.6875 17.390625 48.6875 27.296875 \nz\n\" id=\"DejaVuSans-112\"/>\n     <path d=\"M 30.609375 48.390625 \nQ 23.390625 48.390625 19.1875 42.75 \nQ 14.984375 37.109375 14.984375 27.296875 \nQ 14.984375 17.484375 19.15625 11.84375 \nQ 23.34375 6.203125 30.609375 6.203125 \nQ 37.796875 6.203125 41.984375 11.859375 \nQ 46.1875 17.53125 46.1875 27.296875 \nQ 46.1875 37.015625 41.984375 42.703125 \nQ 37.796875 48.390625 30.609375 48.390625 \nz\nM 30.609375 56 \nQ 42.328125 56 49.015625 48.375 \nQ 55.71875 40.765625 55.71875 27.296875 \nQ 55.71875 13.875 49.015625 6.21875 \nQ 42.328125 -1.421875 30.609375 -1.421875 \nQ 18.84375 -1.421875 12.171875 6.21875 \nQ 5.515625 13.875 5.515625 27.296875 \nQ 5.515625 40.765625 12.171875 48.375 \nQ 18.84375 56 30.609375 56 \nz\n\" id=\"DejaVuSans-111\"/>\n     <path d=\"M 44.28125 53.078125 \nL 44.28125 44.578125 \nQ 40.484375 46.53125 36.375 47.5 \nQ 32.28125 48.484375 27.875 48.484375 \nQ 21.1875 48.484375 17.84375 46.4375 \nQ 14.5 44.390625 14.5 40.28125 \nQ 14.5 37.15625 16.890625 35.375 \nQ 19.28125 33.59375 26.515625 31.984375 \nL 29.59375 31.296875 \nQ 39.15625 29.25 43.1875 25.515625 \nQ 47.21875 21.78125 47.21875 15.09375 \nQ 47.21875 7.46875 41.1875 3.015625 \nQ 35.15625 -1.421875 24.609375 -1.421875 \nQ 20.21875 -1.421875 15.453125 -0.5625 \nQ 10.6875 0.296875 5.421875 2 \nL 5.421875 11.28125 \nQ 10.40625 8.6875 15.234375 7.390625 \nQ 20.0625 6.109375 24.8125 6.109375 \nQ 31.15625 6.109375 34.5625 8.28125 \nQ 37.984375 10.453125 37.984375 14.40625 \nQ 37.984375 18.0625 35.515625 20.015625 \nQ 33.0625 21.96875 24.703125 23.78125 \nL 21.578125 24.515625 \nQ 13.234375 26.265625 9.515625 29.90625 \nQ 5.8125 33.546875 5.8125 39.890625 \nQ 5.8125 47.609375 11.28125 51.796875 \nQ 16.75 56 26.8125 56 \nQ 31.78125 56 36.171875 55.265625 \nQ 40.578125 54.546875 44.28125 53.078125 \nz\n\" id=\"DejaVuSans-115\"/>\n     <path d=\"M 10.6875 12.40625 \nL 21 12.40625 \nL 21 0 \nL 10.6875 0 \nz\n\" id=\"DejaVuSans-46\"/>\n    </defs>\n    <g transform=\"translate(166.544438 69.453375)scale(0.14 -0.14)\">\n     <use xlink:href=\"#DejaVuSans-34\"/>\n     <use x=\"45.996094\" xlink:href=\"#DejaVuSans-83\"/>\n     <use x=\"109.472656\" xlink:href=\"#DejaVuSans-116\"/>\n     <use x=\"148.681641\" xlink:href=\"#DejaVuSans-97\"/>\n     <use x=\"209.960938\" xlink:href=\"#DejaVuSans-110\"/>\n     <use x=\"273.339844\" xlink:href=\"#DejaVuSans-100\"/>\n     <use x=\"336.816406\" xlink:href=\"#DejaVuSans-97\"/>\n     <use x=\"398.095703\" xlink:href=\"#DejaVuSans-114\"/>\n     <use x=\"437.458984\" xlink:href=\"#DejaVuSans-100\"/>\n     <use x=\"500.935547\" xlink:href=\"#DejaVuSans-32\"/>\n     <use x=\"532.722656\" xlink:href=\"#DejaVuSans-112\"/>\n     <use x=\"596.199219\" xlink:href=\"#DejaVuSans-111\"/>\n     <use x=\"657.380859\" xlink:href=\"#DejaVuSans-115\"/>\n     <use x=\"709.480469\" xlink:href=\"#DejaVuSans-46\"/>\n     <use x=\"741.267578\" xlink:href=\"#DejaVuSans-34\"/>\n    </g>\n   </g>\n   <g id=\"text_18\">\n    <!-- Vector $\\mathbf{v}$ in various locations -->\n    <defs>\n     <path d=\"M 28.609375 0 \nL 0.78125 72.90625 \nL 11.078125 72.90625 \nL 34.1875 11.53125 \nL 57.328125 72.90625 \nL 67.578125 72.90625 \nL 39.796875 0 \nz\n\" id=\"DejaVuSans-86\"/>\n     <path d=\"M 56.203125 29.59375 \nL 56.203125 25.203125 \nL 14.890625 25.203125 \nQ 15.484375 15.921875 20.484375 11.0625 \nQ 25.484375 6.203125 34.421875 6.203125 \nQ 39.59375 6.203125 44.453125 7.46875 \nQ 49.3125 8.734375 54.109375 11.28125 \nL 54.109375 2.78125 \nQ 49.265625 0.734375 44.1875 -0.34375 \nQ 39.109375 -1.421875 33.890625 -1.421875 \nQ 20.796875 -1.421875 13.15625 6.1875 \nQ 5.515625 13.8125 5.515625 26.8125 \nQ 5.515625 40.234375 12.765625 48.109375 \nQ 20.015625 56 32.328125 56 \nQ 43.359375 56 49.78125 48.890625 \nQ 56.203125 41.796875 56.203125 29.59375 \nz\nM 47.21875 32.234375 \nQ 47.125 39.59375 43.09375 43.984375 \nQ 39.0625 48.390625 32.421875 48.390625 \nQ 24.90625 48.390625 20.390625 44.140625 \nQ 15.875 39.890625 15.1875 32.171875 \nz\n\" id=\"DejaVuSans-101\"/>\n     <path d=\"M 48.78125 52.59375 \nL 48.78125 44.1875 \nQ 44.96875 46.296875 41.140625 47.34375 \nQ 37.3125 48.390625 33.40625 48.390625 \nQ 24.65625 48.390625 19.8125 42.84375 \nQ 14.984375 37.3125 14.984375 27.296875 \nQ 14.984375 17.28125 19.8125 11.734375 \nQ 24.65625 6.203125 33.40625 6.203125 \nQ 37.3125 6.203125 41.140625 7.25 \nQ 44.96875 8.296875 48.78125 10.40625 \nL 48.78125 2.09375 \nQ 45.015625 0.34375 40.984375 -0.53125 \nQ 36.96875 -1.421875 32.421875 -1.421875 \nQ 20.0625 -1.421875 12.78125 6.34375 \nQ 5.515625 14.109375 5.515625 27.296875 \nQ 5.515625 40.671875 12.859375 48.328125 \nQ 20.21875 56 33.015625 56 \nQ 37.15625 56 41.109375 55.140625 \nQ 45.0625 54.296875 48.78125 52.59375 \nz\n\" id=\"DejaVuSans-99\"/>\n     <path d=\"M 1.515625 54.6875 \nL 19 54.6875 \nL 32.625 16.890625 \nL 46.1875 54.6875 \nL 63.71875 54.6875 \nL 42.1875 0 \nL 23 0 \nz\n\" id=\"DejaVuSans-Bold-118\"/>\n     <path d=\"M 9.421875 54.6875 \nL 18.40625 54.6875 \nL 18.40625 0 \nL 9.421875 0 \nz\nM 9.421875 75.984375 \nL 18.40625 75.984375 \nL 18.40625 64.59375 \nL 9.421875 64.59375 \nz\n\" id=\"DejaVuSans-105\"/>\n     <path d=\"M 2.984375 54.6875 \nL 12.5 54.6875 \nL 29.59375 8.796875 \nL 46.6875 54.6875 \nL 56.203125 54.6875 \nL 35.6875 0 \nL 23.484375 0 \nz\n\" id=\"DejaVuSans-118\"/>\n     <path d=\"M 8.5 21.578125 \nL 8.5 54.6875 \nL 17.484375 54.6875 \nL 17.484375 21.921875 \nQ 17.484375 14.15625 20.5 10.265625 \nQ 23.53125 6.390625 29.59375 6.390625 \nQ 36.859375 6.390625 41.078125 11.03125 \nQ 45.3125 15.671875 45.3125 23.6875 \nL 45.3125 54.6875 \nL 54.296875 54.6875 \nL 54.296875 0 \nL 45.3125 0 \nL 45.3125 8.40625 \nQ 42.046875 3.421875 37.71875 1 \nQ 33.40625 -1.421875 27.6875 -1.421875 \nQ 18.265625 -1.421875 13.375 4.4375 \nQ 8.5 10.296875 8.5 21.578125 \nz\nM 31.109375 56 \nz\n\" id=\"DejaVuSans-117\"/>\n     <path d=\"M 9.421875 75.984375 \nL 18.40625 75.984375 \nL 18.40625 0 \nL 9.421875 0 \nz\n\" id=\"DejaVuSans-108\"/>\n    </defs>\n    <g transform=\"translate(95.768438 19.965375)scale(0.168 -0.168)\">\n     <use transform=\"translate(0 0.015625)\" xlink:href=\"#DejaVuSans-86\"/>\n     <use transform=\"translate(68.408203 0.015625)\" xlink:href=\"#DejaVuSans-101\"/>\n     <use transform=\"translate(129.931641 0.015625)\" xlink:href=\"#DejaVuSans-99\"/>\n     <use transform=\"translate(184.912109 0.015625)\" xlink:href=\"#DejaVuSans-116\"/>\n     <use transform=\"translate(224.121094 0.015625)\" xlink:href=\"#DejaVuSans-111\"/>\n     <use transform=\"translate(285.302734 0.015625)\" xlink:href=\"#DejaVuSans-114\"/>\n     <use transform=\"translate(326.416016 0.015625)\" xlink:href=\"#DejaVuSans-32\"/>\n     <use transform=\"translate(358.203125 0.015625)\" xlink:href=\"#DejaVuSans-Bold-118\"/>\n     <use transform=\"translate(423.388672 0.015625)\" xlink:href=\"#DejaVuSans-32\"/>\n     <use transform=\"translate(455.175781 0.015625)\" xlink:href=\"#DejaVuSans-105\"/>\n     <use transform=\"translate(482.958984 0.015625)\" xlink:href=\"#DejaVuSans-110\"/>\n     <use transform=\"translate(546.337891 0.015625)\" xlink:href=\"#DejaVuSans-32\"/>\n     <use transform=\"translate(578.125 0.015625)\" xlink:href=\"#DejaVuSans-118\"/>\n     <use transform=\"translate(637.304688 0.015625)\" xlink:href=\"#DejaVuSans-97\"/>\n     <use transform=\"translate(698.583984 0.015625)\" xlink:href=\"#DejaVuSans-114\"/>\n     <use transform=\"translate(739.697266 0.015625)\" xlink:href=\"#DejaVuSans-105\"/>\n     <use transform=\"translate(767.480469 0.015625)\" xlink:href=\"#DejaVuSans-111\"/>\n     <use transform=\"translate(828.662109 0.015625)\" xlink:href=\"#DejaVuSans-117\"/>\n     <use transform=\"translate(892.041016 0.015625)\" xlink:href=\"#DejaVuSans-115\"/>\n     <use transform=\"translate(944.140625 0.015625)\" xlink:href=\"#DejaVuSans-32\"/>\n     <use transform=\"translate(975.927734 0.015625)\" xlink:href=\"#DejaVuSans-108\"/>\n     <use transform=\"translate(1003.710938 0.015625)\" xlink:href=\"#DejaVuSans-111\"/>\n     <use transform=\"translate(1064.892578 0.015625)\" xlink:href=\"#DejaVuSans-99\"/>\n     <use transform=\"translate(1119.873047 0.015625)\" xlink:href=\"#DejaVuSans-97\"/>\n     <use transform=\"translate(1181.152344 0.015625)\" xlink:href=\"#DejaVuSans-116\"/>\n     <use transform=\"translate(1220.361328 0.015625)\" xlink:href=\"#DejaVuSans-105\"/>\n     <use transform=\"translate(1248.144531 0.015625)\" xlink:href=\"#DejaVuSans-111\"/>\n     <use transform=\"translate(1309.326172 0.015625)\" xlink:href=\"#DejaVuSans-110\"/>\n     <use transform=\"translate(1372.705078 0.015625)\" xlink:href=\"#DejaVuSans-115\"/>\n    </g>\n   </g>\n  </g>\n </g>\n <defs>\n  <clipPath id=\"p7dff001fe3\">\n   <rect height=\"326.16\" width=\"326.16\" x=\"52.388438\" y=\"25.965375\"/>\n  </clipPath>\n </defs>\n</svg>\n"
          },
          "metadata": {
            "needs_background": "light"
          }
        }
      ]
    },
    {
      "cell_type": "markdown",
      "metadata": {
        "id": "RmDpBhPLfBRx"
      },
      "source": [
        "# Adding vectors"
      ]
    },
    {
      "cell_type": "code",
      "metadata": {
        "id": "9na0binQg4tg",
        "colab": {
          "base_uri": "https://localhost:8080/"
        },
        "outputId": "35d1f09e-3add-4097-ac59-8ec330bd25c5"
      },
      "source": [
        "# Using 2D vectors here instead of 3D vectors in the book to facilitate visualization\n",
        "v = np.array([1,2])\n",
        "w = np.array([4,-6])\n",
        "vPlusW = v+w\n",
        "\n",
        "# print out all three vectors\n",
        "print(v)\n",
        "print(w)\n",
        "print(vPlusW)\n",
        "\n",
        "# Note that here we don't need to worry about vector orientation (row vs. column), \n",
        "# so for simplicity the vectors are created orientationless."
      ],
      "execution_count": 54,
      "outputs": [
        {
          "output_type": "stream",
          "name": "stdout",
          "text": [
            "[1 2]\n",
            "[ 4 -6]\n",
            "[ 5 -4]\n"
          ]
        }
      ]
    },
    {
      "cell_type": "code",
      "metadata": {
        "id": "6WUKBXsCALJm"
      },
      "source": [
        "# Where's the code to generate Figure 3-2? \n",
        "# It's exercise 0!"
      ],
      "execution_count": 55,
      "outputs": []
    },
    {
      "cell_type": "markdown",
      "metadata": {
        "id": "TGxmt6X3Cj6w"
      },
      "source": [
        "# Subtracting vectors"
      ]
    },
    {
      "cell_type": "code",
      "metadata": {
        "id": "bqZj44Z3Cmrx",
        "colab": {
          "base_uri": "https://localhost:8080/"
        },
        "outputId": "b23fc342-bcb4-4f17-a823-1fb26567bc85"
      },
      "source": [
        "# Same v and w as above for comparison\n",
        "vMinusW = v-w\n",
        "\n",
        "# print out all three vectors\n",
        "print(v)\n",
        "print(w)\n",
        "print(vMinusW)"
      ],
      "execution_count": 56,
      "outputs": [
        {
          "output_type": "stream",
          "name": "stdout",
          "text": [
            "[1 2]\n",
            "[ 4 -6]\n",
            "[-3  8]\n"
          ]
        }
      ]
    },
    {
      "cell_type": "code",
      "metadata": {
        "id": "wMHKSzKFCc_3"
      },
      "source": [
        "# Code for Figure 3-2 is part of Exercise 0."
      ],
      "execution_count": 57,
      "outputs": []
    },
    {
      "cell_type": "markdown",
      "metadata": {
        "id": "_kSQSRE-fBUp"
      },
      "source": [
        "# Vector-scalar multiplication"
      ]
    },
    {
      "cell_type": "code",
      "metadata": {
        "id": "stq0frvmihiN",
        "colab": {
          "base_uri": "https://localhost:8080/"
        },
        "outputId": "3d9fea61-0710-4309-a5c5-9e67ab3d571b"
      },
      "source": [
        "# a scalar\n",
        "s = -1/2\n",
        "\n",
        "# a vector\n",
        "b = np.array([3,4])\n",
        "\n",
        "# print them\n",
        "print(b*s)\n",
        "\n",
        "# Question: Does vector b need to be a numpy array? What happens if it's a list?"
      ],
      "execution_count": 58,
      "outputs": [
        {
          "output_type": "stream",
          "name": "stdout",
          "text": [
            "[-1.5 -2. ]\n"
          ]
        }
      ]
    },
    {
      "cell_type": "code",
      "source": [
        "# Scalar-vector addition\n",
        "s = 3.5\n",
        "\n",
        "print(v)\n",
        "print(s+v)"
      ],
      "metadata": {
        "id": "jgNODDx_ltdn",
        "colab": {
          "base_uri": "https://localhost:8080/"
        },
        "outputId": "4e2ae8a6-5f3d-454c-896d-80e84284105f"
      },
      "execution_count": 59,
      "outputs": [
        {
          "output_type": "stream",
          "name": "stdout",
          "text": [
            "[1 2]\n",
            "[4.5 5.5]\n"
          ]
        }
      ]
    },
    {
      "cell_type": "code",
      "metadata": {
        "id": "WXEjiVKJihk8",
        "colab": {
          "base_uri": "https://localhost:8080/",
          "height": 365
        },
        "outputId": "a69f3066-090b-49c4-cc8a-2242ca5fc270"
      },
      "source": [
        "# plot\n",
        "plt.plot([0,b[0]],[0,b[1]],'m--',linewidth=3,label='b')\n",
        "plt.plot([0,s*b[0]],[0,s*b[1]],'k:',linewidth=3,label='sb')\n",
        "\n",
        "plt.grid()\n",
        "plt.axis('square')\n",
        "plt.axis([-6,6,-6,6])\n",
        "plt.legend()\n",
        "plt.show()"
      ],
      "execution_count": 60,
      "outputs": [
        {
          "output_type": "display_data",
          "data": {
            "text/plain": [
              "<Figure size 432x288 with 1 Axes>"
            ],
            "image/svg+xml": "<?xml version=\"1.0\" encoding=\"utf-8\" standalone=\"no\"?>\n<!DOCTYPE svg PUBLIC \"-//W3C//DTD SVG 1.1//EN\"\n  \"http://www.w3.org/Graphics/SVG/1.1/DTD/svg11.dtd\">\n<!-- Created with matplotlib (https://matplotlib.org/) -->\n<svg height=\"257.708281pt\" version=\"1.1\" viewBox=\"0 0 259.479062 257.708281\" width=\"259.479062pt\" xmlns=\"http://www.w3.org/2000/svg\" xmlns:xlink=\"http://www.w3.org/1999/xlink\">\n <defs>\n  <style type=\"text/css\">\n*{stroke-linecap:butt;stroke-linejoin:round;}\n  </style>\n </defs>\n <g id=\"figure_1\">\n  <g id=\"patch_1\">\n   <path d=\"M 0 257.708281 \nL 259.479062 257.708281 \nL 259.479062 0 \nL 0 0 \nz\n\" style=\"fill:none;\"/>\n  </g>\n  <g id=\"axes_1\">\n   <g id=\"patch_2\">\n    <path d=\"M 34.839063 229.958906 \nL 252.279063 229.958906 \nL 252.279063 12.518906 \nL 34.839063 12.518906 \nz\n\" style=\"fill:#ffffff;\"/>\n   </g>\n   <g id=\"matplotlib.axis_1\">\n    <g id=\"xtick_1\">\n     <g id=\"line2d_1\">\n      <path clip-path=\"url(#pe0b1a37ea9)\" d=\"M 52.959063 229.958906 \nL 52.959063 12.518906 \n\" style=\"fill:none;stroke:#b0b0b0;stroke-linecap:square;stroke-width:0.8;\"/>\n     </g>\n     <g id=\"line2d_2\">\n      <defs>\n       <path d=\"M 0 0 \nL 0 3.5 \n\" id=\"m4892d593c2\" style=\"stroke:#000000;stroke-width:0.8;\"/>\n      </defs>\n      <g>\n       <use style=\"stroke:#000000;stroke-width:0.8;\" x=\"52.959063\" xlink:href=\"#m4892d593c2\" y=\"229.958906\"/>\n      </g>\n     </g>\n     <g id=\"text_1\">\n      <!-- −5.0 -->\n      <defs>\n       <path d=\"M 10.59375 35.5 \nL 73.1875 35.5 \nL 73.1875 27.203125 \nL 10.59375 27.203125 \nz\n\" id=\"DejaVuSans-8722\"/>\n       <path d=\"M 10.796875 72.90625 \nL 49.515625 72.90625 \nL 49.515625 64.59375 \nL 19.828125 64.59375 \nL 19.828125 46.734375 \nQ 21.96875 47.46875 24.109375 47.828125 \nQ 26.265625 48.1875 28.421875 48.1875 \nQ 40.625 48.1875 47.75 41.5 \nQ 54.890625 34.8125 54.890625 23.390625 \nQ 54.890625 11.625 47.5625 5.09375 \nQ 40.234375 -1.421875 26.90625 -1.421875 \nQ 22.3125 -1.421875 17.546875 -0.640625 \nQ 12.796875 0.140625 7.71875 1.703125 \nL 7.71875 11.625 \nQ 12.109375 9.234375 16.796875 8.0625 \nQ 21.484375 6.890625 26.703125 6.890625 \nQ 35.15625 6.890625 40.078125 11.328125 \nQ 45.015625 15.765625 45.015625 23.390625 \nQ 45.015625 31 40.078125 35.4375 \nQ 35.15625 39.890625 26.703125 39.890625 \nQ 22.75 39.890625 18.8125 39.015625 \nQ 14.890625 38.140625 10.796875 36.28125 \nz\n\" id=\"DejaVuSans-53\"/>\n       <path d=\"M 10.6875 12.40625 \nL 21 12.40625 \nL 21 0 \nL 10.6875 0 \nz\n\" id=\"DejaVuSans-46\"/>\n       <path d=\"M 31.78125 66.40625 \nQ 24.171875 66.40625 20.328125 58.90625 \nQ 16.5 51.421875 16.5 36.375 \nQ 16.5 21.390625 20.328125 13.890625 \nQ 24.171875 6.390625 31.78125 6.390625 \nQ 39.453125 6.390625 43.28125 13.890625 \nQ 47.125 21.390625 47.125 36.375 \nQ 47.125 51.421875 43.28125 58.90625 \nQ 39.453125 66.40625 31.78125 66.40625 \nz\nM 31.78125 74.21875 \nQ 44.046875 74.21875 50.515625 64.515625 \nQ 56.984375 54.828125 56.984375 36.375 \nQ 56.984375 17.96875 50.515625 8.265625 \nQ 44.046875 -1.421875 31.78125 -1.421875 \nQ 19.53125 -1.421875 13.0625 8.265625 \nQ 6.59375 17.96875 6.59375 36.375 \nQ 6.59375 54.828125 13.0625 64.515625 \nQ 19.53125 74.21875 31.78125 74.21875 \nz\n\" id=\"DejaVuSans-48\"/>\n      </defs>\n      <g transform=\"translate(35.961094 247.596719)scale(0.14 -0.14)\">\n       <use xlink:href=\"#DejaVuSans-8722\"/>\n       <use x=\"83.789062\" xlink:href=\"#DejaVuSans-53\"/>\n       <use x=\"147.412109\" xlink:href=\"#DejaVuSans-46\"/>\n       <use x=\"179.199219\" xlink:href=\"#DejaVuSans-48\"/>\n      </g>\n     </g>\n    </g>\n    <g id=\"xtick_2\">\n     <g id=\"line2d_3\">\n      <path clip-path=\"url(#pe0b1a37ea9)\" d=\"M 98.259063 229.958906 \nL 98.259063 12.518906 \n\" style=\"fill:none;stroke:#b0b0b0;stroke-linecap:square;stroke-width:0.8;\"/>\n     </g>\n     <g id=\"line2d_4\">\n      <g>\n       <use style=\"stroke:#000000;stroke-width:0.8;\" x=\"98.259063\" xlink:href=\"#m4892d593c2\" y=\"229.958906\"/>\n      </g>\n     </g>\n     <g id=\"text_2\">\n      <!-- −2.5 -->\n      <defs>\n       <path d=\"M 19.1875 8.296875 \nL 53.609375 8.296875 \nL 53.609375 0 \nL 7.328125 0 \nL 7.328125 8.296875 \nQ 12.9375 14.109375 22.625 23.890625 \nQ 32.328125 33.6875 34.8125 36.53125 \nQ 39.546875 41.84375 41.421875 45.53125 \nQ 43.3125 49.21875 43.3125 52.78125 \nQ 43.3125 58.59375 39.234375 62.25 \nQ 35.15625 65.921875 28.609375 65.921875 \nQ 23.96875 65.921875 18.8125 64.3125 \nQ 13.671875 62.703125 7.8125 59.421875 \nL 7.8125 69.390625 \nQ 13.765625 71.78125 18.9375 73 \nQ 24.125 74.21875 28.421875 74.21875 \nQ 39.75 74.21875 46.484375 68.546875 \nQ 53.21875 62.890625 53.21875 53.421875 \nQ 53.21875 48.921875 51.53125 44.890625 \nQ 49.859375 40.875 45.40625 35.40625 \nQ 44.1875 33.984375 37.640625 27.21875 \nQ 31.109375 20.453125 19.1875 8.296875 \nz\n\" id=\"DejaVuSans-50\"/>\n      </defs>\n      <g transform=\"translate(81.261094 247.596719)scale(0.14 -0.14)\">\n       <use xlink:href=\"#DejaVuSans-8722\"/>\n       <use x=\"83.789062\" xlink:href=\"#DejaVuSans-50\"/>\n       <use x=\"147.412109\" xlink:href=\"#DejaVuSans-46\"/>\n       <use x=\"179.199219\" xlink:href=\"#DejaVuSans-53\"/>\n      </g>\n     </g>\n    </g>\n    <g id=\"xtick_3\">\n     <g id=\"line2d_5\">\n      <path clip-path=\"url(#pe0b1a37ea9)\" d=\"M 143.559063 229.958906 \nL 143.559063 12.518906 \n\" style=\"fill:none;stroke:#b0b0b0;stroke-linecap:square;stroke-width:0.8;\"/>\n     </g>\n     <g id=\"line2d_6\">\n      <g>\n       <use style=\"stroke:#000000;stroke-width:0.8;\" x=\"143.559063\" xlink:href=\"#m4892d593c2\" y=\"229.958906\"/>\n      </g>\n     </g>\n     <g id=\"text_3\">\n      <!-- 0.0 -->\n      <g transform=\"translate(132.426875 247.596719)scale(0.14 -0.14)\">\n       <use xlink:href=\"#DejaVuSans-48\"/>\n       <use x=\"63.623047\" xlink:href=\"#DejaVuSans-46\"/>\n       <use x=\"95.410156\" xlink:href=\"#DejaVuSans-48\"/>\n      </g>\n     </g>\n    </g>\n    <g id=\"xtick_4\">\n     <g id=\"line2d_7\">\n      <path clip-path=\"url(#pe0b1a37ea9)\" d=\"M 188.859062 229.958906 \nL 188.859062 12.518906 \n\" style=\"fill:none;stroke:#b0b0b0;stroke-linecap:square;stroke-width:0.8;\"/>\n     </g>\n     <g id=\"line2d_8\">\n      <g>\n       <use style=\"stroke:#000000;stroke-width:0.8;\" x=\"188.859062\" xlink:href=\"#m4892d593c2\" y=\"229.958906\"/>\n      </g>\n     </g>\n     <g id=\"text_4\">\n      <!-- 2.5 -->\n      <g transform=\"translate(177.726875 247.596719)scale(0.14 -0.14)\">\n       <use xlink:href=\"#DejaVuSans-50\"/>\n       <use x=\"63.623047\" xlink:href=\"#DejaVuSans-46\"/>\n       <use x=\"95.410156\" xlink:href=\"#DejaVuSans-53\"/>\n      </g>\n     </g>\n    </g>\n    <g id=\"xtick_5\">\n     <g id=\"line2d_9\">\n      <path clip-path=\"url(#pe0b1a37ea9)\" d=\"M 234.159063 229.958906 \nL 234.159063 12.518906 \n\" style=\"fill:none;stroke:#b0b0b0;stroke-linecap:square;stroke-width:0.8;\"/>\n     </g>\n     <g id=\"line2d_10\">\n      <g>\n       <use style=\"stroke:#000000;stroke-width:0.8;\" x=\"234.159063\" xlink:href=\"#m4892d593c2\" y=\"229.958906\"/>\n      </g>\n     </g>\n     <g id=\"text_5\">\n      <!-- 5.0 -->\n      <g transform=\"translate(223.026875 247.596719)scale(0.14 -0.14)\">\n       <use xlink:href=\"#DejaVuSans-53\"/>\n       <use x=\"63.623047\" xlink:href=\"#DejaVuSans-46\"/>\n       <use x=\"95.410156\" xlink:href=\"#DejaVuSans-48\"/>\n      </g>\n     </g>\n    </g>\n   </g>\n   <g id=\"matplotlib.axis_2\">\n    <g id=\"ytick_1\">\n     <g id=\"line2d_11\">\n      <path clip-path=\"url(#pe0b1a37ea9)\" d=\"M 34.839063 229.958906 \nL 252.279063 229.958906 \n\" style=\"fill:none;stroke:#b0b0b0;stroke-linecap:square;stroke-width:0.8;\"/>\n     </g>\n     <g id=\"line2d_12\">\n      <defs>\n       <path d=\"M 0 0 \nL -3.5 0 \n\" id=\"m15d9732524\" style=\"stroke:#000000;stroke-width:0.8;\"/>\n      </defs>\n      <g>\n       <use style=\"stroke:#000000;stroke-width:0.8;\" x=\"34.839063\" xlink:href=\"#m15d9732524\" y=\"229.958906\"/>\n      </g>\n     </g>\n     <g id=\"text_6\">\n      <!-- −6 -->\n      <defs>\n       <path d=\"M 33.015625 40.375 \nQ 26.375 40.375 22.484375 35.828125 \nQ 18.609375 31.296875 18.609375 23.390625 \nQ 18.609375 15.53125 22.484375 10.953125 \nQ 26.375 6.390625 33.015625 6.390625 \nQ 39.65625 6.390625 43.53125 10.953125 \nQ 47.40625 15.53125 47.40625 23.390625 \nQ 47.40625 31.296875 43.53125 35.828125 \nQ 39.65625 40.375 33.015625 40.375 \nz\nM 52.59375 71.296875 \nL 52.59375 62.3125 \nQ 48.875 64.0625 45.09375 64.984375 \nQ 41.3125 65.921875 37.59375 65.921875 \nQ 27.828125 65.921875 22.671875 59.328125 \nQ 17.53125 52.734375 16.796875 39.40625 \nQ 19.671875 43.65625 24.015625 45.921875 \nQ 28.375 48.1875 33.59375 48.1875 \nQ 44.578125 48.1875 50.953125 41.515625 \nQ 57.328125 34.859375 57.328125 23.390625 \nQ 57.328125 12.15625 50.6875 5.359375 \nQ 44.046875 -1.421875 33.015625 -1.421875 \nQ 20.359375 -1.421875 13.671875 8.265625 \nQ 6.984375 17.96875 6.984375 36.375 \nQ 6.984375 53.65625 15.1875 63.9375 \nQ 23.390625 74.21875 37.203125 74.21875 \nQ 40.921875 74.21875 44.703125 73.484375 \nQ 48.484375 72.75 52.59375 71.296875 \nz\n\" id=\"DejaVuSans-54\"/>\n      </defs>\n      <g transform=\"translate(7.2 235.277813)scale(0.14 -0.14)\">\n       <use xlink:href=\"#DejaVuSans-8722\"/>\n       <use x=\"83.789062\" xlink:href=\"#DejaVuSans-54\"/>\n      </g>\n     </g>\n    </g>\n    <g id=\"ytick_2\">\n     <g id=\"line2d_13\">\n      <path clip-path=\"url(#pe0b1a37ea9)\" d=\"M 34.839063 193.718906 \nL 252.279063 193.718906 \n\" style=\"fill:none;stroke:#b0b0b0;stroke-linecap:square;stroke-width:0.8;\"/>\n     </g>\n     <g id=\"line2d_14\">\n      <g>\n       <use style=\"stroke:#000000;stroke-width:0.8;\" x=\"34.839063\" xlink:href=\"#m15d9732524\" y=\"193.718906\"/>\n      </g>\n     </g>\n     <g id=\"text_7\">\n      <!-- −4 -->\n      <defs>\n       <path d=\"M 37.796875 64.3125 \nL 12.890625 25.390625 \nL 37.796875 25.390625 \nz\nM 35.203125 72.90625 \nL 47.609375 72.90625 \nL 47.609375 25.390625 \nL 58.015625 25.390625 \nL 58.015625 17.1875 \nL 47.609375 17.1875 \nL 47.609375 0 \nL 37.796875 0 \nL 37.796875 17.1875 \nL 4.890625 17.1875 \nL 4.890625 26.703125 \nz\n\" id=\"DejaVuSans-52\"/>\n      </defs>\n      <g transform=\"translate(7.2 199.037813)scale(0.14 -0.14)\">\n       <use xlink:href=\"#DejaVuSans-8722\"/>\n       <use x=\"83.789062\" xlink:href=\"#DejaVuSans-52\"/>\n      </g>\n     </g>\n    </g>\n    <g id=\"ytick_3\">\n     <g id=\"line2d_15\">\n      <path clip-path=\"url(#pe0b1a37ea9)\" d=\"M 34.839063 157.478906 \nL 252.279063 157.478906 \n\" style=\"fill:none;stroke:#b0b0b0;stroke-linecap:square;stroke-width:0.8;\"/>\n     </g>\n     <g id=\"line2d_16\">\n      <g>\n       <use style=\"stroke:#000000;stroke-width:0.8;\" x=\"34.839063\" xlink:href=\"#m15d9732524\" y=\"157.478906\"/>\n      </g>\n     </g>\n     <g id=\"text_8\">\n      <!-- −2 -->\n      <g transform=\"translate(7.2 162.797813)scale(0.14 -0.14)\">\n       <use xlink:href=\"#DejaVuSans-8722\"/>\n       <use x=\"83.789062\" xlink:href=\"#DejaVuSans-50\"/>\n      </g>\n     </g>\n    </g>\n    <g id=\"ytick_4\">\n     <g id=\"line2d_17\">\n      <path clip-path=\"url(#pe0b1a37ea9)\" d=\"M 34.839063 121.238906 \nL 252.279063 121.238906 \n\" style=\"fill:none;stroke:#b0b0b0;stroke-linecap:square;stroke-width:0.8;\"/>\n     </g>\n     <g id=\"line2d_18\">\n      <g>\n       <use style=\"stroke:#000000;stroke-width:0.8;\" x=\"34.839063\" xlink:href=\"#m15d9732524\" y=\"121.238906\"/>\n      </g>\n     </g>\n     <g id=\"text_9\">\n      <!-- 0 -->\n      <g transform=\"translate(18.931563 126.557813)scale(0.14 -0.14)\">\n       <use xlink:href=\"#DejaVuSans-48\"/>\n      </g>\n     </g>\n    </g>\n    <g id=\"ytick_5\">\n     <g id=\"line2d_19\">\n      <path clip-path=\"url(#pe0b1a37ea9)\" d=\"M 34.839063 84.998906 \nL 252.279063 84.998906 \n\" style=\"fill:none;stroke:#b0b0b0;stroke-linecap:square;stroke-width:0.8;\"/>\n     </g>\n     <g id=\"line2d_20\">\n      <g>\n       <use style=\"stroke:#000000;stroke-width:0.8;\" x=\"34.839063\" xlink:href=\"#m15d9732524\" y=\"84.998906\"/>\n      </g>\n     </g>\n     <g id=\"text_10\">\n      <!-- 2 -->\n      <g transform=\"translate(18.931563 90.317813)scale(0.14 -0.14)\">\n       <use xlink:href=\"#DejaVuSans-50\"/>\n      </g>\n     </g>\n    </g>\n    <g id=\"ytick_6\">\n     <g id=\"line2d_21\">\n      <path clip-path=\"url(#pe0b1a37ea9)\" d=\"M 34.839063 48.758906 \nL 252.279063 48.758906 \n\" style=\"fill:none;stroke:#b0b0b0;stroke-linecap:square;stroke-width:0.8;\"/>\n     </g>\n     <g id=\"line2d_22\">\n      <g>\n       <use style=\"stroke:#000000;stroke-width:0.8;\" x=\"34.839063\" xlink:href=\"#m15d9732524\" y=\"48.758906\"/>\n      </g>\n     </g>\n     <g id=\"text_11\">\n      <!-- 4 -->\n      <g transform=\"translate(18.931563 54.077813)scale(0.14 -0.14)\">\n       <use xlink:href=\"#DejaVuSans-52\"/>\n      </g>\n     </g>\n    </g>\n    <g id=\"ytick_7\">\n     <g id=\"line2d_23\">\n      <path clip-path=\"url(#pe0b1a37ea9)\" d=\"M 34.839063 12.518906 \nL 252.279063 12.518906 \n\" style=\"fill:none;stroke:#b0b0b0;stroke-linecap:square;stroke-width:0.8;\"/>\n     </g>\n     <g id=\"line2d_24\">\n      <g>\n       <use style=\"stroke:#000000;stroke-width:0.8;\" x=\"34.839063\" xlink:href=\"#m15d9732524\" y=\"12.518906\"/>\n      </g>\n     </g>\n     <g id=\"text_12\">\n      <!-- 6 -->\n      <g transform=\"translate(18.931563 17.837813)scale(0.14 -0.14)\">\n       <use xlink:href=\"#DejaVuSans-54\"/>\n      </g>\n     </g>\n    </g>\n   </g>\n   <g id=\"line2d_25\">\n    <path clip-path=\"url(#pe0b1a37ea9)\" d=\"M 143.559063 121.238906 \nL 197.919062 48.758906 \n\" style=\"fill:none;stroke:#bf00bf;stroke-dasharray:11.1,4.8;stroke-dashoffset:0;stroke-width:3;\"/>\n   </g>\n   <g id=\"line2d_26\">\n    <path clip-path=\"url(#pe0b1a37ea9)\" d=\"M 143.559063 121.238906 \nL 235.238242 -1 \n\" style=\"fill:none;stroke:#000000;stroke-dasharray:3,4.95;stroke-dashoffset:0;stroke-width:3;\"/>\n   </g>\n   <g id=\"patch_3\">\n    <path d=\"M 34.839063 229.958906 \nL 34.839063 12.518906 \n\" style=\"fill:none;stroke:#000000;stroke-linecap:square;stroke-linejoin:miter;stroke-width:0.8;\"/>\n   </g>\n   <g id=\"patch_4\">\n    <path d=\"M 252.279063 229.958906 \nL 252.279063 12.518906 \n\" style=\"fill:none;stroke:#000000;stroke-linecap:square;stroke-linejoin:miter;stroke-width:0.8;\"/>\n   </g>\n   <g id=\"patch_5\">\n    <path d=\"M 34.839063 229.958906 \nL 252.279063 229.958906 \n\" style=\"fill:none;stroke:#000000;stroke-linecap:square;stroke-linejoin:miter;stroke-width:0.8;\"/>\n   </g>\n   <g id=\"patch_6\">\n    <path d=\"M 34.839063 12.518906 \nL 252.279063 12.518906 \n\" style=\"fill:none;stroke:#000000;stroke-linecap:square;stroke-linejoin:miter;stroke-width:0.8;\"/>\n   </g>\n   <g id=\"legend_1\">\n    <g id=\"patch_7\">\n     <path d=\"M 44.639063 64.817656 \nL 105.62 64.817656 \nQ 108.42 64.817656 108.42 62.017656 \nL 108.42 22.318906 \nQ 108.42 19.518906 105.62 19.518906 \nL 44.639063 19.518906 \nQ 41.839063 19.518906 41.839063 22.318906 \nL 41.839063 62.017656 \nQ 41.839063 64.817656 44.639063 64.817656 \nz\n\" style=\"fill:#ffffff;opacity:0.8;stroke:#cccccc;stroke-linejoin:miter;\"/>\n    </g>\n    <g id=\"line2d_27\">\n     <path d=\"M 47.439063 30.856719 \nL 75.439063 30.856719 \n\" style=\"fill:none;stroke:#bf00bf;stroke-dasharray:11.1,4.8;stroke-dashoffset:0;stroke-width:3;\"/>\n    </g>\n    <g id=\"line2d_28\"/>\n    <g id=\"text_13\">\n     <!-- b -->\n     <defs>\n      <path d=\"M 48.6875 27.296875 \nQ 48.6875 37.203125 44.609375 42.84375 \nQ 40.53125 48.484375 33.40625 48.484375 \nQ 26.265625 48.484375 22.1875 42.84375 \nQ 18.109375 37.203125 18.109375 27.296875 \nQ 18.109375 17.390625 22.1875 11.75 \nQ 26.265625 6.109375 33.40625 6.109375 \nQ 40.53125 6.109375 44.609375 11.75 \nQ 48.6875 17.390625 48.6875 27.296875 \nz\nM 18.109375 46.390625 \nQ 20.953125 51.265625 25.265625 53.625 \nQ 29.59375 56 35.59375 56 \nQ 45.5625 56 51.78125 48.09375 \nQ 58.015625 40.1875 58.015625 27.296875 \nQ 58.015625 14.40625 51.78125 6.484375 \nQ 45.5625 -1.421875 35.59375 -1.421875 \nQ 29.59375 -1.421875 25.265625 0.953125 \nQ 20.953125 3.328125 18.109375 8.203125 \nL 18.109375 0 \nL 9.078125 0 \nL 9.078125 75.984375 \nL 18.109375 75.984375 \nz\n\" id=\"DejaVuSans-98\"/>\n     </defs>\n     <g transform=\"translate(86.639063 35.756719)scale(0.14 -0.14)\">\n      <use xlink:href=\"#DejaVuSans-98\"/>\n     </g>\n    </g>\n    <g id=\"line2d_29\">\n     <path d=\"M 47.439063 51.406094 \nL 75.439063 51.406094 \n\" style=\"fill:none;stroke:#000000;stroke-dasharray:3,4.95;stroke-dashoffset:0;stroke-width:3;\"/>\n    </g>\n    <g id=\"line2d_30\"/>\n    <g id=\"text_14\">\n     <!-- sb -->\n     <defs>\n      <path d=\"M 44.28125 53.078125 \nL 44.28125 44.578125 \nQ 40.484375 46.53125 36.375 47.5 \nQ 32.28125 48.484375 27.875 48.484375 \nQ 21.1875 48.484375 17.84375 46.4375 \nQ 14.5 44.390625 14.5 40.28125 \nQ 14.5 37.15625 16.890625 35.375 \nQ 19.28125 33.59375 26.515625 31.984375 \nL 29.59375 31.296875 \nQ 39.15625 29.25 43.1875 25.515625 \nQ 47.21875 21.78125 47.21875 15.09375 \nQ 47.21875 7.46875 41.1875 3.015625 \nQ 35.15625 -1.421875 24.609375 -1.421875 \nQ 20.21875 -1.421875 15.453125 -0.5625 \nQ 10.6875 0.296875 5.421875 2 \nL 5.421875 11.28125 \nQ 10.40625 8.6875 15.234375 7.390625 \nQ 20.0625 6.109375 24.8125 6.109375 \nQ 31.15625 6.109375 34.5625 8.28125 \nQ 37.984375 10.453125 37.984375 14.40625 \nQ 37.984375 18.0625 35.515625 20.015625 \nQ 33.0625 21.96875 24.703125 23.78125 \nL 21.578125 24.515625 \nQ 13.234375 26.265625 9.515625 29.90625 \nQ 5.8125 33.546875 5.8125 39.890625 \nQ 5.8125 47.609375 11.28125 51.796875 \nQ 16.75 56 26.8125 56 \nQ 31.78125 56 36.171875 55.265625 \nQ 40.578125 54.546875 44.28125 53.078125 \nz\n\" id=\"DejaVuSans-115\"/>\n     </defs>\n     <g transform=\"translate(86.639063 56.306094)scale(0.14 -0.14)\">\n      <use xlink:href=\"#DejaVuSans-115\"/>\n      <use x=\"52.099609\" xlink:href=\"#DejaVuSans-98\"/>\n     </g>\n    </g>\n   </g>\n  </g>\n </g>\n <defs>\n  <clipPath id=\"pe0b1a37ea9\">\n   <rect height=\"217.44\" width=\"217.44\" x=\"34.839063\" y=\"12.518906\"/>\n  </clipPath>\n </defs>\n</svg>\n"
          },
          "metadata": {
            "needs_background": "light"
          }
        }
      ]
    },
    {
      "cell_type": "code",
      "metadata": {
        "id": "VI1nLhJyihns",
        "colab": {
          "base_uri": "https://localhost:8080/",
          "height": 282
        },
        "outputId": "bf365cdf-653f-4baa-b9f9-731a8689ea54"
      },
      "source": [
        "# Effects of different scalars\n",
        "\n",
        "# a list of scalars:\n",
        "scalars = [ 1, 2, 1/3, 0, -2/3 ]\n",
        "\n",
        "baseVector = np.array([ .75,1 ])\n",
        "\n",
        "# create a figure\n",
        "fig,axs = plt.subplots(1,len(scalars),figsize=(12,3))\n",
        "i = 0 # axis counter\n",
        "\n",
        "for s in scalars:\n",
        "\n",
        "  # compute the scaled vector\n",
        "  v = s*baseVector\n",
        "\n",
        "  # plot it\n",
        "  axs[i].arrow(0,0,baseVector[0],baseVector[1],head_width=.3,width=.1,color='k',length_includes_head=True)\n",
        "  axs[i].arrow(.1,0,v[0],v[1],head_width=.3,width=.1,color=[.75,.75,.75],length_includes_head=True)\n",
        "  axs[i].grid(linestyle='--')\n",
        "  axs[i].axis('square')\n",
        "  axs[i].axis([-2.5,2.5,-2.5,2.5])\n",
        "  axs[i].set(xticks=np.arange(-2,3), yticks=np.arange(-2,3))\n",
        "  axs[i].set_title(f'$\\sigma$ = {s:.2f}')\n",
        "  i+=1 # update axis counter\n",
        "\n",
        "plt.tight_layout()\n",
        "plt.savefig('Figure_02_03.png',dpi=300)\n",
        "plt.show()\n"
      ],
      "execution_count": 61,
      "outputs": [
        {
          "output_type": "display_data",
          "data": {
            "text/plain": [
              "<Figure size 864x216 with 5 Axes>"
            ],
            "image/svg+xml": "<?xml version=\"1.0\" encoding=\"utf-8\" standalone=\"no\"?>\n<!DOCTYPE svg PUBLIC \"-//W3C//DTD SVG 1.1//EN\"\n  \"http://www.w3.org/Graphics/SVG/1.1/DTD/svg11.dtd\">\n<!-- Created with matplotlib (https://matplotlib.org/) -->\n<svg height=\"180.74575pt\" version=\"1.1\" viewBox=\"0 0 848.174062 180.74575\" width=\"848.174062pt\" xmlns=\"http://www.w3.org/2000/svg\" xmlns:xlink=\"http://www.w3.org/1999/xlink\">\n <defs>\n  <style type=\"text/css\">\n*{stroke-linecap:butt;stroke-linejoin:round;}\n  </style>\n </defs>\n <g id=\"figure_1\">\n  <g id=\"patch_1\">\n   <path d=\"M 0 180.74575 \nL 848.174062 180.74575 \nL 848.174062 0 \nL 0 0 \nz\n\" style=\"fill:none;\"/>\n  </g>\n  <g id=\"axes_1\">\n   <g id=\"patch_2\">\n    <path d=\"M 34.839063 152.996375 \nL 161.870062 152.996375 \nL 161.870062 25.965375 \nL 34.839063 25.965375 \nz\n\" style=\"fill:#ffffff;\"/>\n   </g>\n   <g id=\"patch_3\">\n    <path clip-path=\"url(#pae9f529cc8)\" d=\"M 117.409212 64.074675 \nL 113.598282 75.507465 \nL 111.565786 73.983093 \nL 99.37081 90.243061 \nL 97.338314 88.718689 \nL 109.53329 72.458721 \nL 107.500794 70.934349 \nz\n\" style=\"stroke:#000000;stroke-linejoin:miter;\"/>\n   </g>\n   <g id=\"patch_4\">\n    <path clip-path=\"url(#pae9f529cc8)\" d=\"M 119.949832 64.074675 \nL 116.138902 75.507465 \nL 114.106406 73.983093 \nL 101.91143 90.243061 \nL 99.878934 88.718689 \nL 112.07391 72.458721 \nL 110.041414 70.934349 \nz\n\" style=\"fill:#bfbfbf;stroke:#bfbfbf;stroke-linejoin:miter;\"/>\n   </g>\n   <g id=\"matplotlib.axis_1\">\n    <g id=\"xtick_1\">\n     <g id=\"line2d_1\">\n      <path clip-path=\"url(#pae9f529cc8)\" d=\"M 47.542162 152.996375 \nL 47.542162 25.965375 \n\" style=\"fill:none;stroke:#b0b0b0;stroke-dasharray:2.96,1.28;stroke-dashoffset:0;stroke-width:0.8;\"/>\n     </g>\n     <g id=\"line2d_2\">\n      <defs>\n       <path d=\"M 0 0 \nL 0 3.5 \n\" id=\"m092047770b\" style=\"stroke:#000000;stroke-width:0.8;\"/>\n      </defs>\n      <g>\n       <use style=\"stroke:#000000;stroke-width:0.8;\" x=\"47.542162\" xlink:href=\"#m092047770b\" y=\"152.996375\"/>\n      </g>\n     </g>\n     <g id=\"text_1\">\n      <!-- −2 -->\n      <defs>\n       <path d=\"M 10.59375 35.5 \nL 73.1875 35.5 \nL 73.1875 27.203125 \nL 10.59375 27.203125 \nz\n\" id=\"DejaVuSans-8722\"/>\n       <path d=\"M 19.1875 8.296875 \nL 53.609375 8.296875 \nL 53.609375 0 \nL 7.328125 0 \nL 7.328125 8.296875 \nQ 12.9375 14.109375 22.625 23.890625 \nQ 32.328125 33.6875 34.8125 36.53125 \nQ 39.546875 41.84375 41.421875 45.53125 \nQ 43.3125 49.21875 43.3125 52.78125 \nQ 43.3125 58.59375 39.234375 62.25 \nQ 35.15625 65.921875 28.609375 65.921875 \nQ 23.96875 65.921875 18.8125 64.3125 \nQ 13.671875 62.703125 7.8125 59.421875 \nL 7.8125 69.390625 \nQ 13.765625 71.78125 18.9375 73 \nQ 24.125 74.21875 28.421875 74.21875 \nQ 39.75 74.21875 46.484375 68.546875 \nQ 53.21875 62.890625 53.21875 53.421875 \nQ 53.21875 48.921875 51.53125 44.890625 \nQ 49.859375 40.875 45.40625 35.40625 \nQ 44.1875 33.984375 37.640625 27.21875 \nQ 31.109375 20.453125 19.1875 8.296875 \nz\n\" id=\"DejaVuSans-50\"/>\n      </defs>\n      <g transform=\"translate(37.222631 170.634187)scale(0.14 -0.14)\">\n       <use xlink:href=\"#DejaVuSans-8722\"/>\n       <use x=\"83.789062\" xlink:href=\"#DejaVuSans-50\"/>\n      </g>\n     </g>\n    </g>\n    <g id=\"xtick_2\">\n     <g id=\"line2d_3\">\n      <path clip-path=\"url(#pae9f529cc8)\" d=\"M 72.948362 152.996375 \nL 72.948362 25.965375 \n\" style=\"fill:none;stroke:#b0b0b0;stroke-dasharray:2.96,1.28;stroke-dashoffset:0;stroke-width:0.8;\"/>\n     </g>\n     <g id=\"line2d_4\">\n      <g>\n       <use style=\"stroke:#000000;stroke-width:0.8;\" x=\"72.948362\" xlink:href=\"#m092047770b\" y=\"152.996375\"/>\n      </g>\n     </g>\n     <g id=\"text_2\">\n      <!-- −1 -->\n      <defs>\n       <path d=\"M 12.40625 8.296875 \nL 28.515625 8.296875 \nL 28.515625 63.921875 \nL 10.984375 60.40625 \nL 10.984375 69.390625 \nL 28.421875 72.90625 \nL 38.28125 72.90625 \nL 38.28125 8.296875 \nL 54.390625 8.296875 \nL 54.390625 0 \nL 12.40625 0 \nz\n\" id=\"DejaVuSans-49\"/>\n      </defs>\n      <g transform=\"translate(62.628831 170.634187)scale(0.14 -0.14)\">\n       <use xlink:href=\"#DejaVuSans-8722\"/>\n       <use x=\"83.789062\" xlink:href=\"#DejaVuSans-49\"/>\n      </g>\n     </g>\n    </g>\n    <g id=\"xtick_3\">\n     <g id=\"line2d_5\">\n      <path clip-path=\"url(#pae9f529cc8)\" d=\"M 98.354562 152.996375 \nL 98.354562 25.965375 \n\" style=\"fill:none;stroke:#b0b0b0;stroke-dasharray:2.96,1.28;stroke-dashoffset:0;stroke-width:0.8;\"/>\n     </g>\n     <g id=\"line2d_6\">\n      <g>\n       <use style=\"stroke:#000000;stroke-width:0.8;\" x=\"98.354562\" xlink:href=\"#m092047770b\" y=\"152.996375\"/>\n      </g>\n     </g>\n     <g id=\"text_3\">\n      <!-- 0 -->\n      <defs>\n       <path d=\"M 31.78125 66.40625 \nQ 24.171875 66.40625 20.328125 58.90625 \nQ 16.5 51.421875 16.5 36.375 \nQ 16.5 21.390625 20.328125 13.890625 \nQ 24.171875 6.390625 31.78125 6.390625 \nQ 39.453125 6.390625 43.28125 13.890625 \nQ 47.125 21.390625 47.125 36.375 \nQ 47.125 51.421875 43.28125 58.90625 \nQ 39.453125 66.40625 31.78125 66.40625 \nz\nM 31.78125 74.21875 \nQ 44.046875 74.21875 50.515625 64.515625 \nQ 56.984375 54.828125 56.984375 36.375 \nQ 56.984375 17.96875 50.515625 8.265625 \nQ 44.046875 -1.421875 31.78125 -1.421875 \nQ 19.53125 -1.421875 13.0625 8.265625 \nQ 6.59375 17.96875 6.59375 36.375 \nQ 6.59375 54.828125 13.0625 64.515625 \nQ 19.53125 74.21875 31.78125 74.21875 \nz\n\" id=\"DejaVuSans-48\"/>\n      </defs>\n      <g transform=\"translate(93.900812 170.634187)scale(0.14 -0.14)\">\n       <use xlink:href=\"#DejaVuSans-48\"/>\n      </g>\n     </g>\n    </g>\n    <g id=\"xtick_4\">\n     <g id=\"line2d_7\">\n      <path clip-path=\"url(#pae9f529cc8)\" d=\"M 123.760762 152.996375 \nL 123.760762 25.965375 \n\" style=\"fill:none;stroke:#b0b0b0;stroke-dasharray:2.96,1.28;stroke-dashoffset:0;stroke-width:0.8;\"/>\n     </g>\n     <g id=\"line2d_8\">\n      <g>\n       <use style=\"stroke:#000000;stroke-width:0.8;\" x=\"123.760762\" xlink:href=\"#m092047770b\" y=\"152.996375\"/>\n      </g>\n     </g>\n     <g id=\"text_4\">\n      <!-- 1 -->\n      <g transform=\"translate(119.307012 170.634187)scale(0.14 -0.14)\">\n       <use xlink:href=\"#DejaVuSans-49\"/>\n      </g>\n     </g>\n    </g>\n    <g id=\"xtick_5\">\n     <g id=\"line2d_9\">\n      <path clip-path=\"url(#pae9f529cc8)\" d=\"M 149.166962 152.996375 \nL 149.166962 25.965375 \n\" style=\"fill:none;stroke:#b0b0b0;stroke-dasharray:2.96,1.28;stroke-dashoffset:0;stroke-width:0.8;\"/>\n     </g>\n     <g id=\"line2d_10\">\n      <g>\n       <use style=\"stroke:#000000;stroke-width:0.8;\" x=\"149.166962\" xlink:href=\"#m092047770b\" y=\"152.996375\"/>\n      </g>\n     </g>\n     <g id=\"text_5\">\n      <!-- 2 -->\n      <g transform=\"translate(144.713212 170.634187)scale(0.14 -0.14)\">\n       <use xlink:href=\"#DejaVuSans-50\"/>\n      </g>\n     </g>\n    </g>\n   </g>\n   <g id=\"matplotlib.axis_2\">\n    <g id=\"ytick_1\">\n     <g id=\"line2d_11\">\n      <path clip-path=\"url(#pae9f529cc8)\" d=\"M 34.839063 140.293275 \nL 161.870062 140.293275 \n\" style=\"fill:none;stroke:#b0b0b0;stroke-dasharray:2.96,1.28;stroke-dashoffset:0;stroke-width:0.8;\"/>\n     </g>\n     <g id=\"line2d_12\">\n      <defs>\n       <path d=\"M 0 0 \nL -3.5 0 \n\" id=\"m882cb0e696\" style=\"stroke:#000000;stroke-width:0.8;\"/>\n      </defs>\n      <g>\n       <use style=\"stroke:#000000;stroke-width:0.8;\" x=\"34.839063\" xlink:href=\"#m882cb0e696\" y=\"140.293275\"/>\n      </g>\n     </g>\n     <g id=\"text_6\">\n      <!-- −2 -->\n      <g transform=\"translate(7.2 145.612181)scale(0.14 -0.14)\">\n       <use xlink:href=\"#DejaVuSans-8722\"/>\n       <use x=\"83.789062\" xlink:href=\"#DejaVuSans-50\"/>\n      </g>\n     </g>\n    </g>\n    <g id=\"ytick_2\">\n     <g id=\"line2d_13\">\n      <path clip-path=\"url(#pae9f529cc8)\" d=\"M 34.839063 114.887075 \nL 161.870062 114.887075 \n\" style=\"fill:none;stroke:#b0b0b0;stroke-dasharray:2.96,1.28;stroke-dashoffset:0;stroke-width:0.8;\"/>\n     </g>\n     <g id=\"line2d_14\">\n      <g>\n       <use style=\"stroke:#000000;stroke-width:0.8;\" x=\"34.839063\" xlink:href=\"#m882cb0e696\" y=\"114.887075\"/>\n      </g>\n     </g>\n     <g id=\"text_7\">\n      <!-- −1 -->\n      <g transform=\"translate(7.2 120.205981)scale(0.14 -0.14)\">\n       <use xlink:href=\"#DejaVuSans-8722\"/>\n       <use x=\"83.789062\" xlink:href=\"#DejaVuSans-49\"/>\n      </g>\n     </g>\n    </g>\n    <g id=\"ytick_3\">\n     <g id=\"line2d_15\">\n      <path clip-path=\"url(#pae9f529cc8)\" d=\"M 34.839063 89.480875 \nL 161.870062 89.480875 \n\" style=\"fill:none;stroke:#b0b0b0;stroke-dasharray:2.96,1.28;stroke-dashoffset:0;stroke-width:0.8;\"/>\n     </g>\n     <g id=\"line2d_16\">\n      <g>\n       <use style=\"stroke:#000000;stroke-width:0.8;\" x=\"34.839063\" xlink:href=\"#m882cb0e696\" y=\"89.480875\"/>\n      </g>\n     </g>\n     <g id=\"text_8\">\n      <!-- 0 -->\n      <g transform=\"translate(18.931563 94.799781)scale(0.14 -0.14)\">\n       <use xlink:href=\"#DejaVuSans-48\"/>\n      </g>\n     </g>\n    </g>\n    <g id=\"ytick_4\">\n     <g id=\"line2d_17\">\n      <path clip-path=\"url(#pae9f529cc8)\" d=\"M 34.839063 64.074675 \nL 161.870062 64.074675 \n\" style=\"fill:none;stroke:#b0b0b0;stroke-dasharray:2.96,1.28;stroke-dashoffset:0;stroke-width:0.8;\"/>\n     </g>\n     <g id=\"line2d_18\">\n      <g>\n       <use style=\"stroke:#000000;stroke-width:0.8;\" x=\"34.839063\" xlink:href=\"#m882cb0e696\" y=\"64.074675\"/>\n      </g>\n     </g>\n     <g id=\"text_9\">\n      <!-- 1 -->\n      <g transform=\"translate(18.931563 69.393581)scale(0.14 -0.14)\">\n       <use xlink:href=\"#DejaVuSans-49\"/>\n      </g>\n     </g>\n    </g>\n    <g id=\"ytick_5\">\n     <g id=\"line2d_19\">\n      <path clip-path=\"url(#pae9f529cc8)\" d=\"M 34.839063 38.668475 \nL 161.870062 38.668475 \n\" style=\"fill:none;stroke:#b0b0b0;stroke-dasharray:2.96,1.28;stroke-dashoffset:0;stroke-width:0.8;\"/>\n     </g>\n     <g id=\"line2d_20\">\n      <g>\n       <use style=\"stroke:#000000;stroke-width:0.8;\" x=\"34.839063\" xlink:href=\"#m882cb0e696\" y=\"38.668475\"/>\n      </g>\n     </g>\n     <g id=\"text_10\">\n      <!-- 2 -->\n      <g transform=\"translate(18.931563 43.987381)scale(0.14 -0.14)\">\n       <use xlink:href=\"#DejaVuSans-50\"/>\n      </g>\n     </g>\n    </g>\n   </g>\n   <g id=\"patch_5\">\n    <path d=\"M 34.839063 152.996375 \nL 34.839063 25.965375 \n\" style=\"fill:none;stroke:#000000;stroke-linecap:square;stroke-linejoin:miter;stroke-width:0.8;\"/>\n   </g>\n   <g id=\"patch_6\">\n    <path d=\"M 161.870062 152.996375 \nL 161.870062 25.965375 \n\" style=\"fill:none;stroke:#000000;stroke-linecap:square;stroke-linejoin:miter;stroke-width:0.8;\"/>\n   </g>\n   <g id=\"patch_7\">\n    <path d=\"M 34.839062 152.996375 \nL 161.870062 152.996375 \n\" style=\"fill:none;stroke:#000000;stroke-linecap:square;stroke-linejoin:miter;stroke-width:0.8;\"/>\n   </g>\n   <g id=\"patch_8\">\n    <path d=\"M 34.839062 25.965375 \nL 161.870062 25.965375 \n\" style=\"fill:none;stroke:#000000;stroke-linecap:square;stroke-linejoin:miter;stroke-width:0.8;\"/>\n   </g>\n   <g id=\"text_11\">\n    <!-- $\\sigma$ = 1.00 -->\n    <defs>\n     <path d=\"M 34.671875 47.5625 \nQ 27.25 47.5625 22.21875 42.1875 \nQ 16.890625 36.578125 15.140625 27.296875 \nQ 13.1875 17.484375 16.3125 11.8125 \nQ 19.390625 6.203125 26.65625 6.203125 \nQ 33.84375 6.203125 39.109375 11.859375 \nQ 44.4375 17.53125 46.34375 27.296875 \nQ 48.046875 36.234375 45.015625 42.1875 \nQ 42.1875 47.5625 34.671875 47.5625 \nz\nM 36.078125 54.734375 \nL 65.921875 54.6875 \nL 64.15625 45.703125 \nL 54.109375 45.703125 \nQ 57.90625 38.09375 55.859375 27.296875 \nQ 53.21875 13.875 45.0625 6.25 \nQ 36.859375 -1.421875 25.140625 -1.421875 \nQ 13.375 -1.421875 8.203125 6.25 \nQ 3.03125 13.875 5.671875 27.296875 \nQ 8.25 40.765625 16.40625 48.390625 \nQ 23.1875 54.734375 36.078125 54.734375 \nz\n\" id=\"DejaVuSans-Oblique-963\"/>\n     <path id=\"DejaVuSans-32\"/>\n     <path d=\"M 10.59375 45.40625 \nL 73.1875 45.40625 \nL 73.1875 37.203125 \nL 10.59375 37.203125 \nz\nM 10.59375 25.484375 \nL 73.1875 25.484375 \nL 73.1875 17.1875 \nL 10.59375 17.1875 \nz\n\" id=\"DejaVuSans-61\"/>\n     <path d=\"M 10.6875 12.40625 \nL 21 12.40625 \nL 21 0 \nL 10.6875 0 \nz\n\" id=\"DejaVuSans-46\"/>\n    </defs>\n    <g transform=\"translate(61.898562 19.965375)scale(0.168 -0.168)\">\n     <use transform=\"translate(0 0.78125)\" xlink:href=\"#DejaVuSans-Oblique-963\"/>\n     <use transform=\"translate(63.378906 0.78125)\" xlink:href=\"#DejaVuSans-32\"/>\n     <use transform=\"translate(95.166016 0.78125)\" xlink:href=\"#DejaVuSans-61\"/>\n     <use transform=\"translate(178.955078 0.78125)\" xlink:href=\"#DejaVuSans-32\"/>\n     <use transform=\"translate(210.742188 0.78125)\" xlink:href=\"#DejaVuSans-49\"/>\n     <use transform=\"translate(274.365234 0.78125)\" xlink:href=\"#DejaVuSans-46\"/>\n     <use transform=\"translate(306.152344 0.78125)\" xlink:href=\"#DejaVuSans-48\"/>\n     <use transform=\"translate(369.775391 0.78125)\" xlink:href=\"#DejaVuSans-48\"/>\n    </g>\n   </g>\n  </g>\n  <g id=\"axes_2\">\n   <g id=\"patch_9\">\n    <path d=\"M 204.615063 152.996375 \nL 331.646063 152.996375 \nL 331.646063 25.965375 \nL 204.615063 25.965375 \nz\n\" style=\"fill:#ffffff;\"/>\n   </g>\n   <g id=\"patch_10\">\n    <path clip-path=\"url(#p3667f1eccd)\" d=\"M 287.185213 64.074675 \nL 283.374283 75.507465 \nL 281.341787 73.983093 \nL 269.146811 90.243061 \nL 267.114315 88.718689 \nL 279.309291 72.458721 \nL 277.276795 70.934349 \nz\n\" style=\"stroke:#000000;stroke-linejoin:miter;\"/>\n   </g>\n   <g id=\"patch_11\">\n    <path clip-path=\"url(#p3667f1eccd)\" d=\"M 308.780483 38.668475 \nL 304.969553 50.101265 \nL 302.937057 48.576893 \nL 271.687431 90.243061 \nL 269.654935 88.718689 \nL 300.904561 47.052521 \nL 298.872065 45.528149 \nz\n\" style=\"fill:#bfbfbf;stroke:#bfbfbf;stroke-linejoin:miter;\"/>\n   </g>\n   <g id=\"matplotlib.axis_3\">\n    <g id=\"xtick_6\">\n     <g id=\"line2d_21\">\n      <path clip-path=\"url(#p3667f1eccd)\" d=\"M 217.318163 152.996375 \nL 217.318163 25.965375 \n\" style=\"fill:none;stroke:#b0b0b0;stroke-dasharray:2.96,1.28;stroke-dashoffset:0;stroke-width:0.8;\"/>\n     </g>\n     <g id=\"line2d_22\">\n      <g>\n       <use style=\"stroke:#000000;stroke-width:0.8;\" x=\"217.318163\" xlink:href=\"#m092047770b\" y=\"152.996375\"/>\n      </g>\n     </g>\n     <g id=\"text_12\">\n      <!-- −2 -->\n      <g transform=\"translate(206.998631 170.634187)scale(0.14 -0.14)\">\n       <use xlink:href=\"#DejaVuSans-8722\"/>\n       <use x=\"83.789062\" xlink:href=\"#DejaVuSans-50\"/>\n      </g>\n     </g>\n    </g>\n    <g id=\"xtick_7\">\n     <g id=\"line2d_23\">\n      <path clip-path=\"url(#p3667f1eccd)\" d=\"M 242.724363 152.996375 \nL 242.724363 25.965375 \n\" style=\"fill:none;stroke:#b0b0b0;stroke-dasharray:2.96,1.28;stroke-dashoffset:0;stroke-width:0.8;\"/>\n     </g>\n     <g id=\"line2d_24\">\n      <g>\n       <use style=\"stroke:#000000;stroke-width:0.8;\" x=\"242.724363\" xlink:href=\"#m092047770b\" y=\"152.996375\"/>\n      </g>\n     </g>\n     <g id=\"text_13\">\n      <!-- −1 -->\n      <g transform=\"translate(232.404831 170.634187)scale(0.14 -0.14)\">\n       <use xlink:href=\"#DejaVuSans-8722\"/>\n       <use x=\"83.789062\" xlink:href=\"#DejaVuSans-49\"/>\n      </g>\n     </g>\n    </g>\n    <g id=\"xtick_8\">\n     <g id=\"line2d_25\">\n      <path clip-path=\"url(#p3667f1eccd)\" d=\"M 268.130563 152.996375 \nL 268.130563 25.965375 \n\" style=\"fill:none;stroke:#b0b0b0;stroke-dasharray:2.96,1.28;stroke-dashoffset:0;stroke-width:0.8;\"/>\n     </g>\n     <g id=\"line2d_26\">\n      <g>\n       <use style=\"stroke:#000000;stroke-width:0.8;\" x=\"268.130563\" xlink:href=\"#m092047770b\" y=\"152.996375\"/>\n      </g>\n     </g>\n     <g id=\"text_14\">\n      <!-- 0 -->\n      <g transform=\"translate(263.676813 170.634187)scale(0.14 -0.14)\">\n       <use xlink:href=\"#DejaVuSans-48\"/>\n      </g>\n     </g>\n    </g>\n    <g id=\"xtick_9\">\n     <g id=\"line2d_27\">\n      <path clip-path=\"url(#p3667f1eccd)\" d=\"M 293.536763 152.996375 \nL 293.536763 25.965375 \n\" style=\"fill:none;stroke:#b0b0b0;stroke-dasharray:2.96,1.28;stroke-dashoffset:0;stroke-width:0.8;\"/>\n     </g>\n     <g id=\"line2d_28\">\n      <g>\n       <use style=\"stroke:#000000;stroke-width:0.8;\" x=\"293.536763\" xlink:href=\"#m092047770b\" y=\"152.996375\"/>\n      </g>\n     </g>\n     <g id=\"text_15\">\n      <!-- 1 -->\n      <g transform=\"translate(289.083013 170.634187)scale(0.14 -0.14)\">\n       <use xlink:href=\"#DejaVuSans-49\"/>\n      </g>\n     </g>\n    </g>\n    <g id=\"xtick_10\">\n     <g id=\"line2d_29\">\n      <path clip-path=\"url(#p3667f1eccd)\" d=\"M 318.942963 152.996375 \nL 318.942963 25.965375 \n\" style=\"fill:none;stroke:#b0b0b0;stroke-dasharray:2.96,1.28;stroke-dashoffset:0;stroke-width:0.8;\"/>\n     </g>\n     <g id=\"line2d_30\">\n      <g>\n       <use style=\"stroke:#000000;stroke-width:0.8;\" x=\"318.942963\" xlink:href=\"#m092047770b\" y=\"152.996375\"/>\n      </g>\n     </g>\n     <g id=\"text_16\">\n      <!-- 2 -->\n      <g transform=\"translate(314.489213 170.634187)scale(0.14 -0.14)\">\n       <use xlink:href=\"#DejaVuSans-50\"/>\n      </g>\n     </g>\n    </g>\n   </g>\n   <g id=\"matplotlib.axis_4\">\n    <g id=\"ytick_6\">\n     <g id=\"line2d_31\">\n      <path clip-path=\"url(#p3667f1eccd)\" d=\"M 204.615063 140.293275 \nL 331.646063 140.293275 \n\" style=\"fill:none;stroke:#b0b0b0;stroke-dasharray:2.96,1.28;stroke-dashoffset:0;stroke-width:0.8;\"/>\n     </g>\n     <g id=\"line2d_32\">\n      <g>\n       <use style=\"stroke:#000000;stroke-width:0.8;\" x=\"204.615063\" xlink:href=\"#m882cb0e696\" y=\"140.293275\"/>\n      </g>\n     </g>\n     <g id=\"text_17\">\n      <!-- −2 -->\n      <g transform=\"translate(176.976 145.612181)scale(0.14 -0.14)\">\n       <use xlink:href=\"#DejaVuSans-8722\"/>\n       <use x=\"83.789062\" xlink:href=\"#DejaVuSans-50\"/>\n      </g>\n     </g>\n    </g>\n    <g id=\"ytick_7\">\n     <g id=\"line2d_33\">\n      <path clip-path=\"url(#p3667f1eccd)\" d=\"M 204.615063 114.887075 \nL 331.646063 114.887075 \n\" style=\"fill:none;stroke:#b0b0b0;stroke-dasharray:2.96,1.28;stroke-dashoffset:0;stroke-width:0.8;\"/>\n     </g>\n     <g id=\"line2d_34\">\n      <g>\n       <use style=\"stroke:#000000;stroke-width:0.8;\" x=\"204.615063\" xlink:href=\"#m882cb0e696\" y=\"114.887075\"/>\n      </g>\n     </g>\n     <g id=\"text_18\">\n      <!-- −1 -->\n      <g transform=\"translate(176.976 120.205981)scale(0.14 -0.14)\">\n       <use xlink:href=\"#DejaVuSans-8722\"/>\n       <use x=\"83.789062\" xlink:href=\"#DejaVuSans-49\"/>\n      </g>\n     </g>\n    </g>\n    <g id=\"ytick_8\">\n     <g id=\"line2d_35\">\n      <path clip-path=\"url(#p3667f1eccd)\" d=\"M 204.615063 89.480875 \nL 331.646063 89.480875 \n\" style=\"fill:none;stroke:#b0b0b0;stroke-dasharray:2.96,1.28;stroke-dashoffset:0;stroke-width:0.8;\"/>\n     </g>\n     <g id=\"line2d_36\">\n      <g>\n       <use style=\"stroke:#000000;stroke-width:0.8;\" x=\"204.615063\" xlink:href=\"#m882cb0e696\" y=\"89.480875\"/>\n      </g>\n     </g>\n     <g id=\"text_19\">\n      <!-- 0 -->\n      <g transform=\"translate(188.707563 94.799781)scale(0.14 -0.14)\">\n       <use xlink:href=\"#DejaVuSans-48\"/>\n      </g>\n     </g>\n    </g>\n    <g id=\"ytick_9\">\n     <g id=\"line2d_37\">\n      <path clip-path=\"url(#p3667f1eccd)\" d=\"M 204.615063 64.074675 \nL 331.646063 64.074675 \n\" style=\"fill:none;stroke:#b0b0b0;stroke-dasharray:2.96,1.28;stroke-dashoffset:0;stroke-width:0.8;\"/>\n     </g>\n     <g id=\"line2d_38\">\n      <g>\n       <use style=\"stroke:#000000;stroke-width:0.8;\" x=\"204.615063\" xlink:href=\"#m882cb0e696\" y=\"64.074675\"/>\n      </g>\n     </g>\n     <g id=\"text_20\">\n      <!-- 1 -->\n      <g transform=\"translate(188.707563 69.393581)scale(0.14 -0.14)\">\n       <use xlink:href=\"#DejaVuSans-49\"/>\n      </g>\n     </g>\n    </g>\n    <g id=\"ytick_10\">\n     <g id=\"line2d_39\">\n      <path clip-path=\"url(#p3667f1eccd)\" d=\"M 204.615063 38.668475 \nL 331.646063 38.668475 \n\" style=\"fill:none;stroke:#b0b0b0;stroke-dasharray:2.96,1.28;stroke-dashoffset:0;stroke-width:0.8;\"/>\n     </g>\n     <g id=\"line2d_40\">\n      <g>\n       <use style=\"stroke:#000000;stroke-width:0.8;\" x=\"204.615063\" xlink:href=\"#m882cb0e696\" y=\"38.668475\"/>\n      </g>\n     </g>\n     <g id=\"text_21\">\n      <!-- 2 -->\n      <g transform=\"translate(188.707563 43.987381)scale(0.14 -0.14)\">\n       <use xlink:href=\"#DejaVuSans-50\"/>\n      </g>\n     </g>\n    </g>\n   </g>\n   <g id=\"patch_12\">\n    <path d=\"M 204.615063 152.996375 \nL 204.615063 25.965375 \n\" style=\"fill:none;stroke:#000000;stroke-linecap:square;stroke-linejoin:miter;stroke-width:0.8;\"/>\n   </g>\n   <g id=\"patch_13\">\n    <path d=\"M 331.646063 152.996375 \nL 331.646063 25.965375 \n\" style=\"fill:none;stroke:#000000;stroke-linecap:square;stroke-linejoin:miter;stroke-width:0.8;\"/>\n   </g>\n   <g id=\"patch_14\">\n    <path d=\"M 204.615063 152.996375 \nL 331.646063 152.996375 \n\" style=\"fill:none;stroke:#000000;stroke-linecap:square;stroke-linejoin:miter;stroke-width:0.8;\"/>\n   </g>\n   <g id=\"patch_15\">\n    <path d=\"M 204.615063 25.965375 \nL 331.646063 25.965375 \n\" style=\"fill:none;stroke:#000000;stroke-linecap:square;stroke-linejoin:miter;stroke-width:0.8;\"/>\n   </g>\n   <g id=\"text_22\">\n    <!-- $\\sigma$ = 2.00 -->\n    <g transform=\"translate(231.674563 19.965375)scale(0.168 -0.168)\">\n     <use transform=\"translate(0 0.78125)\" xlink:href=\"#DejaVuSans-Oblique-963\"/>\n     <use transform=\"translate(63.378906 0.78125)\" xlink:href=\"#DejaVuSans-32\"/>\n     <use transform=\"translate(95.166016 0.78125)\" xlink:href=\"#DejaVuSans-61\"/>\n     <use transform=\"translate(178.955078 0.78125)\" xlink:href=\"#DejaVuSans-32\"/>\n     <use transform=\"translate(210.742188 0.78125)\" xlink:href=\"#DejaVuSans-50\"/>\n     <use transform=\"translate(274.365234 0.78125)\" xlink:href=\"#DejaVuSans-46\"/>\n     <use transform=\"translate(306.152344 0.78125)\" xlink:href=\"#DejaVuSans-48\"/>\n     <use transform=\"translate(369.775391 0.78125)\" xlink:href=\"#DejaVuSans-48\"/>\n    </g>\n   </g>\n  </g>\n  <g id=\"axes_3\">\n   <g id=\"patch_16\">\n    <path d=\"M 374.391063 152.996375 \nL 501.422063 152.996375 \nL 501.422063 25.965375 \nL 374.391063 25.965375 \nz\n\" style=\"fill:#ffffff;\"/>\n   </g>\n   <g id=\"patch_17\">\n    <path clip-path=\"url(#pb8ed8d3e97)\" d=\"M 456.961213 64.074675 \nL 453.150283 75.507465 \nL 451.117787 73.983093 \nL 438.922811 90.243061 \nL 436.890315 88.718689 \nL 449.085291 72.458721 \nL 447.052795 70.934349 \nz\n\" style=\"stroke:#000000;stroke-linejoin:miter;\"/>\n   </g>\n   <g id=\"patch_18\">\n    <path clip-path=\"url(#pb8ed8d3e97)\" d=\"M 446.798733 81.012142 \nL 442.987803 92.444932 \nL 440.955307 90.92056 \nL 441.463431 90.243061 \nL 439.430935 88.718689 \nL 438.922811 89.396188 \nL 436.890315 87.871816 \nz\n\" style=\"fill:#bfbfbf;stroke:#bfbfbf;stroke-linejoin:miter;\"/>\n   </g>\n   <g id=\"matplotlib.axis_5\">\n    <g id=\"xtick_11\">\n     <g id=\"line2d_41\">\n      <path clip-path=\"url(#pb8ed8d3e97)\" d=\"M 387.094163 152.996375 \nL 387.094163 25.965375 \n\" style=\"fill:none;stroke:#b0b0b0;stroke-dasharray:2.96,1.28;stroke-dashoffset:0;stroke-width:0.8;\"/>\n     </g>\n     <g id=\"line2d_42\">\n      <g>\n       <use style=\"stroke:#000000;stroke-width:0.8;\" x=\"387.094163\" xlink:href=\"#m092047770b\" y=\"152.996375\"/>\n      </g>\n     </g>\n     <g id=\"text_23\">\n      <!-- −2 -->\n      <g transform=\"translate(376.774631 170.634187)scale(0.14 -0.14)\">\n       <use xlink:href=\"#DejaVuSans-8722\"/>\n       <use x=\"83.789062\" xlink:href=\"#DejaVuSans-50\"/>\n      </g>\n     </g>\n    </g>\n    <g id=\"xtick_12\">\n     <g id=\"line2d_43\">\n      <path clip-path=\"url(#pb8ed8d3e97)\" d=\"M 412.500363 152.996375 \nL 412.500363 25.965375 \n\" style=\"fill:none;stroke:#b0b0b0;stroke-dasharray:2.96,1.28;stroke-dashoffset:0;stroke-width:0.8;\"/>\n     </g>\n     <g id=\"line2d_44\">\n      <g>\n       <use style=\"stroke:#000000;stroke-width:0.8;\" x=\"412.500363\" xlink:href=\"#m092047770b\" y=\"152.996375\"/>\n      </g>\n     </g>\n     <g id=\"text_24\">\n      <!-- −1 -->\n      <g transform=\"translate(402.180831 170.634187)scale(0.14 -0.14)\">\n       <use xlink:href=\"#DejaVuSans-8722\"/>\n       <use x=\"83.789062\" xlink:href=\"#DejaVuSans-49\"/>\n      </g>\n     </g>\n    </g>\n    <g id=\"xtick_13\">\n     <g id=\"line2d_45\">\n      <path clip-path=\"url(#pb8ed8d3e97)\" d=\"M 437.906563 152.996375 \nL 437.906563 25.965375 \n\" style=\"fill:none;stroke:#b0b0b0;stroke-dasharray:2.96,1.28;stroke-dashoffset:0;stroke-width:0.8;\"/>\n     </g>\n     <g id=\"line2d_46\">\n      <g>\n       <use style=\"stroke:#000000;stroke-width:0.8;\" x=\"437.906563\" xlink:href=\"#m092047770b\" y=\"152.996375\"/>\n      </g>\n     </g>\n     <g id=\"text_25\">\n      <!-- 0 -->\n      <g transform=\"translate(433.452813 170.634187)scale(0.14 -0.14)\">\n       <use xlink:href=\"#DejaVuSans-48\"/>\n      </g>\n     </g>\n    </g>\n    <g id=\"xtick_14\">\n     <g id=\"line2d_47\">\n      <path clip-path=\"url(#pb8ed8d3e97)\" d=\"M 463.312763 152.996375 \nL 463.312763 25.965375 \n\" style=\"fill:none;stroke:#b0b0b0;stroke-dasharray:2.96,1.28;stroke-dashoffset:0;stroke-width:0.8;\"/>\n     </g>\n     <g id=\"line2d_48\">\n      <g>\n       <use style=\"stroke:#000000;stroke-width:0.8;\" x=\"463.312763\" xlink:href=\"#m092047770b\" y=\"152.996375\"/>\n      </g>\n     </g>\n     <g id=\"text_26\">\n      <!-- 1 -->\n      <g transform=\"translate(458.859013 170.634187)scale(0.14 -0.14)\">\n       <use xlink:href=\"#DejaVuSans-49\"/>\n      </g>\n     </g>\n    </g>\n    <g id=\"xtick_15\">\n     <g id=\"line2d_49\">\n      <path clip-path=\"url(#pb8ed8d3e97)\" d=\"M 488.718963 152.996375 \nL 488.718963 25.965375 \n\" style=\"fill:none;stroke:#b0b0b0;stroke-dasharray:2.96,1.28;stroke-dashoffset:0;stroke-width:0.8;\"/>\n     </g>\n     <g id=\"line2d_50\">\n      <g>\n       <use style=\"stroke:#000000;stroke-width:0.8;\" x=\"488.718963\" xlink:href=\"#m092047770b\" y=\"152.996375\"/>\n      </g>\n     </g>\n     <g id=\"text_27\">\n      <!-- 2 -->\n      <g transform=\"translate(484.265213 170.634187)scale(0.14 -0.14)\">\n       <use xlink:href=\"#DejaVuSans-50\"/>\n      </g>\n     </g>\n    </g>\n   </g>\n   <g id=\"matplotlib.axis_6\">\n    <g id=\"ytick_11\">\n     <g id=\"line2d_51\">\n      <path clip-path=\"url(#pb8ed8d3e97)\" d=\"M 374.391063 140.293275 \nL 501.422063 140.293275 \n\" style=\"fill:none;stroke:#b0b0b0;stroke-dasharray:2.96,1.28;stroke-dashoffset:0;stroke-width:0.8;\"/>\n     </g>\n     <g id=\"line2d_52\">\n      <g>\n       <use style=\"stroke:#000000;stroke-width:0.8;\" x=\"374.391063\" xlink:href=\"#m882cb0e696\" y=\"140.293275\"/>\n      </g>\n     </g>\n     <g id=\"text_28\">\n      <!-- −2 -->\n      <g transform=\"translate(346.752 145.612181)scale(0.14 -0.14)\">\n       <use xlink:href=\"#DejaVuSans-8722\"/>\n       <use x=\"83.789062\" xlink:href=\"#DejaVuSans-50\"/>\n      </g>\n     </g>\n    </g>\n    <g id=\"ytick_12\">\n     <g id=\"line2d_53\">\n      <path clip-path=\"url(#pb8ed8d3e97)\" d=\"M 374.391063 114.887075 \nL 501.422063 114.887075 \n\" style=\"fill:none;stroke:#b0b0b0;stroke-dasharray:2.96,1.28;stroke-dashoffset:0;stroke-width:0.8;\"/>\n     </g>\n     <g id=\"line2d_54\">\n      <g>\n       <use style=\"stroke:#000000;stroke-width:0.8;\" x=\"374.391063\" xlink:href=\"#m882cb0e696\" y=\"114.887075\"/>\n      </g>\n     </g>\n     <g id=\"text_29\">\n      <!-- −1 -->\n      <g transform=\"translate(346.752 120.205981)scale(0.14 -0.14)\">\n       <use xlink:href=\"#DejaVuSans-8722\"/>\n       <use x=\"83.789062\" xlink:href=\"#DejaVuSans-49\"/>\n      </g>\n     </g>\n    </g>\n    <g id=\"ytick_13\">\n     <g id=\"line2d_55\">\n      <path clip-path=\"url(#pb8ed8d3e97)\" d=\"M 374.391063 89.480875 \nL 501.422063 89.480875 \n\" style=\"fill:none;stroke:#b0b0b0;stroke-dasharray:2.96,1.28;stroke-dashoffset:0;stroke-width:0.8;\"/>\n     </g>\n     <g id=\"line2d_56\">\n      <g>\n       <use style=\"stroke:#000000;stroke-width:0.8;\" x=\"374.391063\" xlink:href=\"#m882cb0e696\" y=\"89.480875\"/>\n      </g>\n     </g>\n     <g id=\"text_30\">\n      <!-- 0 -->\n      <g transform=\"translate(358.483563 94.799781)scale(0.14 -0.14)\">\n       <use xlink:href=\"#DejaVuSans-48\"/>\n      </g>\n     </g>\n    </g>\n    <g id=\"ytick_14\">\n     <g id=\"line2d_57\">\n      <path clip-path=\"url(#pb8ed8d3e97)\" d=\"M 374.391063 64.074675 \nL 501.422063 64.074675 \n\" style=\"fill:none;stroke:#b0b0b0;stroke-dasharray:2.96,1.28;stroke-dashoffset:0;stroke-width:0.8;\"/>\n     </g>\n     <g id=\"line2d_58\">\n      <g>\n       <use style=\"stroke:#000000;stroke-width:0.8;\" x=\"374.391063\" xlink:href=\"#m882cb0e696\" y=\"64.074675\"/>\n      </g>\n     </g>\n     <g id=\"text_31\">\n      <!-- 1 -->\n      <g transform=\"translate(358.483563 69.393581)scale(0.14 -0.14)\">\n       <use xlink:href=\"#DejaVuSans-49\"/>\n      </g>\n     </g>\n    </g>\n    <g id=\"ytick_15\">\n     <g id=\"line2d_59\">\n      <path clip-path=\"url(#pb8ed8d3e97)\" d=\"M 374.391063 38.668475 \nL 501.422063 38.668475 \n\" style=\"fill:none;stroke:#b0b0b0;stroke-dasharray:2.96,1.28;stroke-dashoffset:0;stroke-width:0.8;\"/>\n     </g>\n     <g id=\"line2d_60\">\n      <g>\n       <use style=\"stroke:#000000;stroke-width:0.8;\" x=\"374.391063\" xlink:href=\"#m882cb0e696\" y=\"38.668475\"/>\n      </g>\n     </g>\n     <g id=\"text_32\">\n      <!-- 2 -->\n      <g transform=\"translate(358.483563 43.987381)scale(0.14 -0.14)\">\n       <use xlink:href=\"#DejaVuSans-50\"/>\n      </g>\n     </g>\n    </g>\n   </g>\n   <g id=\"patch_19\">\n    <path d=\"M 374.391063 152.996375 \nL 374.391063 25.965375 \n\" style=\"fill:none;stroke:#000000;stroke-linecap:square;stroke-linejoin:miter;stroke-width:0.8;\"/>\n   </g>\n   <g id=\"patch_20\">\n    <path d=\"M 501.422063 152.996375 \nL 501.422063 25.965375 \n\" style=\"fill:none;stroke:#000000;stroke-linecap:square;stroke-linejoin:miter;stroke-width:0.8;\"/>\n   </g>\n   <g id=\"patch_21\">\n    <path d=\"M 374.391063 152.996375 \nL 501.422063 152.996375 \n\" style=\"fill:none;stroke:#000000;stroke-linecap:square;stroke-linejoin:miter;stroke-width:0.8;\"/>\n   </g>\n   <g id=\"patch_22\">\n    <path d=\"M 374.391063 25.965375 \nL 501.422063 25.965375 \n\" style=\"fill:none;stroke:#000000;stroke-linecap:square;stroke-linejoin:miter;stroke-width:0.8;\"/>\n   </g>\n   <g id=\"text_33\">\n    <!-- $\\sigma$ = 0.33 -->\n    <defs>\n     <path d=\"M 40.578125 39.3125 \nQ 47.65625 37.796875 51.625 33 \nQ 55.609375 28.21875 55.609375 21.1875 \nQ 55.609375 10.40625 48.1875 4.484375 \nQ 40.765625 -1.421875 27.09375 -1.421875 \nQ 22.515625 -1.421875 17.65625 -0.515625 \nQ 12.796875 0.390625 7.625 2.203125 \nL 7.625 11.71875 \nQ 11.71875 9.328125 16.59375 8.109375 \nQ 21.484375 6.890625 26.8125 6.890625 \nQ 36.078125 6.890625 40.9375 10.546875 \nQ 45.796875 14.203125 45.796875 21.1875 \nQ 45.796875 27.640625 41.28125 31.265625 \nQ 36.765625 34.90625 28.71875 34.90625 \nL 20.21875 34.90625 \nL 20.21875 43.015625 \nL 29.109375 43.015625 \nQ 36.375 43.015625 40.234375 45.921875 \nQ 44.09375 48.828125 44.09375 54.296875 \nQ 44.09375 59.90625 40.109375 62.90625 \nQ 36.140625 65.921875 28.71875 65.921875 \nQ 24.65625 65.921875 20.015625 65.03125 \nQ 15.375 64.15625 9.8125 62.3125 \nL 9.8125 71.09375 \nQ 15.4375 72.65625 20.34375 73.4375 \nQ 25.25 74.21875 29.59375 74.21875 \nQ 40.828125 74.21875 47.359375 69.109375 \nQ 53.90625 64.015625 53.90625 55.328125 \nQ 53.90625 49.265625 50.4375 45.09375 \nQ 46.96875 40.921875 40.578125 39.3125 \nz\n\" id=\"DejaVuSans-51\"/>\n    </defs>\n    <g transform=\"translate(401.450563 19.965375)scale(0.168 -0.168)\">\n     <use transform=\"translate(0 0.78125)\" xlink:href=\"#DejaVuSans-Oblique-963\"/>\n     <use transform=\"translate(63.378906 0.78125)\" xlink:href=\"#DejaVuSans-32\"/>\n     <use transform=\"translate(95.166016 0.78125)\" xlink:href=\"#DejaVuSans-61\"/>\n     <use transform=\"translate(178.955078 0.78125)\" xlink:href=\"#DejaVuSans-32\"/>\n     <use transform=\"translate(210.742188 0.78125)\" xlink:href=\"#DejaVuSans-48\"/>\n     <use transform=\"translate(274.365234 0.78125)\" xlink:href=\"#DejaVuSans-46\"/>\n     <use transform=\"translate(306.152344 0.78125)\" xlink:href=\"#DejaVuSans-51\"/>\n     <use transform=\"translate(369.775391 0.78125)\" xlink:href=\"#DejaVuSans-51\"/>\n    </g>\n   </g>\n  </g>\n  <g id=\"axes_4\">\n   <g id=\"patch_23\">\n    <path d=\"M 544.167063 152.996375 \nL 671.198062 152.996375 \nL 671.198062 25.965375 \nL 544.167063 25.965375 \nz\n\" style=\"fill:#ffffff;\"/>\n   </g>\n   <g id=\"patch_24\">\n    <path clip-path=\"url(#p3040d4c71b)\" d=\"M 626.737213 64.074675 \nL 622.926283 75.507465 \nL 620.893787 73.983093 \nL 608.698811 90.243061 \nL 606.666314 88.718689 \nL 618.86129 72.458721 \nL 616.828794 70.934349 \nz\n\" style=\"stroke:#000000;stroke-linejoin:miter;\"/>\n   </g>\n   <g id=\"patch_25\">\n    <path clip-path=\"url(#p3040d4c71b)\" style=\"fill:#bfbfbf;stroke:#bfbfbf;stroke-linejoin:miter;\"/>\n   </g>\n   <g id=\"matplotlib.axis_7\">\n    <g id=\"xtick_16\">\n     <g id=\"line2d_61\">\n      <path clip-path=\"url(#p3040d4c71b)\" d=\"M 556.870162 152.996375 \nL 556.870162 25.965375 \n\" style=\"fill:none;stroke:#b0b0b0;stroke-dasharray:2.96,1.28;stroke-dashoffset:0;stroke-width:0.8;\"/>\n     </g>\n     <g id=\"line2d_62\">\n      <g>\n       <use style=\"stroke:#000000;stroke-width:0.8;\" x=\"556.870162\" xlink:href=\"#m092047770b\" y=\"152.996375\"/>\n      </g>\n     </g>\n     <g id=\"text_34\">\n      <!-- −2 -->\n      <g transform=\"translate(546.550631 170.634187)scale(0.14 -0.14)\">\n       <use xlink:href=\"#DejaVuSans-8722\"/>\n       <use x=\"83.789062\" xlink:href=\"#DejaVuSans-50\"/>\n      </g>\n     </g>\n    </g>\n    <g id=\"xtick_17\">\n     <g id=\"line2d_63\">\n      <path clip-path=\"url(#p3040d4c71b)\" d=\"M 582.276363 152.996375 \nL 582.276363 25.965375 \n\" style=\"fill:none;stroke:#b0b0b0;stroke-dasharray:2.96,1.28;stroke-dashoffset:0;stroke-width:0.8;\"/>\n     </g>\n     <g id=\"line2d_64\">\n      <g>\n       <use style=\"stroke:#000000;stroke-width:0.8;\" x=\"582.276363\" xlink:href=\"#m092047770b\" y=\"152.996375\"/>\n      </g>\n     </g>\n     <g id=\"text_35\">\n      <!-- −1 -->\n      <g transform=\"translate(571.956831 170.634187)scale(0.14 -0.14)\">\n       <use xlink:href=\"#DejaVuSans-8722\"/>\n       <use x=\"83.789062\" xlink:href=\"#DejaVuSans-49\"/>\n      </g>\n     </g>\n    </g>\n    <g id=\"xtick_18\">\n     <g id=\"line2d_65\">\n      <path clip-path=\"url(#p3040d4c71b)\" d=\"M 607.682563 152.996375 \nL 607.682563 25.965375 \n\" style=\"fill:none;stroke:#b0b0b0;stroke-dasharray:2.96,1.28;stroke-dashoffset:0;stroke-width:0.8;\"/>\n     </g>\n     <g id=\"line2d_66\">\n      <g>\n       <use style=\"stroke:#000000;stroke-width:0.8;\" x=\"607.682563\" xlink:href=\"#m092047770b\" y=\"152.996375\"/>\n      </g>\n     </g>\n     <g id=\"text_36\">\n      <!-- 0 -->\n      <g transform=\"translate(603.228813 170.634187)scale(0.14 -0.14)\">\n       <use xlink:href=\"#DejaVuSans-48\"/>\n      </g>\n     </g>\n    </g>\n    <g id=\"xtick_19\">\n     <g id=\"line2d_67\">\n      <path clip-path=\"url(#p3040d4c71b)\" d=\"M 633.088763 152.996375 \nL 633.088763 25.965375 \n\" style=\"fill:none;stroke:#b0b0b0;stroke-dasharray:2.96,1.28;stroke-dashoffset:0;stroke-width:0.8;\"/>\n     </g>\n     <g id=\"line2d_68\">\n      <g>\n       <use style=\"stroke:#000000;stroke-width:0.8;\" x=\"633.088763\" xlink:href=\"#m092047770b\" y=\"152.996375\"/>\n      </g>\n     </g>\n     <g id=\"text_37\">\n      <!-- 1 -->\n      <g transform=\"translate(628.635013 170.634187)scale(0.14 -0.14)\">\n       <use xlink:href=\"#DejaVuSans-49\"/>\n      </g>\n     </g>\n    </g>\n    <g id=\"xtick_20\">\n     <g id=\"line2d_69\">\n      <path clip-path=\"url(#p3040d4c71b)\" d=\"M 658.494963 152.996375 \nL 658.494963 25.965375 \n\" style=\"fill:none;stroke:#b0b0b0;stroke-dasharray:2.96,1.28;stroke-dashoffset:0;stroke-width:0.8;\"/>\n     </g>\n     <g id=\"line2d_70\">\n      <g>\n       <use style=\"stroke:#000000;stroke-width:0.8;\" x=\"658.494963\" xlink:href=\"#m092047770b\" y=\"152.996375\"/>\n      </g>\n     </g>\n     <g id=\"text_38\">\n      <!-- 2 -->\n      <g transform=\"translate(654.041213 170.634187)scale(0.14 -0.14)\">\n       <use xlink:href=\"#DejaVuSans-50\"/>\n      </g>\n     </g>\n    </g>\n   </g>\n   <g id=\"matplotlib.axis_8\">\n    <g id=\"ytick_16\">\n     <g id=\"line2d_71\">\n      <path clip-path=\"url(#p3040d4c71b)\" d=\"M 544.167063 140.293275 \nL 671.198062 140.293275 \n\" style=\"fill:none;stroke:#b0b0b0;stroke-dasharray:2.96,1.28;stroke-dashoffset:0;stroke-width:0.8;\"/>\n     </g>\n     <g id=\"line2d_72\">\n      <g>\n       <use style=\"stroke:#000000;stroke-width:0.8;\" x=\"544.167063\" xlink:href=\"#m882cb0e696\" y=\"140.293275\"/>\n      </g>\n     </g>\n     <g id=\"text_39\">\n      <!-- −2 -->\n      <g transform=\"translate(516.528 145.612181)scale(0.14 -0.14)\">\n       <use xlink:href=\"#DejaVuSans-8722\"/>\n       <use x=\"83.789062\" xlink:href=\"#DejaVuSans-50\"/>\n      </g>\n     </g>\n    </g>\n    <g id=\"ytick_17\">\n     <g id=\"line2d_73\">\n      <path clip-path=\"url(#p3040d4c71b)\" d=\"M 544.167063 114.887075 \nL 671.198062 114.887075 \n\" style=\"fill:none;stroke:#b0b0b0;stroke-dasharray:2.96,1.28;stroke-dashoffset:0;stroke-width:0.8;\"/>\n     </g>\n     <g id=\"line2d_74\">\n      <g>\n       <use style=\"stroke:#000000;stroke-width:0.8;\" x=\"544.167063\" xlink:href=\"#m882cb0e696\" y=\"114.887075\"/>\n      </g>\n     </g>\n     <g id=\"text_40\">\n      <!-- −1 -->\n      <g transform=\"translate(516.528 120.205981)scale(0.14 -0.14)\">\n       <use xlink:href=\"#DejaVuSans-8722\"/>\n       <use x=\"83.789062\" xlink:href=\"#DejaVuSans-49\"/>\n      </g>\n     </g>\n    </g>\n    <g id=\"ytick_18\">\n     <g id=\"line2d_75\">\n      <path clip-path=\"url(#p3040d4c71b)\" d=\"M 544.167063 89.480875 \nL 671.198062 89.480875 \n\" style=\"fill:none;stroke:#b0b0b0;stroke-dasharray:2.96,1.28;stroke-dashoffset:0;stroke-width:0.8;\"/>\n     </g>\n     <g id=\"line2d_76\">\n      <g>\n       <use style=\"stroke:#000000;stroke-width:0.8;\" x=\"544.167063\" xlink:href=\"#m882cb0e696\" y=\"89.480875\"/>\n      </g>\n     </g>\n     <g id=\"text_41\">\n      <!-- 0 -->\n      <g transform=\"translate(528.259563 94.799781)scale(0.14 -0.14)\">\n       <use xlink:href=\"#DejaVuSans-48\"/>\n      </g>\n     </g>\n    </g>\n    <g id=\"ytick_19\">\n     <g id=\"line2d_77\">\n      <path clip-path=\"url(#p3040d4c71b)\" d=\"M 544.167063 64.074675 \nL 671.198062 64.074675 \n\" style=\"fill:none;stroke:#b0b0b0;stroke-dasharray:2.96,1.28;stroke-dashoffset:0;stroke-width:0.8;\"/>\n     </g>\n     <g id=\"line2d_78\">\n      <g>\n       <use style=\"stroke:#000000;stroke-width:0.8;\" x=\"544.167063\" xlink:href=\"#m882cb0e696\" y=\"64.074675\"/>\n      </g>\n     </g>\n     <g id=\"text_42\">\n      <!-- 1 -->\n      <g transform=\"translate(528.259563 69.393581)scale(0.14 -0.14)\">\n       <use xlink:href=\"#DejaVuSans-49\"/>\n      </g>\n     </g>\n    </g>\n    <g id=\"ytick_20\">\n     <g id=\"line2d_79\">\n      <path clip-path=\"url(#p3040d4c71b)\" d=\"M 544.167063 38.668475 \nL 671.198062 38.668475 \n\" style=\"fill:none;stroke:#b0b0b0;stroke-dasharray:2.96,1.28;stroke-dashoffset:0;stroke-width:0.8;\"/>\n     </g>\n     <g id=\"line2d_80\">\n      <g>\n       <use style=\"stroke:#000000;stroke-width:0.8;\" x=\"544.167063\" xlink:href=\"#m882cb0e696\" y=\"38.668475\"/>\n      </g>\n     </g>\n     <g id=\"text_43\">\n      <!-- 2 -->\n      <g transform=\"translate(528.259563 43.987381)scale(0.14 -0.14)\">\n       <use xlink:href=\"#DejaVuSans-50\"/>\n      </g>\n     </g>\n    </g>\n   </g>\n   <g id=\"patch_26\">\n    <path d=\"M 544.167063 152.996375 \nL 544.167063 25.965375 \n\" style=\"fill:none;stroke:#000000;stroke-linecap:square;stroke-linejoin:miter;stroke-width:0.8;\"/>\n   </g>\n   <g id=\"patch_27\">\n    <path d=\"M 671.198062 152.996375 \nL 671.198062 25.965375 \n\" style=\"fill:none;stroke:#000000;stroke-linecap:square;stroke-linejoin:miter;stroke-width:0.8;\"/>\n   </g>\n   <g id=\"patch_28\">\n    <path d=\"M 544.167063 152.996375 \nL 671.198062 152.996375 \n\" style=\"fill:none;stroke:#000000;stroke-linecap:square;stroke-linejoin:miter;stroke-width:0.8;\"/>\n   </g>\n   <g id=\"patch_29\">\n    <path d=\"M 544.167063 25.965375 \nL 671.198062 25.965375 \n\" style=\"fill:none;stroke:#000000;stroke-linecap:square;stroke-linejoin:miter;stroke-width:0.8;\"/>\n   </g>\n   <g id=\"text_44\">\n    <!-- $\\sigma$ = 0.00 -->\n    <g transform=\"translate(571.226562 19.965375)scale(0.168 -0.168)\">\n     <use transform=\"translate(0 0.78125)\" xlink:href=\"#DejaVuSans-Oblique-963\"/>\n     <use transform=\"translate(63.378906 0.78125)\" xlink:href=\"#DejaVuSans-32\"/>\n     <use transform=\"translate(95.166016 0.78125)\" xlink:href=\"#DejaVuSans-61\"/>\n     <use transform=\"translate(178.955078 0.78125)\" xlink:href=\"#DejaVuSans-32\"/>\n     <use transform=\"translate(210.742188 0.78125)\" xlink:href=\"#DejaVuSans-48\"/>\n     <use transform=\"translate(274.365234 0.78125)\" xlink:href=\"#DejaVuSans-46\"/>\n     <use transform=\"translate(306.152344 0.78125)\" xlink:href=\"#DejaVuSans-48\"/>\n     <use transform=\"translate(369.775391 0.78125)\" xlink:href=\"#DejaVuSans-48\"/>\n    </g>\n   </g>\n  </g>\n  <g id=\"axes_5\">\n   <g id=\"patch_30\">\n    <path d=\"M 713.943063 152.996375 \nL 840.974062 152.996375 \nL 840.974062 25.965375 \nL 713.943063 25.965375 \nz\n\" style=\"fill:#ffffff;\"/>\n   </g>\n   <g id=\"patch_31\">\n    <path clip-path=\"url(#p905b8c555b)\" d=\"M 796.513212 64.074675 \nL 792.702282 75.507465 \nL 790.669786 73.983093 \nL 778.47481 90.243061 \nL 776.442314 88.718689 \nL 788.63729 72.458721 \nL 786.604794 70.934349 \nz\n\" style=\"stroke:#000000;stroke-linejoin:miter;\"/>\n   </g>\n   <g id=\"patch_32\">\n    <path clip-path=\"url(#p905b8c555b)\" d=\"M 767.296083 106.418342 \nL 771.107012 94.985552 \nL 773.139508 96.509924 \nL 778.982934 88.718689 \nL 781.01543 90.243061 \nL 775.172004 98.034296 \nL 777.2045 99.558668 \nz\n\" style=\"fill:#bfbfbf;stroke:#bfbfbf;stroke-linejoin:miter;\"/>\n   </g>\n   <g id=\"matplotlib.axis_9\">\n    <g id=\"xtick_21\">\n     <g id=\"line2d_81\">\n      <path clip-path=\"url(#p905b8c555b)\" d=\"M 726.646163 152.996375 \nL 726.646163 25.965375 \n\" style=\"fill:none;stroke:#b0b0b0;stroke-dasharray:2.96,1.28;stroke-dashoffset:0;stroke-width:0.8;\"/>\n     </g>\n     <g id=\"line2d_82\">\n      <g>\n       <use style=\"stroke:#000000;stroke-width:0.8;\" x=\"726.646163\" xlink:href=\"#m092047770b\" y=\"152.996375\"/>\n      </g>\n     </g>\n     <g id=\"text_45\">\n      <!-- −2 -->\n      <g transform=\"translate(716.326631 170.634187)scale(0.14 -0.14)\">\n       <use xlink:href=\"#DejaVuSans-8722\"/>\n       <use x=\"83.789062\" xlink:href=\"#DejaVuSans-50\"/>\n      </g>\n     </g>\n    </g>\n    <g id=\"xtick_22\">\n     <g id=\"line2d_83\">\n      <path clip-path=\"url(#p905b8c555b)\" d=\"M 752.052362 152.996375 \nL 752.052362 25.965375 \n\" style=\"fill:none;stroke:#b0b0b0;stroke-dasharray:2.96,1.28;stroke-dashoffset:0;stroke-width:0.8;\"/>\n     </g>\n     <g id=\"line2d_84\">\n      <g>\n       <use style=\"stroke:#000000;stroke-width:0.8;\" x=\"752.052362\" xlink:href=\"#m092047770b\" y=\"152.996375\"/>\n      </g>\n     </g>\n     <g id=\"text_46\">\n      <!-- −1 -->\n      <g transform=\"translate(741.732831 170.634187)scale(0.14 -0.14)\">\n       <use xlink:href=\"#DejaVuSans-8722\"/>\n       <use x=\"83.789062\" xlink:href=\"#DejaVuSans-49\"/>\n      </g>\n     </g>\n    </g>\n    <g id=\"xtick_23\">\n     <g id=\"line2d_85\">\n      <path clip-path=\"url(#p905b8c555b)\" d=\"M 777.458562 152.996375 \nL 777.458562 25.965375 \n\" style=\"fill:none;stroke:#b0b0b0;stroke-dasharray:2.96,1.28;stroke-dashoffset:0;stroke-width:0.8;\"/>\n     </g>\n     <g id=\"line2d_86\">\n      <g>\n       <use style=\"stroke:#000000;stroke-width:0.8;\" x=\"777.458562\" xlink:href=\"#m092047770b\" y=\"152.996375\"/>\n      </g>\n     </g>\n     <g id=\"text_47\">\n      <!-- 0 -->\n      <g transform=\"translate(773.004812 170.634187)scale(0.14 -0.14)\">\n       <use xlink:href=\"#DejaVuSans-48\"/>\n      </g>\n     </g>\n    </g>\n    <g id=\"xtick_24\">\n     <g id=\"line2d_87\">\n      <path clip-path=\"url(#p905b8c555b)\" d=\"M 802.864762 152.996375 \nL 802.864762 25.965375 \n\" style=\"fill:none;stroke:#b0b0b0;stroke-dasharray:2.96,1.28;stroke-dashoffset:0;stroke-width:0.8;\"/>\n     </g>\n     <g id=\"line2d_88\">\n      <g>\n       <use style=\"stroke:#000000;stroke-width:0.8;\" x=\"802.864762\" xlink:href=\"#m092047770b\" y=\"152.996375\"/>\n      </g>\n     </g>\n     <g id=\"text_48\">\n      <!-- 1 -->\n      <g transform=\"translate(798.411012 170.634187)scale(0.14 -0.14)\">\n       <use xlink:href=\"#DejaVuSans-49\"/>\n      </g>\n     </g>\n    </g>\n    <g id=\"xtick_25\">\n     <g id=\"line2d_89\">\n      <path clip-path=\"url(#p905b8c555b)\" d=\"M 828.270962 152.996375 \nL 828.270962 25.965375 \n\" style=\"fill:none;stroke:#b0b0b0;stroke-dasharray:2.96,1.28;stroke-dashoffset:0;stroke-width:0.8;\"/>\n     </g>\n     <g id=\"line2d_90\">\n      <g>\n       <use style=\"stroke:#000000;stroke-width:0.8;\" x=\"828.270962\" xlink:href=\"#m092047770b\" y=\"152.996375\"/>\n      </g>\n     </g>\n     <g id=\"text_49\">\n      <!-- 2 -->\n      <g transform=\"translate(823.817212 170.634187)scale(0.14 -0.14)\">\n       <use xlink:href=\"#DejaVuSans-50\"/>\n      </g>\n     </g>\n    </g>\n   </g>\n   <g id=\"matplotlib.axis_10\">\n    <g id=\"ytick_21\">\n     <g id=\"line2d_91\">\n      <path clip-path=\"url(#p905b8c555b)\" d=\"M 713.943063 140.293275 \nL 840.974062 140.293275 \n\" style=\"fill:none;stroke:#b0b0b0;stroke-dasharray:2.96,1.28;stroke-dashoffset:0;stroke-width:0.8;\"/>\n     </g>\n     <g id=\"line2d_92\">\n      <g>\n       <use style=\"stroke:#000000;stroke-width:0.8;\" x=\"713.943063\" xlink:href=\"#m882cb0e696\" y=\"140.293275\"/>\n      </g>\n     </g>\n     <g id=\"text_50\">\n      <!-- −2 -->\n      <g transform=\"translate(686.304 145.612181)scale(0.14 -0.14)\">\n       <use xlink:href=\"#DejaVuSans-8722\"/>\n       <use x=\"83.789062\" xlink:href=\"#DejaVuSans-50\"/>\n      </g>\n     </g>\n    </g>\n    <g id=\"ytick_22\">\n     <g id=\"line2d_93\">\n      <path clip-path=\"url(#p905b8c555b)\" d=\"M 713.943063 114.887075 \nL 840.974062 114.887075 \n\" style=\"fill:none;stroke:#b0b0b0;stroke-dasharray:2.96,1.28;stroke-dashoffset:0;stroke-width:0.8;\"/>\n     </g>\n     <g id=\"line2d_94\">\n      <g>\n       <use style=\"stroke:#000000;stroke-width:0.8;\" x=\"713.943063\" xlink:href=\"#m882cb0e696\" y=\"114.887075\"/>\n      </g>\n     </g>\n     <g id=\"text_51\">\n      <!-- −1 -->\n      <g transform=\"translate(686.304 120.205981)scale(0.14 -0.14)\">\n       <use xlink:href=\"#DejaVuSans-8722\"/>\n       <use x=\"83.789062\" xlink:href=\"#DejaVuSans-49\"/>\n      </g>\n     </g>\n    </g>\n    <g id=\"ytick_23\">\n     <g id=\"line2d_95\">\n      <path clip-path=\"url(#p905b8c555b)\" d=\"M 713.943063 89.480875 \nL 840.974062 89.480875 \n\" style=\"fill:none;stroke:#b0b0b0;stroke-dasharray:2.96,1.28;stroke-dashoffset:0;stroke-width:0.8;\"/>\n     </g>\n     <g id=\"line2d_96\">\n      <g>\n       <use style=\"stroke:#000000;stroke-width:0.8;\" x=\"713.943063\" xlink:href=\"#m882cb0e696\" y=\"89.480875\"/>\n      </g>\n     </g>\n     <g id=\"text_52\">\n      <!-- 0 -->\n      <g transform=\"translate(698.035563 94.799781)scale(0.14 -0.14)\">\n       <use xlink:href=\"#DejaVuSans-48\"/>\n      </g>\n     </g>\n    </g>\n    <g id=\"ytick_24\">\n     <g id=\"line2d_97\">\n      <path clip-path=\"url(#p905b8c555b)\" d=\"M 713.943063 64.074675 \nL 840.974062 64.074675 \n\" style=\"fill:none;stroke:#b0b0b0;stroke-dasharray:2.96,1.28;stroke-dashoffset:0;stroke-width:0.8;\"/>\n     </g>\n     <g id=\"line2d_98\">\n      <g>\n       <use style=\"stroke:#000000;stroke-width:0.8;\" x=\"713.943063\" xlink:href=\"#m882cb0e696\" y=\"64.074675\"/>\n      </g>\n     </g>\n     <g id=\"text_53\">\n      <!-- 1 -->\n      <g transform=\"translate(698.035563 69.393581)scale(0.14 -0.14)\">\n       <use xlink:href=\"#DejaVuSans-49\"/>\n      </g>\n     </g>\n    </g>\n    <g id=\"ytick_25\">\n     <g id=\"line2d_99\">\n      <path clip-path=\"url(#p905b8c555b)\" d=\"M 713.943063 38.668475 \nL 840.974062 38.668475 \n\" style=\"fill:none;stroke:#b0b0b0;stroke-dasharray:2.96,1.28;stroke-dashoffset:0;stroke-width:0.8;\"/>\n     </g>\n     <g id=\"line2d_100\">\n      <g>\n       <use style=\"stroke:#000000;stroke-width:0.8;\" x=\"713.943063\" xlink:href=\"#m882cb0e696\" y=\"38.668475\"/>\n      </g>\n     </g>\n     <g id=\"text_54\">\n      <!-- 2 -->\n      <g transform=\"translate(698.035563 43.987381)scale(0.14 -0.14)\">\n       <use xlink:href=\"#DejaVuSans-50\"/>\n      </g>\n     </g>\n    </g>\n   </g>\n   <g id=\"patch_33\">\n    <path d=\"M 713.943063 152.996375 \nL 713.943063 25.965375 \n\" style=\"fill:none;stroke:#000000;stroke-linecap:square;stroke-linejoin:miter;stroke-width:0.8;\"/>\n   </g>\n   <g id=\"patch_34\">\n    <path d=\"M 840.974062 152.996375 \nL 840.974062 25.965375 \n\" style=\"fill:none;stroke:#000000;stroke-linecap:square;stroke-linejoin:miter;stroke-width:0.8;\"/>\n   </g>\n   <g id=\"patch_35\">\n    <path d=\"M 713.943062 152.996375 \nL 840.974062 152.996375 \n\" style=\"fill:none;stroke:#000000;stroke-linecap:square;stroke-linejoin:miter;stroke-width:0.8;\"/>\n   </g>\n   <g id=\"patch_36\">\n    <path d=\"M 713.943062 25.965375 \nL 840.974062 25.965375 \n\" style=\"fill:none;stroke:#000000;stroke-linecap:square;stroke-linejoin:miter;stroke-width:0.8;\"/>\n   </g>\n   <g id=\"text_55\">\n    <!-- $\\sigma$ = -0.67 -->\n    <defs>\n     <path d=\"M 4.890625 31.390625 \nL 31.203125 31.390625 \nL 31.203125 23.390625 \nL 4.890625 23.390625 \nz\n\" id=\"DejaVuSans-45\"/>\n     <path d=\"M 33.015625 40.375 \nQ 26.375 40.375 22.484375 35.828125 \nQ 18.609375 31.296875 18.609375 23.390625 \nQ 18.609375 15.53125 22.484375 10.953125 \nQ 26.375 6.390625 33.015625 6.390625 \nQ 39.65625 6.390625 43.53125 10.953125 \nQ 47.40625 15.53125 47.40625 23.390625 \nQ 47.40625 31.296875 43.53125 35.828125 \nQ 39.65625 40.375 33.015625 40.375 \nz\nM 52.59375 71.296875 \nL 52.59375 62.3125 \nQ 48.875 64.0625 45.09375 64.984375 \nQ 41.3125 65.921875 37.59375 65.921875 \nQ 27.828125 65.921875 22.671875 59.328125 \nQ 17.53125 52.734375 16.796875 39.40625 \nQ 19.671875 43.65625 24.015625 45.921875 \nQ 28.375 48.1875 33.59375 48.1875 \nQ 44.578125 48.1875 50.953125 41.515625 \nQ 57.328125 34.859375 57.328125 23.390625 \nQ 57.328125 12.15625 50.6875 5.359375 \nQ 44.046875 -1.421875 33.015625 -1.421875 \nQ 20.359375 -1.421875 13.671875 8.265625 \nQ 6.984375 17.96875 6.984375 36.375 \nQ 6.984375 53.65625 15.1875 63.9375 \nQ 23.390625 74.21875 37.203125 74.21875 \nQ 40.921875 74.21875 44.703125 73.484375 \nQ 48.484375 72.75 52.59375 71.296875 \nz\n\" id=\"DejaVuSans-54\"/>\n     <path d=\"M 8.203125 72.90625 \nL 55.078125 72.90625 \nL 55.078125 68.703125 \nL 28.609375 0 \nL 18.3125 0 \nL 43.21875 64.59375 \nL 8.203125 64.59375 \nz\n\" id=\"DejaVuSans-55\"/>\n    </defs>\n    <g transform=\"translate(737.978562 19.965375)scale(0.168 -0.168)\">\n     <use transform=\"translate(0 0.78125)\" xlink:href=\"#DejaVuSans-Oblique-963\"/>\n     <use transform=\"translate(63.378906 0.78125)\" xlink:href=\"#DejaVuSans-32\"/>\n     <use transform=\"translate(95.166016 0.78125)\" xlink:href=\"#DejaVuSans-61\"/>\n     <use transform=\"translate(178.955078 0.78125)\" xlink:href=\"#DejaVuSans-32\"/>\n     <use transform=\"translate(210.742188 0.78125)\" xlink:href=\"#DejaVuSans-45\"/>\n     <use transform=\"translate(246.826172 0.78125)\" xlink:href=\"#DejaVuSans-48\"/>\n     <use transform=\"translate(310.449219 0.78125)\" xlink:href=\"#DejaVuSans-46\"/>\n     <use transform=\"translate(342.236328 0.78125)\" xlink:href=\"#DejaVuSans-54\"/>\n     <use transform=\"translate(405.859375 0.78125)\" xlink:href=\"#DejaVuSans-55\"/>\n    </g>\n   </g>\n  </g>\n </g>\n <defs>\n  <clipPath id=\"pae9f529cc8\">\n   <rect height=\"127.031\" width=\"127.031\" x=\"34.839063\" y=\"25.965375\"/>\n  </clipPath>\n  <clipPath id=\"p3667f1eccd\">\n   <rect height=\"127.031\" width=\"127.031\" x=\"204.615063\" y=\"25.965375\"/>\n  </clipPath>\n  <clipPath id=\"pb8ed8d3e97\">\n   <rect height=\"127.031\" width=\"127.031\" x=\"374.391063\" y=\"25.965375\"/>\n  </clipPath>\n  <clipPath id=\"p3040d4c71b\">\n   <rect height=\"127.031\" width=\"127.031\" x=\"544.167063\" y=\"25.965375\"/>\n  </clipPath>\n  <clipPath id=\"p905b8c555b\">\n   <rect height=\"127.031\" width=\"127.031\" x=\"713.943063\" y=\"25.965375\"/>\n  </clipPath>\n </defs>\n</svg>\n"
          },
          "metadata": {
            "needs_background": "light"
          }
        }
      ]
    },
    {
      "cell_type": "markdown",
      "metadata": {
        "id": "KcF07aOdihqE"
      },
      "source": [
        "# Vector transpose"
      ]
    },
    {
      "cell_type": "code",
      "metadata": {
        "id": "-EEhEycVwXNO"
      },
      "source": [
        "# Row vector\n",
        "r = np.array([ [1,2,3] ])\n",
        "\n",
        "# orientationless array\n",
        "l = np.array([1,2,3])"
      ],
      "execution_count": 62,
      "outputs": []
    },
    {
      "cell_type": "code",
      "metadata": {
        "id": "576musu6wXV1",
        "colab": {
          "base_uri": "https://localhost:8080/"
        },
        "outputId": "1a6d21ac-7531-42fc-a555-c9feea137ab6"
      },
      "source": [
        "# print out the vector, its transpose, and its double-transpose\n",
        "print(r), print(' ')\n",
        "\n",
        "# Transpose the row vector\n",
        "print(r.T), print(' ')\n",
        "\n",
        "# double-transpose\n",
        "print(r.T.T)"
      ],
      "execution_count": 63,
      "outputs": [
        {
          "output_type": "stream",
          "name": "stdout",
          "text": [
            "[[1 2 3]]\n",
            " \n",
            "[[1]\n",
            " [2]\n",
            " [3]]\n",
            " \n",
            "[[1 2 3]]\n"
          ]
        }
      ]
    },
    {
      "cell_type": "code",
      "metadata": {
        "id": "Mx6I2nH0wXZF",
        "colab": {
          "base_uri": "https://localhost:8080/"
        },
        "outputId": "a838f2b3-6418-43fe-bd96-3dfad35050e6"
      },
      "source": [
        "# Same for the orientationless array\n",
        "print(l), print(' ')\n",
        "print(l.T), print(' ')\n",
        "print(l.T.T)"
      ],
      "execution_count": 64,
      "outputs": [
        {
          "output_type": "stream",
          "name": "stdout",
          "text": [
            "[1 2 3]\n",
            " \n",
            "[1 2 3]\n",
            " \n",
            "[1 2 3]\n"
          ]
        }
      ]
    },
    {
      "cell_type": "code",
      "metadata": {
        "id": "XuYbMcdXwXb-"
      },
      "source": [],
      "execution_count": 64,
      "outputs": []
    },
    {
      "cell_type": "code",
      "source": [],
      "metadata": {
        "id": "q1ChGbqKu6fh"
      },
      "execution_count": 64,
      "outputs": []
    },
    {
      "cell_type": "markdown",
      "source": [
        "# The dot product is distributive"
      ],
      "metadata": {
        "id": "toCvM6BReALV"
      }
    },
    {
      "cell_type": "code",
      "source": [
        "# just some random vectors...\n",
        "v = np.array([ 0,1,2 ])\n",
        "w = np.array([ 3,5,8 ])\n",
        "u = np.array([ 13,21,34 ])\n",
        "\n",
        "# two ways to comptue\n",
        "res1 = np.dot( v, w+u )\n",
        "res2 = np.dot( v,w ) + np.dot( v,u )\n",
        "\n",
        "# show that they are equivalent\n",
        "res1,res2"
      ],
      "metadata": {
        "id": "zlM0uJIceELT",
        "colab": {
          "base_uri": "https://localhost:8080/"
        },
        "outputId": "16d909b8-c45c-4b88-ed16-15d27c05a8a4"
      },
      "execution_count": 65,
      "outputs": [
        {
          "output_type": "execute_result",
          "data": {
            "text/plain": [
              "(110, 110)"
            ]
          },
          "metadata": {},
          "execution_count": 65
        }
      ]
    },
    {
      "cell_type": "code",
      "source": [],
      "metadata": {
        "id": "OqSuPgvHeANu"
      },
      "execution_count": 65,
      "outputs": []
    },
    {
      "cell_type": "markdown",
      "metadata": {
        "id": "VnF9n7PDwXgN"
      },
      "source": [
        "# Solutions to code exercises"
      ]
    },
    {
      "cell_type": "markdown",
      "source": [
        "# Exercise 1"
      ],
      "metadata": {
        "id": "0Ia7D2RuEPCY"
      }
    },
    {
      "cell_type": "code",
      "source": [
        "# The vectors\n",
        "v = np.array([1,2])\n",
        "w = np.array([4,-6])\n",
        "vPlusW = v+w\n",
        "\n",
        "\n",
        "# now plot all three vectors\n",
        "plt.figure(figsize=(6,6))\n",
        "\n",
        "a1 = plt.arrow(0,0,v[0],v[1],head_width=.3,width=.1,color='k',length_includes_head=True)\n",
        "a2 = plt.arrow(v[0],v[1],w[0],w[1],head_width=.3,width=.1,color=[.5,.5,.5],length_includes_head=True)\n",
        "a3 = plt.arrow(0,0,vPlusW[0],vPlusW[1],head_width=.3,width=.1,color=[.8,.8,.8],length_includes_head=True)\n",
        "\n",
        "\n",
        "# make the plot look a bit nicer\n",
        "plt.grid(linestyle='--',linewidth=.5)\n",
        "plt.axis('square')\n",
        "plt.axis([-6,6,-6,6])\n",
        "plt.legend([a1,a2,a3],['v','w','v+w'])\n",
        "plt.title('Vectors $\\mathbf{v}$, $\\mathbf{w}$, and $\\mathbf{v+w}$')\n",
        "plt.savefig('Figure_02_02a.png',dpi=300) # write out the fig to a file\n",
        "plt.show()"
      ],
      "metadata": {
        "id": "Jzlps2LlEQRb",
        "colab": {
          "base_uri": "https://localhost:8080/",
          "height": 528
        },
        "outputId": "793c69e5-e04a-4f71-aa61-4b6b384aa88f"
      },
      "execution_count": 66,
      "outputs": [
        {
          "output_type": "display_data",
          "data": {
            "text/plain": [
              "<Figure size 432x432 with 1 Axes>"
            ],
            "image/svg+xml": "<?xml version=\"1.0\" encoding=\"utf-8\" standalone=\"no\"?>\n<!DOCTYPE svg PUBLIC \"-//W3C//DTD SVG 1.1//EN\"\n  \"http://www.w3.org/Graphics/SVG/1.1/DTD/svg11.dtd\">\n<!-- Created with matplotlib (https://matplotlib.org/) -->\n<svg height=\"379.87475pt\" version=\"1.1\" viewBox=\"0 0 372.652812 379.87475\" width=\"372.652812pt\" xmlns=\"http://www.w3.org/2000/svg\" xmlns:xlink=\"http://www.w3.org/1999/xlink\">\n <defs>\n  <style type=\"text/css\">\n*{stroke-linecap:butt;stroke-linejoin:round;}\n  </style>\n </defs>\n <g id=\"figure_1\">\n  <g id=\"patch_1\">\n   <path d=\"M 0 379.87475 \nL 372.652812 379.87475 \nL 372.652812 0 \nL 0 0 \nz\n\" style=\"fill:none;\"/>\n  </g>\n  <g id=\"axes_1\">\n   <g id=\"patch_2\">\n    <path d=\"M 34.839063 352.125375 \nL 360.999063 352.125375 \nL 360.999063 25.965375 \nL 34.839063 25.965375 \nz\n\" style=\"fill:#ffffff;\"/>\n   </g>\n   <g id=\"patch_3\">\n    <path clip-path=\"url(#pdd35dbd90c)\" d=\"M 225.099063 134.685375 \nL 223.275773 147.448404 \nL 220.84472 146.232877 \nL 199.134589 189.653138 \nL 196.703536 188.437612 \nL 218.413666 145.017351 \nL 215.982613 143.801824 \nz\n\" style=\"stroke:#000000;stroke-linejoin:miter;\"/>\n   </g>\n   <g id=\"patch_4\">\n    <path clip-path=\"url(#pdd35dbd90c)\" d=\"M 333.819063 297.765375 \nL 323.642255 289.850081 \nL 325.903768 288.342405 \nL 223.968306 135.439213 \nL 226.229819 133.931537 \nL 328.165281 286.83473 \nL 330.426793 285.327055 \nz\n\" style=\"fill:#808080;stroke:#808080;stroke-linejoin:miter;\"/>\n   </g>\n   <g id=\"patch_5\">\n    <path clip-path=\"url(#pdd35dbd90c)\" d=\"M 333.819063 297.765375 \nL 321.721374 293.308332 \nL 323.419296 291.185931 \nL 197.070102 190.106576 \nL 198.768023 187.984174 \nL 325.117217 289.063529 \nL 326.815138 286.941128 \nz\n\" style=\"fill:#cccccc;stroke:#cccccc;stroke-linejoin:miter;\"/>\n   </g>\n   <g id=\"matplotlib.axis_1\">\n    <g id=\"xtick_1\">\n     <g id=\"line2d_1\">\n      <path clip-path=\"url(#pdd35dbd90c)\" d=\"M 34.839063 352.125375 \nL 34.839063 25.965375 \n\" style=\"fill:none;stroke:#b0b0b0;stroke-dasharray:1.85,0.8;stroke-dashoffset:0;stroke-width:0.5;\"/>\n     </g>\n     <g id=\"line2d_2\">\n      <defs>\n       <path d=\"M 0 0 \nL 0 3.5 \n\" id=\"m2a0eda39fd\" style=\"stroke:#000000;stroke-width:0.8;\"/>\n      </defs>\n      <g>\n       <use style=\"stroke:#000000;stroke-width:0.8;\" x=\"34.839063\" xlink:href=\"#m2a0eda39fd\" y=\"352.125375\"/>\n      </g>\n     </g>\n     <g id=\"text_1\">\n      <!-- −6 -->\n      <defs>\n       <path d=\"M 10.59375 35.5 \nL 73.1875 35.5 \nL 73.1875 27.203125 \nL 10.59375 27.203125 \nz\n\" id=\"DejaVuSans-8722\"/>\n       <path d=\"M 33.015625 40.375 \nQ 26.375 40.375 22.484375 35.828125 \nQ 18.609375 31.296875 18.609375 23.390625 \nQ 18.609375 15.53125 22.484375 10.953125 \nQ 26.375 6.390625 33.015625 6.390625 \nQ 39.65625 6.390625 43.53125 10.953125 \nQ 47.40625 15.53125 47.40625 23.390625 \nQ 47.40625 31.296875 43.53125 35.828125 \nQ 39.65625 40.375 33.015625 40.375 \nz\nM 52.59375 71.296875 \nL 52.59375 62.3125 \nQ 48.875 64.0625 45.09375 64.984375 \nQ 41.3125 65.921875 37.59375 65.921875 \nQ 27.828125 65.921875 22.671875 59.328125 \nQ 17.53125 52.734375 16.796875 39.40625 \nQ 19.671875 43.65625 24.015625 45.921875 \nQ 28.375 48.1875 33.59375 48.1875 \nQ 44.578125 48.1875 50.953125 41.515625 \nQ 57.328125 34.859375 57.328125 23.390625 \nQ 57.328125 12.15625 50.6875 5.359375 \nQ 44.046875 -1.421875 33.015625 -1.421875 \nQ 20.359375 -1.421875 13.671875 8.265625 \nQ 6.984375 17.96875 6.984375 36.375 \nQ 6.984375 53.65625 15.1875 63.9375 \nQ 23.390625 74.21875 37.203125 74.21875 \nQ 40.921875 74.21875 44.703125 73.484375 \nQ 48.484375 72.75 52.59375 71.296875 \nz\n\" id=\"DejaVuSans-54\"/>\n      </defs>\n      <g transform=\"translate(24.519531 369.763188)scale(0.14 -0.14)\">\n       <use xlink:href=\"#DejaVuSans-8722\"/>\n       <use x=\"83.789062\" xlink:href=\"#DejaVuSans-54\"/>\n      </g>\n     </g>\n    </g>\n    <g id=\"xtick_2\">\n     <g id=\"line2d_3\">\n      <path clip-path=\"url(#pdd35dbd90c)\" d=\"M 89.199063 352.125375 \nL 89.199063 25.965375 \n\" style=\"fill:none;stroke:#b0b0b0;stroke-dasharray:1.85,0.8;stroke-dashoffset:0;stroke-width:0.5;\"/>\n     </g>\n     <g id=\"line2d_4\">\n      <g>\n       <use style=\"stroke:#000000;stroke-width:0.8;\" x=\"89.199063\" xlink:href=\"#m2a0eda39fd\" y=\"352.125375\"/>\n      </g>\n     </g>\n     <g id=\"text_2\">\n      <!-- −4 -->\n      <defs>\n       <path d=\"M 37.796875 64.3125 \nL 12.890625 25.390625 \nL 37.796875 25.390625 \nz\nM 35.203125 72.90625 \nL 47.609375 72.90625 \nL 47.609375 25.390625 \nL 58.015625 25.390625 \nL 58.015625 17.1875 \nL 47.609375 17.1875 \nL 47.609375 0 \nL 37.796875 0 \nL 37.796875 17.1875 \nL 4.890625 17.1875 \nL 4.890625 26.703125 \nz\n\" id=\"DejaVuSans-52\"/>\n      </defs>\n      <g transform=\"translate(78.879531 369.763188)scale(0.14 -0.14)\">\n       <use xlink:href=\"#DejaVuSans-8722\"/>\n       <use x=\"83.789062\" xlink:href=\"#DejaVuSans-52\"/>\n      </g>\n     </g>\n    </g>\n    <g id=\"xtick_3\">\n     <g id=\"line2d_5\">\n      <path clip-path=\"url(#pdd35dbd90c)\" d=\"M 143.559063 352.125375 \nL 143.559063 25.965375 \n\" style=\"fill:none;stroke:#b0b0b0;stroke-dasharray:1.85,0.8;stroke-dashoffset:0;stroke-width:0.5;\"/>\n     </g>\n     <g id=\"line2d_6\">\n      <g>\n       <use style=\"stroke:#000000;stroke-width:0.8;\" x=\"143.559063\" xlink:href=\"#m2a0eda39fd\" y=\"352.125375\"/>\n      </g>\n     </g>\n     <g id=\"text_3\">\n      <!-- −2 -->\n      <defs>\n       <path d=\"M 19.1875 8.296875 \nL 53.609375 8.296875 \nL 53.609375 0 \nL 7.328125 0 \nL 7.328125 8.296875 \nQ 12.9375 14.109375 22.625 23.890625 \nQ 32.328125 33.6875 34.8125 36.53125 \nQ 39.546875 41.84375 41.421875 45.53125 \nQ 43.3125 49.21875 43.3125 52.78125 \nQ 43.3125 58.59375 39.234375 62.25 \nQ 35.15625 65.921875 28.609375 65.921875 \nQ 23.96875 65.921875 18.8125 64.3125 \nQ 13.671875 62.703125 7.8125 59.421875 \nL 7.8125 69.390625 \nQ 13.765625 71.78125 18.9375 73 \nQ 24.125 74.21875 28.421875 74.21875 \nQ 39.75 74.21875 46.484375 68.546875 \nQ 53.21875 62.890625 53.21875 53.421875 \nQ 53.21875 48.921875 51.53125 44.890625 \nQ 49.859375 40.875 45.40625 35.40625 \nQ 44.1875 33.984375 37.640625 27.21875 \nQ 31.109375 20.453125 19.1875 8.296875 \nz\n\" id=\"DejaVuSans-50\"/>\n      </defs>\n      <g transform=\"translate(133.239531 369.763188)scale(0.14 -0.14)\">\n       <use xlink:href=\"#DejaVuSans-8722\"/>\n       <use x=\"83.789062\" xlink:href=\"#DejaVuSans-50\"/>\n      </g>\n     </g>\n    </g>\n    <g id=\"xtick_4\">\n     <g id=\"line2d_7\">\n      <path clip-path=\"url(#pdd35dbd90c)\" d=\"M 197.919063 352.125375 \nL 197.919063 25.965375 \n\" style=\"fill:none;stroke:#b0b0b0;stroke-dasharray:1.85,0.8;stroke-dashoffset:0;stroke-width:0.5;\"/>\n     </g>\n     <g id=\"line2d_8\">\n      <g>\n       <use style=\"stroke:#000000;stroke-width:0.8;\" x=\"197.919063\" xlink:href=\"#m2a0eda39fd\" y=\"352.125375\"/>\n      </g>\n     </g>\n     <g id=\"text_4\">\n      <!-- 0 -->\n      <defs>\n       <path d=\"M 31.78125 66.40625 \nQ 24.171875 66.40625 20.328125 58.90625 \nQ 16.5 51.421875 16.5 36.375 \nQ 16.5 21.390625 20.328125 13.890625 \nQ 24.171875 6.390625 31.78125 6.390625 \nQ 39.453125 6.390625 43.28125 13.890625 \nQ 47.125 21.390625 47.125 36.375 \nQ 47.125 51.421875 43.28125 58.90625 \nQ 39.453125 66.40625 31.78125 66.40625 \nz\nM 31.78125 74.21875 \nQ 44.046875 74.21875 50.515625 64.515625 \nQ 56.984375 54.828125 56.984375 36.375 \nQ 56.984375 17.96875 50.515625 8.265625 \nQ 44.046875 -1.421875 31.78125 -1.421875 \nQ 19.53125 -1.421875 13.0625 8.265625 \nQ 6.59375 17.96875 6.59375 36.375 \nQ 6.59375 54.828125 13.0625 64.515625 \nQ 19.53125 74.21875 31.78125 74.21875 \nz\n\" id=\"DejaVuSans-48\"/>\n      </defs>\n      <g transform=\"translate(193.465313 369.763188)scale(0.14 -0.14)\">\n       <use xlink:href=\"#DejaVuSans-48\"/>\n      </g>\n     </g>\n    </g>\n    <g id=\"xtick_5\">\n     <g id=\"line2d_9\">\n      <path clip-path=\"url(#pdd35dbd90c)\" d=\"M 252.279063 352.125375 \nL 252.279063 25.965375 \n\" style=\"fill:none;stroke:#b0b0b0;stroke-dasharray:1.85,0.8;stroke-dashoffset:0;stroke-width:0.5;\"/>\n     </g>\n     <g id=\"line2d_10\">\n      <g>\n       <use style=\"stroke:#000000;stroke-width:0.8;\" x=\"252.279063\" xlink:href=\"#m2a0eda39fd\" y=\"352.125375\"/>\n      </g>\n     </g>\n     <g id=\"text_5\">\n      <!-- 2 -->\n      <g transform=\"translate(247.825312 369.763188)scale(0.14 -0.14)\">\n       <use xlink:href=\"#DejaVuSans-50\"/>\n      </g>\n     </g>\n    </g>\n    <g id=\"xtick_6\">\n     <g id=\"line2d_11\">\n      <path clip-path=\"url(#pdd35dbd90c)\" d=\"M 306.639063 352.125375 \nL 306.639063 25.965375 \n\" style=\"fill:none;stroke:#b0b0b0;stroke-dasharray:1.85,0.8;stroke-dashoffset:0;stroke-width:0.5;\"/>\n     </g>\n     <g id=\"line2d_12\">\n      <g>\n       <use style=\"stroke:#000000;stroke-width:0.8;\" x=\"306.639063\" xlink:href=\"#m2a0eda39fd\" y=\"352.125375\"/>\n      </g>\n     </g>\n     <g id=\"text_6\">\n      <!-- 4 -->\n      <g transform=\"translate(302.185313 369.763188)scale(0.14 -0.14)\">\n       <use xlink:href=\"#DejaVuSans-52\"/>\n      </g>\n     </g>\n    </g>\n    <g id=\"xtick_7\">\n     <g id=\"line2d_13\">\n      <path clip-path=\"url(#pdd35dbd90c)\" d=\"M 360.999063 352.125375 \nL 360.999063 25.965375 \n\" style=\"fill:none;stroke:#b0b0b0;stroke-dasharray:1.85,0.8;stroke-dashoffset:0;stroke-width:0.5;\"/>\n     </g>\n     <g id=\"line2d_14\">\n      <g>\n       <use style=\"stroke:#000000;stroke-width:0.8;\" x=\"360.999063\" xlink:href=\"#m2a0eda39fd\" y=\"352.125375\"/>\n      </g>\n     </g>\n     <g id=\"text_7\">\n      <!-- 6 -->\n      <g transform=\"translate(356.545313 369.763188)scale(0.14 -0.14)\">\n       <use xlink:href=\"#DejaVuSans-54\"/>\n      </g>\n     </g>\n    </g>\n   </g>\n   <g id=\"matplotlib.axis_2\">\n    <g id=\"ytick_1\">\n     <g id=\"line2d_15\">\n      <path clip-path=\"url(#pdd35dbd90c)\" d=\"M 34.839063 352.125375 \nL 360.999063 352.125375 \n\" style=\"fill:none;stroke:#b0b0b0;stroke-dasharray:1.85,0.8;stroke-dashoffset:0;stroke-width:0.5;\"/>\n     </g>\n     <g id=\"line2d_16\">\n      <defs>\n       <path d=\"M 0 0 \nL -3.5 0 \n\" id=\"m336ddc0869\" style=\"stroke:#000000;stroke-width:0.8;\"/>\n      </defs>\n      <g>\n       <use style=\"stroke:#000000;stroke-width:0.8;\" x=\"34.839063\" xlink:href=\"#m336ddc0869\" y=\"352.125375\"/>\n      </g>\n     </g>\n     <g id=\"text_8\">\n      <!-- −6 -->\n      <g transform=\"translate(7.2 357.444281)scale(0.14 -0.14)\">\n       <use xlink:href=\"#DejaVuSans-8722\"/>\n       <use x=\"83.789062\" xlink:href=\"#DejaVuSans-54\"/>\n      </g>\n     </g>\n    </g>\n    <g id=\"ytick_2\">\n     <g id=\"line2d_17\">\n      <path clip-path=\"url(#pdd35dbd90c)\" d=\"M 34.839063 297.765375 \nL 360.999063 297.765375 \n\" style=\"fill:none;stroke:#b0b0b0;stroke-dasharray:1.85,0.8;stroke-dashoffset:0;stroke-width:0.5;\"/>\n     </g>\n     <g id=\"line2d_18\">\n      <g>\n       <use style=\"stroke:#000000;stroke-width:0.8;\" x=\"34.839063\" xlink:href=\"#m336ddc0869\" y=\"297.765375\"/>\n      </g>\n     </g>\n     <g id=\"text_9\">\n      <!-- −4 -->\n      <g transform=\"translate(7.2 303.084281)scale(0.14 -0.14)\">\n       <use xlink:href=\"#DejaVuSans-8722\"/>\n       <use x=\"83.789062\" xlink:href=\"#DejaVuSans-52\"/>\n      </g>\n     </g>\n    </g>\n    <g id=\"ytick_3\">\n     <g id=\"line2d_19\">\n      <path clip-path=\"url(#pdd35dbd90c)\" d=\"M 34.839063 243.405375 \nL 360.999063 243.405375 \n\" style=\"fill:none;stroke:#b0b0b0;stroke-dasharray:1.85,0.8;stroke-dashoffset:0;stroke-width:0.5;\"/>\n     </g>\n     <g id=\"line2d_20\">\n      <g>\n       <use style=\"stroke:#000000;stroke-width:0.8;\" x=\"34.839063\" xlink:href=\"#m336ddc0869\" y=\"243.405375\"/>\n      </g>\n     </g>\n     <g id=\"text_10\">\n      <!-- −2 -->\n      <g transform=\"translate(7.2 248.724281)scale(0.14 -0.14)\">\n       <use xlink:href=\"#DejaVuSans-8722\"/>\n       <use x=\"83.789062\" xlink:href=\"#DejaVuSans-50\"/>\n      </g>\n     </g>\n    </g>\n    <g id=\"ytick_4\">\n     <g id=\"line2d_21\">\n      <path clip-path=\"url(#pdd35dbd90c)\" d=\"M 34.839063 189.045375 \nL 360.999063 189.045375 \n\" style=\"fill:none;stroke:#b0b0b0;stroke-dasharray:1.85,0.8;stroke-dashoffset:0;stroke-width:0.5;\"/>\n     </g>\n     <g id=\"line2d_22\">\n      <g>\n       <use style=\"stroke:#000000;stroke-width:0.8;\" x=\"34.839063\" xlink:href=\"#m336ddc0869\" y=\"189.045375\"/>\n      </g>\n     </g>\n     <g id=\"text_11\">\n      <!-- 0 -->\n      <g transform=\"translate(18.931563 194.364281)scale(0.14 -0.14)\">\n       <use xlink:href=\"#DejaVuSans-48\"/>\n      </g>\n     </g>\n    </g>\n    <g id=\"ytick_5\">\n     <g id=\"line2d_23\">\n      <path clip-path=\"url(#pdd35dbd90c)\" d=\"M 34.839063 134.685375 \nL 360.999063 134.685375 \n\" style=\"fill:none;stroke:#b0b0b0;stroke-dasharray:1.85,0.8;stroke-dashoffset:0;stroke-width:0.5;\"/>\n     </g>\n     <g id=\"line2d_24\">\n      <g>\n       <use style=\"stroke:#000000;stroke-width:0.8;\" x=\"34.839063\" xlink:href=\"#m336ddc0869\" y=\"134.685375\"/>\n      </g>\n     </g>\n     <g id=\"text_12\">\n      <!-- 2 -->\n      <g transform=\"translate(18.931563 140.004281)scale(0.14 -0.14)\">\n       <use xlink:href=\"#DejaVuSans-50\"/>\n      </g>\n     </g>\n    </g>\n    <g id=\"ytick_6\">\n     <g id=\"line2d_25\">\n      <path clip-path=\"url(#pdd35dbd90c)\" d=\"M 34.839063 80.325375 \nL 360.999063 80.325375 \n\" style=\"fill:none;stroke:#b0b0b0;stroke-dasharray:1.85,0.8;stroke-dashoffset:0;stroke-width:0.5;\"/>\n     </g>\n     <g id=\"line2d_26\">\n      <g>\n       <use style=\"stroke:#000000;stroke-width:0.8;\" x=\"34.839063\" xlink:href=\"#m336ddc0869\" y=\"80.325375\"/>\n      </g>\n     </g>\n     <g id=\"text_13\">\n      <!-- 4 -->\n      <g transform=\"translate(18.931563 85.644281)scale(0.14 -0.14)\">\n       <use xlink:href=\"#DejaVuSans-52\"/>\n      </g>\n     </g>\n    </g>\n    <g id=\"ytick_7\">\n     <g id=\"line2d_27\">\n      <path clip-path=\"url(#pdd35dbd90c)\" d=\"M 34.839063 25.965375 \nL 360.999063 25.965375 \n\" style=\"fill:none;stroke:#b0b0b0;stroke-dasharray:1.85,0.8;stroke-dashoffset:0;stroke-width:0.5;\"/>\n     </g>\n     <g id=\"line2d_28\">\n      <g>\n       <use style=\"stroke:#000000;stroke-width:0.8;\" x=\"34.839063\" xlink:href=\"#m336ddc0869\" y=\"25.965375\"/>\n      </g>\n     </g>\n     <g id=\"text_14\">\n      <!-- 6 -->\n      <g transform=\"translate(18.931563 31.284281)scale(0.14 -0.14)\">\n       <use xlink:href=\"#DejaVuSans-54\"/>\n      </g>\n     </g>\n    </g>\n   </g>\n   <g id=\"patch_6\">\n    <path d=\"M 34.839063 352.125375 \nL 34.839063 25.965375 \n\" style=\"fill:none;stroke:#000000;stroke-linecap:square;stroke-linejoin:miter;stroke-width:0.8;\"/>\n   </g>\n   <g id=\"patch_7\">\n    <path d=\"M 360.999063 352.125375 \nL 360.999063 25.965375 \n\" style=\"fill:none;stroke:#000000;stroke-linecap:square;stroke-linejoin:miter;stroke-width:0.8;\"/>\n   </g>\n   <g id=\"patch_8\">\n    <path d=\"M 34.839063 352.125375 \nL 360.999063 352.125375 \n\" style=\"fill:none;stroke:#000000;stroke-linecap:square;stroke-linejoin:miter;stroke-width:0.8;\"/>\n   </g>\n   <g id=\"patch_9\">\n    <path d=\"M 34.839063 25.965375 \nL 360.999063 25.965375 \n\" style=\"fill:none;stroke:#000000;stroke-linecap:square;stroke-linejoin:miter;stroke-width:0.8;\"/>\n   </g>\n   <g id=\"text_15\">\n    <!-- Vectors $\\mathbf{v}$, $\\mathbf{w}$, and $\\mathbf{v+w}$ -->\n    <defs>\n     <path d=\"M 28.609375 0 \nL 0.78125 72.90625 \nL 11.078125 72.90625 \nL 34.1875 11.53125 \nL 57.328125 72.90625 \nL 67.578125 72.90625 \nL 39.796875 0 \nz\n\" id=\"DejaVuSans-86\"/>\n     <path d=\"M 56.203125 29.59375 \nL 56.203125 25.203125 \nL 14.890625 25.203125 \nQ 15.484375 15.921875 20.484375 11.0625 \nQ 25.484375 6.203125 34.421875 6.203125 \nQ 39.59375 6.203125 44.453125 7.46875 \nQ 49.3125 8.734375 54.109375 11.28125 \nL 54.109375 2.78125 \nQ 49.265625 0.734375 44.1875 -0.34375 \nQ 39.109375 -1.421875 33.890625 -1.421875 \nQ 20.796875 -1.421875 13.15625 6.1875 \nQ 5.515625 13.8125 5.515625 26.8125 \nQ 5.515625 40.234375 12.765625 48.109375 \nQ 20.015625 56 32.328125 56 \nQ 43.359375 56 49.78125 48.890625 \nQ 56.203125 41.796875 56.203125 29.59375 \nz\nM 47.21875 32.234375 \nQ 47.125 39.59375 43.09375 43.984375 \nQ 39.0625 48.390625 32.421875 48.390625 \nQ 24.90625 48.390625 20.390625 44.140625 \nQ 15.875 39.890625 15.1875 32.171875 \nz\n\" id=\"DejaVuSans-101\"/>\n     <path d=\"M 48.78125 52.59375 \nL 48.78125 44.1875 \nQ 44.96875 46.296875 41.140625 47.34375 \nQ 37.3125 48.390625 33.40625 48.390625 \nQ 24.65625 48.390625 19.8125 42.84375 \nQ 14.984375 37.3125 14.984375 27.296875 \nQ 14.984375 17.28125 19.8125 11.734375 \nQ 24.65625 6.203125 33.40625 6.203125 \nQ 37.3125 6.203125 41.140625 7.25 \nQ 44.96875 8.296875 48.78125 10.40625 \nL 48.78125 2.09375 \nQ 45.015625 0.34375 40.984375 -0.53125 \nQ 36.96875 -1.421875 32.421875 -1.421875 \nQ 20.0625 -1.421875 12.78125 6.34375 \nQ 5.515625 14.109375 5.515625 27.296875 \nQ 5.515625 40.671875 12.859375 48.328125 \nQ 20.21875 56 33.015625 56 \nQ 37.15625 56 41.109375 55.140625 \nQ 45.0625 54.296875 48.78125 52.59375 \nz\n\" id=\"DejaVuSans-99\"/>\n     <path d=\"M 18.3125 70.21875 \nL 18.3125 54.6875 \nL 36.8125 54.6875 \nL 36.8125 47.703125 \nL 18.3125 47.703125 \nL 18.3125 18.015625 \nQ 18.3125 11.328125 20.140625 9.421875 \nQ 21.96875 7.515625 27.59375 7.515625 \nL 36.8125 7.515625 \nL 36.8125 0 \nL 27.59375 0 \nQ 17.1875 0 13.234375 3.875 \nQ 9.28125 7.765625 9.28125 18.015625 \nL 9.28125 47.703125 \nL 2.6875 47.703125 \nL 2.6875 54.6875 \nL 9.28125 54.6875 \nL 9.28125 70.21875 \nz\n\" id=\"DejaVuSans-116\"/>\n     <path d=\"M 30.609375 48.390625 \nQ 23.390625 48.390625 19.1875 42.75 \nQ 14.984375 37.109375 14.984375 27.296875 \nQ 14.984375 17.484375 19.15625 11.84375 \nQ 23.34375 6.203125 30.609375 6.203125 \nQ 37.796875 6.203125 41.984375 11.859375 \nQ 46.1875 17.53125 46.1875 27.296875 \nQ 46.1875 37.015625 41.984375 42.703125 \nQ 37.796875 48.390625 30.609375 48.390625 \nz\nM 30.609375 56 \nQ 42.328125 56 49.015625 48.375 \nQ 55.71875 40.765625 55.71875 27.296875 \nQ 55.71875 13.875 49.015625 6.21875 \nQ 42.328125 -1.421875 30.609375 -1.421875 \nQ 18.84375 -1.421875 12.171875 6.21875 \nQ 5.515625 13.875 5.515625 27.296875 \nQ 5.515625 40.765625 12.171875 48.375 \nQ 18.84375 56 30.609375 56 \nz\n\" id=\"DejaVuSans-111\"/>\n     <path d=\"M 41.109375 46.296875 \nQ 39.59375 47.171875 37.8125 47.578125 \nQ 36.03125 48 33.890625 48 \nQ 26.265625 48 22.1875 43.046875 \nQ 18.109375 38.09375 18.109375 28.8125 \nL 18.109375 0 \nL 9.078125 0 \nL 9.078125 54.6875 \nL 18.109375 54.6875 \nL 18.109375 46.1875 \nQ 20.953125 51.171875 25.484375 53.578125 \nQ 30.03125 56 36.53125 56 \nQ 37.453125 56 38.578125 55.875 \nQ 39.703125 55.765625 41.0625 55.515625 \nz\n\" id=\"DejaVuSans-114\"/>\n     <path d=\"M 44.28125 53.078125 \nL 44.28125 44.578125 \nQ 40.484375 46.53125 36.375 47.5 \nQ 32.28125 48.484375 27.875 48.484375 \nQ 21.1875 48.484375 17.84375 46.4375 \nQ 14.5 44.390625 14.5 40.28125 \nQ 14.5 37.15625 16.890625 35.375 \nQ 19.28125 33.59375 26.515625 31.984375 \nL 29.59375 31.296875 \nQ 39.15625 29.25 43.1875 25.515625 \nQ 47.21875 21.78125 47.21875 15.09375 \nQ 47.21875 7.46875 41.1875 3.015625 \nQ 35.15625 -1.421875 24.609375 -1.421875 \nQ 20.21875 -1.421875 15.453125 -0.5625 \nQ 10.6875 0.296875 5.421875 2 \nL 5.421875 11.28125 \nQ 10.40625 8.6875 15.234375 7.390625 \nQ 20.0625 6.109375 24.8125 6.109375 \nQ 31.15625 6.109375 34.5625 8.28125 \nQ 37.984375 10.453125 37.984375 14.40625 \nQ 37.984375 18.0625 35.515625 20.015625 \nQ 33.0625 21.96875 24.703125 23.78125 \nL 21.578125 24.515625 \nQ 13.234375 26.265625 9.515625 29.90625 \nQ 5.8125 33.546875 5.8125 39.890625 \nQ 5.8125 47.609375 11.28125 51.796875 \nQ 16.75 56 26.8125 56 \nQ 31.78125 56 36.171875 55.265625 \nQ 40.578125 54.546875 44.28125 53.078125 \nz\n\" id=\"DejaVuSans-115\"/>\n     <path id=\"DejaVuSans-32\"/>\n     <path d=\"M 1.515625 54.6875 \nL 19 54.6875 \nL 32.625 16.890625 \nL 46.1875 54.6875 \nL 63.71875 54.6875 \nL 42.1875 0 \nL 23 0 \nz\n\" id=\"DejaVuSans-Bold-118\"/>\n     <path d=\"M 11.71875 12.40625 \nL 22.015625 12.40625 \nL 22.015625 4 \nL 14.015625 -11.625 \nL 7.71875 -11.625 \nL 11.71875 4 \nz\n\" id=\"DejaVuSans-44\"/>\n     <path d=\"M 3.515625 54.6875 \nL 20.515625 54.6875 \nL 29.6875 17 \nL 38.921875 54.6875 \nL 53.515625 54.6875 \nL 62.703125 17.390625 \nL 71.921875 54.6875 \nL 88.921875 54.6875 \nL 74.515625 0 \nL 55.421875 0 \nL 46.1875 37.59375 \nL 37.015625 0 \nL 17.921875 0 \nz\n\" id=\"DejaVuSans-Bold-119\"/>\n     <path d=\"M 34.28125 27.484375 \nQ 23.390625 27.484375 19.1875 25 \nQ 14.984375 22.515625 14.984375 16.5 \nQ 14.984375 11.71875 18.140625 8.90625 \nQ 21.296875 6.109375 26.703125 6.109375 \nQ 34.1875 6.109375 38.703125 11.40625 \nQ 43.21875 16.703125 43.21875 25.484375 \nL 43.21875 27.484375 \nz\nM 52.203125 31.203125 \nL 52.203125 0 \nL 43.21875 0 \nL 43.21875 8.296875 \nQ 40.140625 3.328125 35.546875 0.953125 \nQ 30.953125 -1.421875 24.3125 -1.421875 \nQ 15.921875 -1.421875 10.953125 3.296875 \nQ 6 8.015625 6 15.921875 \nQ 6 25.140625 12.171875 29.828125 \nQ 18.359375 34.515625 30.609375 34.515625 \nL 43.21875 34.515625 \nL 43.21875 35.40625 \nQ 43.21875 41.609375 39.140625 45 \nQ 35.0625 48.390625 27.6875 48.390625 \nQ 23 48.390625 18.546875 47.265625 \nQ 14.109375 46.140625 10.015625 43.890625 \nL 10.015625 52.203125 \nQ 14.9375 54.109375 19.578125 55.046875 \nQ 24.21875 56 28.609375 56 \nQ 40.484375 56 46.34375 49.84375 \nQ 52.203125 43.703125 52.203125 31.203125 \nz\n\" id=\"DejaVuSans-97\"/>\n     <path d=\"M 54.890625 33.015625 \nL 54.890625 0 \nL 45.90625 0 \nL 45.90625 32.71875 \nQ 45.90625 40.484375 42.875 44.328125 \nQ 39.84375 48.1875 33.796875 48.1875 \nQ 26.515625 48.1875 22.3125 43.546875 \nQ 18.109375 38.921875 18.109375 30.90625 \nL 18.109375 0 \nL 9.078125 0 \nL 9.078125 54.6875 \nL 18.109375 54.6875 \nL 18.109375 46.1875 \nQ 21.34375 51.125 25.703125 53.5625 \nQ 30.078125 56 35.796875 56 \nQ 45.21875 56 50.046875 50.171875 \nQ 54.890625 44.34375 54.890625 33.015625 \nz\n\" id=\"DejaVuSans-110\"/>\n     <path d=\"M 45.40625 46.390625 \nL 45.40625 75.984375 \nL 54.390625 75.984375 \nL 54.390625 0 \nL 45.40625 0 \nL 45.40625 8.203125 \nQ 42.578125 3.328125 38.25 0.953125 \nQ 33.9375 -1.421875 27.875 -1.421875 \nQ 17.96875 -1.421875 11.734375 6.484375 \nQ 5.515625 14.40625 5.515625 27.296875 \nQ 5.515625 40.1875 11.734375 48.09375 \nQ 17.96875 56 27.875 56 \nQ 33.9375 56 38.25 53.625 \nQ 42.578125 51.265625 45.40625 46.390625 \nz\nM 14.796875 27.296875 \nQ 14.796875 17.390625 18.875 11.75 \nQ 22.953125 6.109375 30.078125 6.109375 \nQ 37.203125 6.109375 41.296875 11.75 \nQ 45.40625 17.390625 45.40625 27.296875 \nQ 45.40625 37.203125 41.296875 42.84375 \nQ 37.203125 48.484375 30.078125 48.484375 \nQ 22.953125 48.484375 18.875 42.84375 \nQ 14.796875 37.203125 14.796875 27.296875 \nz\n\" id=\"DejaVuSans-100\"/>\n     <path d=\"M 47.703125 62.703125 \nL 47.703125 37.109375 \nL 73.1875 37.109375 \nL 73.1875 25.59375 \nL 47.703125 25.59375 \nL 47.703125 0 \nL 36.078125 0 \nL 36.078125 25.59375 \nL 10.59375 25.59375 \nL 10.59375 37.109375 \nL 36.078125 37.109375 \nL 36.078125 62.703125 \nz\n\" id=\"DejaVuSans-Bold-43\"/>\n    </defs>\n    <g transform=\"translate(97.287063 19.965375)scale(0.168 -0.168)\">\n     <use transform=\"translate(0 0.015625)\" xlink:href=\"#DejaVuSans-86\"/>\n     <use transform=\"translate(68.408203 0.015625)\" xlink:href=\"#DejaVuSans-101\"/>\n     <use transform=\"translate(129.931641 0.015625)\" xlink:href=\"#DejaVuSans-99\"/>\n     <use transform=\"translate(184.912109 0.015625)\" xlink:href=\"#DejaVuSans-116\"/>\n     <use transform=\"translate(224.121094 0.015625)\" xlink:href=\"#DejaVuSans-111\"/>\n     <use transform=\"translate(285.302734 0.015625)\" xlink:href=\"#DejaVuSans-114\"/>\n     <use transform=\"translate(326.416016 0.015625)\" xlink:href=\"#DejaVuSans-115\"/>\n     <use transform=\"translate(378.515625 0.015625)\" xlink:href=\"#DejaVuSans-32\"/>\n     <use transform=\"translate(410.302734 0.015625)\" xlink:href=\"#DejaVuSans-Bold-118\"/>\n     <use transform=\"translate(475.488281 0.015625)\" xlink:href=\"#DejaVuSans-44\"/>\n     <use transform=\"translate(507.275391 0.015625)\" xlink:href=\"#DejaVuSans-32\"/>\n     <use transform=\"translate(539.0625 0.015625)\" xlink:href=\"#DejaVuSans-Bold-119\"/>\n     <use transform=\"translate(631.445312 0.015625)\" xlink:href=\"#DejaVuSans-44\"/>\n     <use transform=\"translate(663.232422 0.015625)\" xlink:href=\"#DejaVuSans-32\"/>\n     <use transform=\"translate(695.019531 0.015625)\" xlink:href=\"#DejaVuSans-97\"/>\n     <use transform=\"translate(756.298828 0.015625)\" xlink:href=\"#DejaVuSans-110\"/>\n     <use transform=\"translate(819.677734 0.015625)\" xlink:href=\"#DejaVuSans-100\"/>\n     <use transform=\"translate(883.154297 0.015625)\" xlink:href=\"#DejaVuSans-32\"/>\n     <use transform=\"translate(914.941406 0.015625)\" xlink:href=\"#DejaVuSans-Bold-118\"/>\n     <use transform=\"translate(1000.966797 0.015625)\" xlink:href=\"#DejaVuSans-Bold-43\"/>\n     <use transform=\"translate(1105.595703 0.015625)\" xlink:href=\"#DejaVuSans-Bold-119\"/>\n    </g>\n   </g>\n   <g id=\"legend_1\">\n    <g id=\"patch_10\">\n     <path d=\"M 274.931875 98.8135 \nL 351.199063 98.8135 \nQ 353.999063 98.8135 353.999063 96.0135 \nL 353.999063 35.765375 \nQ 353.999063 32.965375 351.199063 32.965375 \nL 274.931875 32.965375 \nQ 272.131875 32.965375 272.131875 35.765375 \nL 272.131875 96.0135 \nQ 272.131875 98.8135 274.931875 98.8135 \nz\n\" style=\"fill:#ffffff;opacity:0.8;stroke:#cccccc;stroke-linejoin:miter;\"/>\n    </g>\n    <g id=\"patch_11\">\n     <path d=\"M 277.731875 49.203187 \nL 305.731875 49.203187 \nL 305.731875 39.403187 \nL 277.731875 39.403187 \nz\n\" style=\"stroke:#000000;stroke-linejoin:miter;\"/>\n    </g>\n    <g id=\"text_16\">\n     <!-- v -->\n     <defs>\n      <path d=\"M 2.984375 54.6875 \nL 12.5 54.6875 \nL 29.59375 8.796875 \nL 46.6875 54.6875 \nL 56.203125 54.6875 \nL 35.6875 0 \nL 23.484375 0 \nz\n\" id=\"DejaVuSans-118\"/>\n     </defs>\n     <g transform=\"translate(316.931875 49.203187)scale(0.14 -0.14)\">\n      <use xlink:href=\"#DejaVuSans-118\"/>\n     </g>\n    </g>\n    <g id=\"patch_12\">\n     <path d=\"M 277.731875 69.752562 \nL 305.731875 69.752562 \nL 305.731875 59.952562 \nL 277.731875 59.952562 \nz\n\" style=\"fill:#808080;stroke:#808080;stroke-linejoin:miter;\"/>\n    </g>\n    <g id=\"text_17\">\n     <!-- w -->\n     <defs>\n      <path d=\"M 4.203125 54.6875 \nL 13.1875 54.6875 \nL 24.421875 12.015625 \nL 35.59375 54.6875 \nL 46.1875 54.6875 \nL 57.421875 12.015625 \nL 68.609375 54.6875 \nL 77.59375 54.6875 \nL 63.28125 0 \nL 52.6875 0 \nL 40.921875 44.828125 \nL 29.109375 0 \nL 18.5 0 \nz\n\" id=\"DejaVuSans-119\"/>\n     </defs>\n     <g transform=\"translate(316.931875 69.752562)scale(0.14 -0.14)\">\n      <use xlink:href=\"#DejaVuSans-119\"/>\n     </g>\n    </g>\n    <g id=\"patch_13\">\n     <path d=\"M 277.731875 90.301937 \nL 305.731875 90.301937 \nL 305.731875 80.501937 \nL 277.731875 80.501937 \nz\n\" style=\"fill:#cccccc;stroke:#cccccc;stroke-linejoin:miter;\"/>\n    </g>\n    <g id=\"text_18\">\n     <!-- v+w -->\n     <defs>\n      <path d=\"M 46 62.703125 \nL 46 35.5 \nL 73.1875 35.5 \nL 73.1875 27.203125 \nL 46 27.203125 \nL 46 0 \nL 37.796875 0 \nL 37.796875 27.203125 \nL 10.59375 27.203125 \nL 10.59375 35.5 \nL 37.796875 35.5 \nL 37.796875 62.703125 \nz\n\" id=\"DejaVuSans-43\"/>\n     </defs>\n     <g transform=\"translate(316.931875 90.301937)scale(0.14 -0.14)\">\n      <use xlink:href=\"#DejaVuSans-118\"/>\n      <use x=\"59.179688\" xlink:href=\"#DejaVuSans-43\"/>\n      <use x=\"142.96875\" xlink:href=\"#DejaVuSans-119\"/>\n     </g>\n    </g>\n   </g>\n  </g>\n </g>\n <defs>\n  <clipPath id=\"pdd35dbd90c\">\n   <rect height=\"326.16\" width=\"326.16\" x=\"34.839063\" y=\"25.965375\"/>\n  </clipPath>\n </defs>\n</svg>\n"
          },
          "metadata": {
            "needs_background": "light"
          }
        }
      ]
    },
    {
      "cell_type": "code",
      "source": [
        "# vector difference\n",
        "vMinusW = v-w\n",
        "\n",
        "\n",
        "# now plot all three vectors\n",
        "plt.figure(figsize=(6,6))\n",
        "\n",
        "a1 = plt.arrow(0,0,v[0],v[1],head_width=.3,width=.1,color='k',length_includes_head=True)\n",
        "a2 = plt.arrow(0,0,w[0],w[1],head_width=.3,width=.1,color=[.5,.5,.5],length_includes_head=True)\n",
        "a3 = plt.arrow(w[0],w[1],vMinusW[0],vMinusW[1],head_width=.3,width=.1,color=[.8,.8,.8],length_includes_head=True)\n",
        "\n",
        "\n",
        "# make the plot look a bit nicer\n",
        "plt.grid(linestyle='--',linewidth=.5)\n",
        "plt.axis('square')\n",
        "plt.axis([-6,6,-6,6])\n",
        "plt.legend([a1,a2,a3],['v','w','v-w'])\n",
        "plt.title('Vectors $\\mathbf{v}$, $\\mathbf{w}$, and $\\mathbf{v-w}$')\n",
        "plt.savefig('Figure_02_02b.png',dpi=300)\n",
        "plt.show()"
      ],
      "metadata": {
        "id": "bFk5NUHeEjVe",
        "colab": {
          "base_uri": "https://localhost:8080/",
          "height": 528
        },
        "outputId": "58e37d8e-e629-4828-ccc1-f23360763a22"
      },
      "execution_count": 67,
      "outputs": [
        {
          "output_type": "display_data",
          "data": {
            "text/plain": [
              "<Figure size 432x432 with 1 Axes>"
            ],
            "image/svg+xml": "<?xml version=\"1.0\" encoding=\"utf-8\" standalone=\"no\"?>\n<!DOCTYPE svg PUBLIC \"-//W3C//DTD SVG 1.1//EN\"\n  \"http://www.w3.org/Graphics/SVG/1.1/DTD/svg11.dtd\">\n<!-- Created with matplotlib (https://matplotlib.org/) -->\n<svg height=\"379.87475pt\" version=\"1.1\" viewBox=\"0 0 372.652812 379.87475\" width=\"372.652812pt\" xmlns=\"http://www.w3.org/2000/svg\" xmlns:xlink=\"http://www.w3.org/1999/xlink\">\n <defs>\n  <style type=\"text/css\">\n*{stroke-linecap:butt;stroke-linejoin:round;}\n  </style>\n </defs>\n <g id=\"figure_1\">\n  <g id=\"patch_1\">\n   <path d=\"M 0 379.87475 \nL 372.652812 379.87475 \nL 372.652812 0 \nL 0 0 \nz\n\" style=\"fill:none;\"/>\n  </g>\n  <g id=\"axes_1\">\n   <g id=\"patch_2\">\n    <path d=\"M 34.839063 352.125375 \nL 360.999063 352.125375 \nL 360.999063 25.965375 \nL 34.839063 25.965375 \nz\n\" style=\"fill:#ffffff;\"/>\n   </g>\n   <g id=\"patch_3\">\n    <path clip-path=\"url(#p13051336ac)\" d=\"M 225.099063 134.685375 \nL 223.275773 147.448404 \nL 220.84472 146.232877 \nL 199.134589 189.653138 \nL 196.703536 188.437612 \nL 218.413666 145.017351 \nL 215.982613 143.801824 \nz\n\" style=\"stroke:#000000;stroke-linejoin:miter;\"/>\n   </g>\n   <g id=\"patch_4\">\n    <path clip-path=\"url(#p13051336ac)\" d=\"M 306.639063 352.125375 \nL 296.462255 344.210081 \nL 298.723768 342.702405 \nL 196.788306 189.799213 \nL 199.049819 188.291537 \nL 300.985281 341.19473 \nL 303.246793 339.687055 \nz\n\" style=\"fill:#808080;stroke:#808080;stroke-linejoin:miter;\"/>\n   </g>\n   <g id=\"patch_5\">\n    <path clip-path=\"url(#p13051336ac)\" d=\"M 225.099063 134.685375 \nL 233.211067 144.706087 \nL 230.666125 145.66044 \nL 307.911534 351.648198 \nL 305.366591 352.602552 \nL 228.121182 146.614794 \nL 225.576239 147.569147 \nz\n\" style=\"fill:#cccccc;stroke:#cccccc;stroke-linejoin:miter;\"/>\n   </g>\n   <g id=\"matplotlib.axis_1\">\n    <g id=\"xtick_1\">\n     <g id=\"line2d_1\">\n      <path clip-path=\"url(#p13051336ac)\" d=\"M 34.839063 352.125375 \nL 34.839063 25.965375 \n\" style=\"fill:none;stroke:#b0b0b0;stroke-dasharray:1.85,0.8;stroke-dashoffset:0;stroke-width:0.5;\"/>\n     </g>\n     <g id=\"line2d_2\">\n      <defs>\n       <path d=\"M 0 0 \nL 0 3.5 \n\" id=\"m013b8ccb9d\" style=\"stroke:#000000;stroke-width:0.8;\"/>\n      </defs>\n      <g>\n       <use style=\"stroke:#000000;stroke-width:0.8;\" x=\"34.839063\" xlink:href=\"#m013b8ccb9d\" y=\"352.125375\"/>\n      </g>\n     </g>\n     <g id=\"text_1\">\n      <!-- −6 -->\n      <defs>\n       <path d=\"M 10.59375 35.5 \nL 73.1875 35.5 \nL 73.1875 27.203125 \nL 10.59375 27.203125 \nz\n\" id=\"DejaVuSans-8722\"/>\n       <path d=\"M 33.015625 40.375 \nQ 26.375 40.375 22.484375 35.828125 \nQ 18.609375 31.296875 18.609375 23.390625 \nQ 18.609375 15.53125 22.484375 10.953125 \nQ 26.375 6.390625 33.015625 6.390625 \nQ 39.65625 6.390625 43.53125 10.953125 \nQ 47.40625 15.53125 47.40625 23.390625 \nQ 47.40625 31.296875 43.53125 35.828125 \nQ 39.65625 40.375 33.015625 40.375 \nz\nM 52.59375 71.296875 \nL 52.59375 62.3125 \nQ 48.875 64.0625 45.09375 64.984375 \nQ 41.3125 65.921875 37.59375 65.921875 \nQ 27.828125 65.921875 22.671875 59.328125 \nQ 17.53125 52.734375 16.796875 39.40625 \nQ 19.671875 43.65625 24.015625 45.921875 \nQ 28.375 48.1875 33.59375 48.1875 \nQ 44.578125 48.1875 50.953125 41.515625 \nQ 57.328125 34.859375 57.328125 23.390625 \nQ 57.328125 12.15625 50.6875 5.359375 \nQ 44.046875 -1.421875 33.015625 -1.421875 \nQ 20.359375 -1.421875 13.671875 8.265625 \nQ 6.984375 17.96875 6.984375 36.375 \nQ 6.984375 53.65625 15.1875 63.9375 \nQ 23.390625 74.21875 37.203125 74.21875 \nQ 40.921875 74.21875 44.703125 73.484375 \nQ 48.484375 72.75 52.59375 71.296875 \nz\n\" id=\"DejaVuSans-54\"/>\n      </defs>\n      <g transform=\"translate(24.519531 369.763188)scale(0.14 -0.14)\">\n       <use xlink:href=\"#DejaVuSans-8722\"/>\n       <use x=\"83.789062\" xlink:href=\"#DejaVuSans-54\"/>\n      </g>\n     </g>\n    </g>\n    <g id=\"xtick_2\">\n     <g id=\"line2d_3\">\n      <path clip-path=\"url(#p13051336ac)\" d=\"M 89.199063 352.125375 \nL 89.199063 25.965375 \n\" style=\"fill:none;stroke:#b0b0b0;stroke-dasharray:1.85,0.8;stroke-dashoffset:0;stroke-width:0.5;\"/>\n     </g>\n     <g id=\"line2d_4\">\n      <g>\n       <use style=\"stroke:#000000;stroke-width:0.8;\" x=\"89.199063\" xlink:href=\"#m013b8ccb9d\" y=\"352.125375\"/>\n      </g>\n     </g>\n     <g id=\"text_2\">\n      <!-- −4 -->\n      <defs>\n       <path d=\"M 37.796875 64.3125 \nL 12.890625 25.390625 \nL 37.796875 25.390625 \nz\nM 35.203125 72.90625 \nL 47.609375 72.90625 \nL 47.609375 25.390625 \nL 58.015625 25.390625 \nL 58.015625 17.1875 \nL 47.609375 17.1875 \nL 47.609375 0 \nL 37.796875 0 \nL 37.796875 17.1875 \nL 4.890625 17.1875 \nL 4.890625 26.703125 \nz\n\" id=\"DejaVuSans-52\"/>\n      </defs>\n      <g transform=\"translate(78.879531 369.763188)scale(0.14 -0.14)\">\n       <use xlink:href=\"#DejaVuSans-8722\"/>\n       <use x=\"83.789062\" xlink:href=\"#DejaVuSans-52\"/>\n      </g>\n     </g>\n    </g>\n    <g id=\"xtick_3\">\n     <g id=\"line2d_5\">\n      <path clip-path=\"url(#p13051336ac)\" d=\"M 143.559063 352.125375 \nL 143.559063 25.965375 \n\" style=\"fill:none;stroke:#b0b0b0;stroke-dasharray:1.85,0.8;stroke-dashoffset:0;stroke-width:0.5;\"/>\n     </g>\n     <g id=\"line2d_6\">\n      <g>\n       <use style=\"stroke:#000000;stroke-width:0.8;\" x=\"143.559063\" xlink:href=\"#m013b8ccb9d\" y=\"352.125375\"/>\n      </g>\n     </g>\n     <g id=\"text_3\">\n      <!-- −2 -->\n      <defs>\n       <path d=\"M 19.1875 8.296875 \nL 53.609375 8.296875 \nL 53.609375 0 \nL 7.328125 0 \nL 7.328125 8.296875 \nQ 12.9375 14.109375 22.625 23.890625 \nQ 32.328125 33.6875 34.8125 36.53125 \nQ 39.546875 41.84375 41.421875 45.53125 \nQ 43.3125 49.21875 43.3125 52.78125 \nQ 43.3125 58.59375 39.234375 62.25 \nQ 35.15625 65.921875 28.609375 65.921875 \nQ 23.96875 65.921875 18.8125 64.3125 \nQ 13.671875 62.703125 7.8125 59.421875 \nL 7.8125 69.390625 \nQ 13.765625 71.78125 18.9375 73 \nQ 24.125 74.21875 28.421875 74.21875 \nQ 39.75 74.21875 46.484375 68.546875 \nQ 53.21875 62.890625 53.21875 53.421875 \nQ 53.21875 48.921875 51.53125 44.890625 \nQ 49.859375 40.875 45.40625 35.40625 \nQ 44.1875 33.984375 37.640625 27.21875 \nQ 31.109375 20.453125 19.1875 8.296875 \nz\n\" id=\"DejaVuSans-50\"/>\n      </defs>\n      <g transform=\"translate(133.239531 369.763188)scale(0.14 -0.14)\">\n       <use xlink:href=\"#DejaVuSans-8722\"/>\n       <use x=\"83.789062\" xlink:href=\"#DejaVuSans-50\"/>\n      </g>\n     </g>\n    </g>\n    <g id=\"xtick_4\">\n     <g id=\"line2d_7\">\n      <path clip-path=\"url(#p13051336ac)\" d=\"M 197.919063 352.125375 \nL 197.919063 25.965375 \n\" style=\"fill:none;stroke:#b0b0b0;stroke-dasharray:1.85,0.8;stroke-dashoffset:0;stroke-width:0.5;\"/>\n     </g>\n     <g id=\"line2d_8\">\n      <g>\n       <use style=\"stroke:#000000;stroke-width:0.8;\" x=\"197.919063\" xlink:href=\"#m013b8ccb9d\" y=\"352.125375\"/>\n      </g>\n     </g>\n     <g id=\"text_4\">\n      <!-- 0 -->\n      <defs>\n       <path d=\"M 31.78125 66.40625 \nQ 24.171875 66.40625 20.328125 58.90625 \nQ 16.5 51.421875 16.5 36.375 \nQ 16.5 21.390625 20.328125 13.890625 \nQ 24.171875 6.390625 31.78125 6.390625 \nQ 39.453125 6.390625 43.28125 13.890625 \nQ 47.125 21.390625 47.125 36.375 \nQ 47.125 51.421875 43.28125 58.90625 \nQ 39.453125 66.40625 31.78125 66.40625 \nz\nM 31.78125 74.21875 \nQ 44.046875 74.21875 50.515625 64.515625 \nQ 56.984375 54.828125 56.984375 36.375 \nQ 56.984375 17.96875 50.515625 8.265625 \nQ 44.046875 -1.421875 31.78125 -1.421875 \nQ 19.53125 -1.421875 13.0625 8.265625 \nQ 6.59375 17.96875 6.59375 36.375 \nQ 6.59375 54.828125 13.0625 64.515625 \nQ 19.53125 74.21875 31.78125 74.21875 \nz\n\" id=\"DejaVuSans-48\"/>\n      </defs>\n      <g transform=\"translate(193.465313 369.763188)scale(0.14 -0.14)\">\n       <use xlink:href=\"#DejaVuSans-48\"/>\n      </g>\n     </g>\n    </g>\n    <g id=\"xtick_5\">\n     <g id=\"line2d_9\">\n      <path clip-path=\"url(#p13051336ac)\" d=\"M 252.279063 352.125375 \nL 252.279063 25.965375 \n\" style=\"fill:none;stroke:#b0b0b0;stroke-dasharray:1.85,0.8;stroke-dashoffset:0;stroke-width:0.5;\"/>\n     </g>\n     <g id=\"line2d_10\">\n      <g>\n       <use style=\"stroke:#000000;stroke-width:0.8;\" x=\"252.279063\" xlink:href=\"#m013b8ccb9d\" y=\"352.125375\"/>\n      </g>\n     </g>\n     <g id=\"text_5\">\n      <!-- 2 -->\n      <g transform=\"translate(247.825312 369.763188)scale(0.14 -0.14)\">\n       <use xlink:href=\"#DejaVuSans-50\"/>\n      </g>\n     </g>\n    </g>\n    <g id=\"xtick_6\">\n     <g id=\"line2d_11\">\n      <path clip-path=\"url(#p13051336ac)\" d=\"M 306.639063 352.125375 \nL 306.639063 25.965375 \n\" style=\"fill:none;stroke:#b0b0b0;stroke-dasharray:1.85,0.8;stroke-dashoffset:0;stroke-width:0.5;\"/>\n     </g>\n     <g id=\"line2d_12\">\n      <g>\n       <use style=\"stroke:#000000;stroke-width:0.8;\" x=\"306.639063\" xlink:href=\"#m013b8ccb9d\" y=\"352.125375\"/>\n      </g>\n     </g>\n     <g id=\"text_6\">\n      <!-- 4 -->\n      <g transform=\"translate(302.185313 369.763188)scale(0.14 -0.14)\">\n       <use xlink:href=\"#DejaVuSans-52\"/>\n      </g>\n     </g>\n    </g>\n    <g id=\"xtick_7\">\n     <g id=\"line2d_13\">\n      <path clip-path=\"url(#p13051336ac)\" d=\"M 360.999063 352.125375 \nL 360.999063 25.965375 \n\" style=\"fill:none;stroke:#b0b0b0;stroke-dasharray:1.85,0.8;stroke-dashoffset:0;stroke-width:0.5;\"/>\n     </g>\n     <g id=\"line2d_14\">\n      <g>\n       <use style=\"stroke:#000000;stroke-width:0.8;\" x=\"360.999063\" xlink:href=\"#m013b8ccb9d\" y=\"352.125375\"/>\n      </g>\n     </g>\n     <g id=\"text_7\">\n      <!-- 6 -->\n      <g transform=\"translate(356.545313 369.763188)scale(0.14 -0.14)\">\n       <use xlink:href=\"#DejaVuSans-54\"/>\n      </g>\n     </g>\n    </g>\n   </g>\n   <g id=\"matplotlib.axis_2\">\n    <g id=\"ytick_1\">\n     <g id=\"line2d_15\">\n      <path clip-path=\"url(#p13051336ac)\" d=\"M 34.839063 352.125375 \nL 360.999063 352.125375 \n\" style=\"fill:none;stroke:#b0b0b0;stroke-dasharray:1.85,0.8;stroke-dashoffset:0;stroke-width:0.5;\"/>\n     </g>\n     <g id=\"line2d_16\">\n      <defs>\n       <path d=\"M 0 0 \nL -3.5 0 \n\" id=\"m6275225f46\" style=\"stroke:#000000;stroke-width:0.8;\"/>\n      </defs>\n      <g>\n       <use style=\"stroke:#000000;stroke-width:0.8;\" x=\"34.839063\" xlink:href=\"#m6275225f46\" y=\"352.125375\"/>\n      </g>\n     </g>\n     <g id=\"text_8\">\n      <!-- −6 -->\n      <g transform=\"translate(7.2 357.444281)scale(0.14 -0.14)\">\n       <use xlink:href=\"#DejaVuSans-8722\"/>\n       <use x=\"83.789062\" xlink:href=\"#DejaVuSans-54\"/>\n      </g>\n     </g>\n    </g>\n    <g id=\"ytick_2\">\n     <g id=\"line2d_17\">\n      <path clip-path=\"url(#p13051336ac)\" d=\"M 34.839063 297.765375 \nL 360.999063 297.765375 \n\" style=\"fill:none;stroke:#b0b0b0;stroke-dasharray:1.85,0.8;stroke-dashoffset:0;stroke-width:0.5;\"/>\n     </g>\n     <g id=\"line2d_18\">\n      <g>\n       <use style=\"stroke:#000000;stroke-width:0.8;\" x=\"34.839063\" xlink:href=\"#m6275225f46\" y=\"297.765375\"/>\n      </g>\n     </g>\n     <g id=\"text_9\">\n      <!-- −4 -->\n      <g transform=\"translate(7.2 303.084281)scale(0.14 -0.14)\">\n       <use xlink:href=\"#DejaVuSans-8722\"/>\n       <use x=\"83.789062\" xlink:href=\"#DejaVuSans-52\"/>\n      </g>\n     </g>\n    </g>\n    <g id=\"ytick_3\">\n     <g id=\"line2d_19\">\n      <path clip-path=\"url(#p13051336ac)\" d=\"M 34.839063 243.405375 \nL 360.999063 243.405375 \n\" style=\"fill:none;stroke:#b0b0b0;stroke-dasharray:1.85,0.8;stroke-dashoffset:0;stroke-width:0.5;\"/>\n     </g>\n     <g id=\"line2d_20\">\n      <g>\n       <use style=\"stroke:#000000;stroke-width:0.8;\" x=\"34.839063\" xlink:href=\"#m6275225f46\" y=\"243.405375\"/>\n      </g>\n     </g>\n     <g id=\"text_10\">\n      <!-- −2 -->\n      <g transform=\"translate(7.2 248.724281)scale(0.14 -0.14)\">\n       <use xlink:href=\"#DejaVuSans-8722\"/>\n       <use x=\"83.789062\" xlink:href=\"#DejaVuSans-50\"/>\n      </g>\n     </g>\n    </g>\n    <g id=\"ytick_4\">\n     <g id=\"line2d_21\">\n      <path clip-path=\"url(#p13051336ac)\" d=\"M 34.839063 189.045375 \nL 360.999063 189.045375 \n\" style=\"fill:none;stroke:#b0b0b0;stroke-dasharray:1.85,0.8;stroke-dashoffset:0;stroke-width:0.5;\"/>\n     </g>\n     <g id=\"line2d_22\">\n      <g>\n       <use style=\"stroke:#000000;stroke-width:0.8;\" x=\"34.839063\" xlink:href=\"#m6275225f46\" y=\"189.045375\"/>\n      </g>\n     </g>\n     <g id=\"text_11\">\n      <!-- 0 -->\n      <g transform=\"translate(18.931563 194.364281)scale(0.14 -0.14)\">\n       <use xlink:href=\"#DejaVuSans-48\"/>\n      </g>\n     </g>\n    </g>\n    <g id=\"ytick_5\">\n     <g id=\"line2d_23\">\n      <path clip-path=\"url(#p13051336ac)\" d=\"M 34.839063 134.685375 \nL 360.999063 134.685375 \n\" style=\"fill:none;stroke:#b0b0b0;stroke-dasharray:1.85,0.8;stroke-dashoffset:0;stroke-width:0.5;\"/>\n     </g>\n     <g id=\"line2d_24\">\n      <g>\n       <use style=\"stroke:#000000;stroke-width:0.8;\" x=\"34.839063\" xlink:href=\"#m6275225f46\" y=\"134.685375\"/>\n      </g>\n     </g>\n     <g id=\"text_12\">\n      <!-- 2 -->\n      <g transform=\"translate(18.931563 140.004281)scale(0.14 -0.14)\">\n       <use xlink:href=\"#DejaVuSans-50\"/>\n      </g>\n     </g>\n    </g>\n    <g id=\"ytick_6\">\n     <g id=\"line2d_25\">\n      <path clip-path=\"url(#p13051336ac)\" d=\"M 34.839063 80.325375 \nL 360.999063 80.325375 \n\" style=\"fill:none;stroke:#b0b0b0;stroke-dasharray:1.85,0.8;stroke-dashoffset:0;stroke-width:0.5;\"/>\n     </g>\n     <g id=\"line2d_26\">\n      <g>\n       <use style=\"stroke:#000000;stroke-width:0.8;\" x=\"34.839063\" xlink:href=\"#m6275225f46\" y=\"80.325375\"/>\n      </g>\n     </g>\n     <g id=\"text_13\">\n      <!-- 4 -->\n      <g transform=\"translate(18.931563 85.644281)scale(0.14 -0.14)\">\n       <use xlink:href=\"#DejaVuSans-52\"/>\n      </g>\n     </g>\n    </g>\n    <g id=\"ytick_7\">\n     <g id=\"line2d_27\">\n      <path clip-path=\"url(#p13051336ac)\" d=\"M 34.839063 25.965375 \nL 360.999063 25.965375 \n\" style=\"fill:none;stroke:#b0b0b0;stroke-dasharray:1.85,0.8;stroke-dashoffset:0;stroke-width:0.5;\"/>\n     </g>\n     <g id=\"line2d_28\">\n      <g>\n       <use style=\"stroke:#000000;stroke-width:0.8;\" x=\"34.839063\" xlink:href=\"#m6275225f46\" y=\"25.965375\"/>\n      </g>\n     </g>\n     <g id=\"text_14\">\n      <!-- 6 -->\n      <g transform=\"translate(18.931563 31.284281)scale(0.14 -0.14)\">\n       <use xlink:href=\"#DejaVuSans-54\"/>\n      </g>\n     </g>\n    </g>\n   </g>\n   <g id=\"patch_6\">\n    <path d=\"M 34.839063 352.125375 \nL 34.839063 25.965375 \n\" style=\"fill:none;stroke:#000000;stroke-linecap:square;stroke-linejoin:miter;stroke-width:0.8;\"/>\n   </g>\n   <g id=\"patch_7\">\n    <path d=\"M 360.999063 352.125375 \nL 360.999063 25.965375 \n\" style=\"fill:none;stroke:#000000;stroke-linecap:square;stroke-linejoin:miter;stroke-width:0.8;\"/>\n   </g>\n   <g id=\"patch_8\">\n    <path d=\"M 34.839063 352.125375 \nL 360.999063 352.125375 \n\" style=\"fill:none;stroke:#000000;stroke-linecap:square;stroke-linejoin:miter;stroke-width:0.8;\"/>\n   </g>\n   <g id=\"patch_9\">\n    <path d=\"M 34.839063 25.965375 \nL 360.999063 25.965375 \n\" style=\"fill:none;stroke:#000000;stroke-linecap:square;stroke-linejoin:miter;stroke-width:0.8;\"/>\n   </g>\n   <g id=\"text_15\">\n    <!-- Vectors $\\mathbf{v}$, $\\mathbf{w}$, and $\\mathbf{v-w}$ -->\n    <defs>\n     <path d=\"M 28.609375 0 \nL 0.78125 72.90625 \nL 11.078125 72.90625 \nL 34.1875 11.53125 \nL 57.328125 72.90625 \nL 67.578125 72.90625 \nL 39.796875 0 \nz\n\" id=\"DejaVuSans-86\"/>\n     <path d=\"M 56.203125 29.59375 \nL 56.203125 25.203125 \nL 14.890625 25.203125 \nQ 15.484375 15.921875 20.484375 11.0625 \nQ 25.484375 6.203125 34.421875 6.203125 \nQ 39.59375 6.203125 44.453125 7.46875 \nQ 49.3125 8.734375 54.109375 11.28125 \nL 54.109375 2.78125 \nQ 49.265625 0.734375 44.1875 -0.34375 \nQ 39.109375 -1.421875 33.890625 -1.421875 \nQ 20.796875 -1.421875 13.15625 6.1875 \nQ 5.515625 13.8125 5.515625 26.8125 \nQ 5.515625 40.234375 12.765625 48.109375 \nQ 20.015625 56 32.328125 56 \nQ 43.359375 56 49.78125 48.890625 \nQ 56.203125 41.796875 56.203125 29.59375 \nz\nM 47.21875 32.234375 \nQ 47.125 39.59375 43.09375 43.984375 \nQ 39.0625 48.390625 32.421875 48.390625 \nQ 24.90625 48.390625 20.390625 44.140625 \nQ 15.875 39.890625 15.1875 32.171875 \nz\n\" id=\"DejaVuSans-101\"/>\n     <path d=\"M 48.78125 52.59375 \nL 48.78125 44.1875 \nQ 44.96875 46.296875 41.140625 47.34375 \nQ 37.3125 48.390625 33.40625 48.390625 \nQ 24.65625 48.390625 19.8125 42.84375 \nQ 14.984375 37.3125 14.984375 27.296875 \nQ 14.984375 17.28125 19.8125 11.734375 \nQ 24.65625 6.203125 33.40625 6.203125 \nQ 37.3125 6.203125 41.140625 7.25 \nQ 44.96875 8.296875 48.78125 10.40625 \nL 48.78125 2.09375 \nQ 45.015625 0.34375 40.984375 -0.53125 \nQ 36.96875 -1.421875 32.421875 -1.421875 \nQ 20.0625 -1.421875 12.78125 6.34375 \nQ 5.515625 14.109375 5.515625 27.296875 \nQ 5.515625 40.671875 12.859375 48.328125 \nQ 20.21875 56 33.015625 56 \nQ 37.15625 56 41.109375 55.140625 \nQ 45.0625 54.296875 48.78125 52.59375 \nz\n\" id=\"DejaVuSans-99\"/>\n     <path d=\"M 18.3125 70.21875 \nL 18.3125 54.6875 \nL 36.8125 54.6875 \nL 36.8125 47.703125 \nL 18.3125 47.703125 \nL 18.3125 18.015625 \nQ 18.3125 11.328125 20.140625 9.421875 \nQ 21.96875 7.515625 27.59375 7.515625 \nL 36.8125 7.515625 \nL 36.8125 0 \nL 27.59375 0 \nQ 17.1875 0 13.234375 3.875 \nQ 9.28125 7.765625 9.28125 18.015625 \nL 9.28125 47.703125 \nL 2.6875 47.703125 \nL 2.6875 54.6875 \nL 9.28125 54.6875 \nL 9.28125 70.21875 \nz\n\" id=\"DejaVuSans-116\"/>\n     <path d=\"M 30.609375 48.390625 \nQ 23.390625 48.390625 19.1875 42.75 \nQ 14.984375 37.109375 14.984375 27.296875 \nQ 14.984375 17.484375 19.15625 11.84375 \nQ 23.34375 6.203125 30.609375 6.203125 \nQ 37.796875 6.203125 41.984375 11.859375 \nQ 46.1875 17.53125 46.1875 27.296875 \nQ 46.1875 37.015625 41.984375 42.703125 \nQ 37.796875 48.390625 30.609375 48.390625 \nz\nM 30.609375 56 \nQ 42.328125 56 49.015625 48.375 \nQ 55.71875 40.765625 55.71875 27.296875 \nQ 55.71875 13.875 49.015625 6.21875 \nQ 42.328125 -1.421875 30.609375 -1.421875 \nQ 18.84375 -1.421875 12.171875 6.21875 \nQ 5.515625 13.875 5.515625 27.296875 \nQ 5.515625 40.765625 12.171875 48.375 \nQ 18.84375 56 30.609375 56 \nz\n\" id=\"DejaVuSans-111\"/>\n     <path d=\"M 41.109375 46.296875 \nQ 39.59375 47.171875 37.8125 47.578125 \nQ 36.03125 48 33.890625 48 \nQ 26.265625 48 22.1875 43.046875 \nQ 18.109375 38.09375 18.109375 28.8125 \nL 18.109375 0 \nL 9.078125 0 \nL 9.078125 54.6875 \nL 18.109375 54.6875 \nL 18.109375 46.1875 \nQ 20.953125 51.171875 25.484375 53.578125 \nQ 30.03125 56 36.53125 56 \nQ 37.453125 56 38.578125 55.875 \nQ 39.703125 55.765625 41.0625 55.515625 \nz\n\" id=\"DejaVuSans-114\"/>\n     <path d=\"M 44.28125 53.078125 \nL 44.28125 44.578125 \nQ 40.484375 46.53125 36.375 47.5 \nQ 32.28125 48.484375 27.875 48.484375 \nQ 21.1875 48.484375 17.84375 46.4375 \nQ 14.5 44.390625 14.5 40.28125 \nQ 14.5 37.15625 16.890625 35.375 \nQ 19.28125 33.59375 26.515625 31.984375 \nL 29.59375 31.296875 \nQ 39.15625 29.25 43.1875 25.515625 \nQ 47.21875 21.78125 47.21875 15.09375 \nQ 47.21875 7.46875 41.1875 3.015625 \nQ 35.15625 -1.421875 24.609375 -1.421875 \nQ 20.21875 -1.421875 15.453125 -0.5625 \nQ 10.6875 0.296875 5.421875 2 \nL 5.421875 11.28125 \nQ 10.40625 8.6875 15.234375 7.390625 \nQ 20.0625 6.109375 24.8125 6.109375 \nQ 31.15625 6.109375 34.5625 8.28125 \nQ 37.984375 10.453125 37.984375 14.40625 \nQ 37.984375 18.0625 35.515625 20.015625 \nQ 33.0625 21.96875 24.703125 23.78125 \nL 21.578125 24.515625 \nQ 13.234375 26.265625 9.515625 29.90625 \nQ 5.8125 33.546875 5.8125 39.890625 \nQ 5.8125 47.609375 11.28125 51.796875 \nQ 16.75 56 26.8125 56 \nQ 31.78125 56 36.171875 55.265625 \nQ 40.578125 54.546875 44.28125 53.078125 \nz\n\" id=\"DejaVuSans-115\"/>\n     <path id=\"DejaVuSans-32\"/>\n     <path d=\"M 1.515625 54.6875 \nL 19 54.6875 \nL 32.625 16.890625 \nL 46.1875 54.6875 \nL 63.71875 54.6875 \nL 42.1875 0 \nL 23 0 \nz\n\" id=\"DejaVuSans-Bold-118\"/>\n     <path d=\"M 11.71875 12.40625 \nL 22.015625 12.40625 \nL 22.015625 4 \nL 14.015625 -11.625 \nL 7.71875 -11.625 \nL 11.71875 4 \nz\n\" id=\"DejaVuSans-44\"/>\n     <path d=\"M 3.515625 54.6875 \nL 20.515625 54.6875 \nL 29.6875 17 \nL 38.921875 54.6875 \nL 53.515625 54.6875 \nL 62.703125 17.390625 \nL 71.921875 54.6875 \nL 88.921875 54.6875 \nL 74.515625 0 \nL 55.421875 0 \nL 46.1875 37.59375 \nL 37.015625 0 \nL 17.921875 0 \nz\n\" id=\"DejaVuSans-Bold-119\"/>\n     <path d=\"M 34.28125 27.484375 \nQ 23.390625 27.484375 19.1875 25 \nQ 14.984375 22.515625 14.984375 16.5 \nQ 14.984375 11.71875 18.140625 8.90625 \nQ 21.296875 6.109375 26.703125 6.109375 \nQ 34.1875 6.109375 38.703125 11.40625 \nQ 43.21875 16.703125 43.21875 25.484375 \nL 43.21875 27.484375 \nz\nM 52.203125 31.203125 \nL 52.203125 0 \nL 43.21875 0 \nL 43.21875 8.296875 \nQ 40.140625 3.328125 35.546875 0.953125 \nQ 30.953125 -1.421875 24.3125 -1.421875 \nQ 15.921875 -1.421875 10.953125 3.296875 \nQ 6 8.015625 6 15.921875 \nQ 6 25.140625 12.171875 29.828125 \nQ 18.359375 34.515625 30.609375 34.515625 \nL 43.21875 34.515625 \nL 43.21875 35.40625 \nQ 43.21875 41.609375 39.140625 45 \nQ 35.0625 48.390625 27.6875 48.390625 \nQ 23 48.390625 18.546875 47.265625 \nQ 14.109375 46.140625 10.015625 43.890625 \nL 10.015625 52.203125 \nQ 14.9375 54.109375 19.578125 55.046875 \nQ 24.21875 56 28.609375 56 \nQ 40.484375 56 46.34375 49.84375 \nQ 52.203125 43.703125 52.203125 31.203125 \nz\n\" id=\"DejaVuSans-97\"/>\n     <path d=\"M 54.890625 33.015625 \nL 54.890625 0 \nL 45.90625 0 \nL 45.90625 32.71875 \nQ 45.90625 40.484375 42.875 44.328125 \nQ 39.84375 48.1875 33.796875 48.1875 \nQ 26.515625 48.1875 22.3125 43.546875 \nQ 18.109375 38.921875 18.109375 30.90625 \nL 18.109375 0 \nL 9.078125 0 \nL 9.078125 54.6875 \nL 18.109375 54.6875 \nL 18.109375 46.1875 \nQ 21.34375 51.125 25.703125 53.5625 \nQ 30.078125 56 35.796875 56 \nQ 45.21875 56 50.046875 50.171875 \nQ 54.890625 44.34375 54.890625 33.015625 \nz\n\" id=\"DejaVuSans-110\"/>\n     <path d=\"M 45.40625 46.390625 \nL 45.40625 75.984375 \nL 54.390625 75.984375 \nL 54.390625 0 \nL 45.40625 0 \nL 45.40625 8.203125 \nQ 42.578125 3.328125 38.25 0.953125 \nQ 33.9375 -1.421875 27.875 -1.421875 \nQ 17.96875 -1.421875 11.734375 6.484375 \nQ 5.515625 14.40625 5.515625 27.296875 \nQ 5.515625 40.1875 11.734375 48.09375 \nQ 17.96875 56 27.875 56 \nQ 33.9375 56 38.25 53.625 \nQ 42.578125 51.265625 45.40625 46.390625 \nz\nM 14.796875 27.296875 \nQ 14.796875 17.390625 18.875 11.75 \nQ 22.953125 6.109375 30.078125 6.109375 \nQ 37.203125 6.109375 41.296875 11.75 \nQ 45.40625 17.390625 45.40625 27.296875 \nQ 45.40625 37.203125 41.296875 42.84375 \nQ 37.203125 48.484375 30.078125 48.484375 \nQ 22.953125 48.484375 18.875 42.84375 \nQ 14.796875 37.203125 14.796875 27.296875 \nz\n\" id=\"DejaVuSans-100\"/>\n     <path d=\"M 10.59375 37.109375 \nL 73.1875 37.109375 \nL 73.1875 25.59375 \nL 10.59375 25.59375 \nz\n\" id=\"DejaVuSans-Bold-8722\"/>\n    </defs>\n    <g transform=\"translate(97.287063 19.965375)scale(0.168 -0.168)\">\n     <use transform=\"translate(0 0.015625)\" xlink:href=\"#DejaVuSans-86\"/>\n     <use transform=\"translate(68.408203 0.015625)\" xlink:href=\"#DejaVuSans-101\"/>\n     <use transform=\"translate(129.931641 0.015625)\" xlink:href=\"#DejaVuSans-99\"/>\n     <use transform=\"translate(184.912109 0.015625)\" xlink:href=\"#DejaVuSans-116\"/>\n     <use transform=\"translate(224.121094 0.015625)\" xlink:href=\"#DejaVuSans-111\"/>\n     <use transform=\"translate(285.302734 0.015625)\" xlink:href=\"#DejaVuSans-114\"/>\n     <use transform=\"translate(326.416016 0.015625)\" xlink:href=\"#DejaVuSans-115\"/>\n     <use transform=\"translate(378.515625 0.015625)\" xlink:href=\"#DejaVuSans-32\"/>\n     <use transform=\"translate(410.302734 0.015625)\" xlink:href=\"#DejaVuSans-Bold-118\"/>\n     <use transform=\"translate(475.488281 0.015625)\" xlink:href=\"#DejaVuSans-44\"/>\n     <use transform=\"translate(507.275391 0.015625)\" xlink:href=\"#DejaVuSans-32\"/>\n     <use transform=\"translate(539.0625 0.015625)\" xlink:href=\"#DejaVuSans-Bold-119\"/>\n     <use transform=\"translate(631.445312 0.015625)\" xlink:href=\"#DejaVuSans-44\"/>\n     <use transform=\"translate(663.232422 0.015625)\" xlink:href=\"#DejaVuSans-32\"/>\n     <use transform=\"translate(695.019531 0.015625)\" xlink:href=\"#DejaVuSans-97\"/>\n     <use transform=\"translate(756.298828 0.015625)\" xlink:href=\"#DejaVuSans-110\"/>\n     <use transform=\"translate(819.677734 0.015625)\" xlink:href=\"#DejaVuSans-100\"/>\n     <use transform=\"translate(883.154297 0.015625)\" xlink:href=\"#DejaVuSans-32\"/>\n     <use transform=\"translate(914.941406 0.015625)\" xlink:href=\"#DejaVuSans-Bold-118\"/>\n     <use transform=\"translate(1000.966797 0.015625)\" xlink:href=\"#DejaVuSans-Bold-8722\"/>\n     <use transform=\"translate(1105.595703 0.015625)\" xlink:href=\"#DejaVuSans-Bold-119\"/>\n    </g>\n   </g>\n   <g id=\"legend_1\">\n    <g id=\"patch_10\">\n     <path d=\"M 281.98 98.8135 \nL 351.199063 98.8135 \nQ 353.999063 98.8135 353.999063 96.0135 \nL 353.999063 35.765375 \nQ 353.999063 32.965375 351.199063 32.965375 \nL 281.98 32.965375 \nQ 279.18 32.965375 279.18 35.765375 \nL 279.18 96.0135 \nQ 279.18 98.8135 281.98 98.8135 \nz\n\" style=\"fill:#ffffff;opacity:0.8;stroke:#cccccc;stroke-linejoin:miter;\"/>\n    </g>\n    <g id=\"patch_11\">\n     <path d=\"M 284.78 49.203187 \nL 312.78 49.203187 \nL 312.78 39.403187 \nL 284.78 39.403187 \nz\n\" style=\"stroke:#000000;stroke-linejoin:miter;\"/>\n    </g>\n    <g id=\"text_16\">\n     <!-- v -->\n     <defs>\n      <path d=\"M 2.984375 54.6875 \nL 12.5 54.6875 \nL 29.59375 8.796875 \nL 46.6875 54.6875 \nL 56.203125 54.6875 \nL 35.6875 0 \nL 23.484375 0 \nz\n\" id=\"DejaVuSans-118\"/>\n     </defs>\n     <g transform=\"translate(323.98 49.203187)scale(0.14 -0.14)\">\n      <use xlink:href=\"#DejaVuSans-118\"/>\n     </g>\n    </g>\n    <g id=\"patch_12\">\n     <path d=\"M 284.78 69.752562 \nL 312.78 69.752562 \nL 312.78 59.952562 \nL 284.78 59.952562 \nz\n\" style=\"fill:#808080;stroke:#808080;stroke-linejoin:miter;\"/>\n    </g>\n    <g id=\"text_17\">\n     <!-- w -->\n     <defs>\n      <path d=\"M 4.203125 54.6875 \nL 13.1875 54.6875 \nL 24.421875 12.015625 \nL 35.59375 54.6875 \nL 46.1875 54.6875 \nL 57.421875 12.015625 \nL 68.609375 54.6875 \nL 77.59375 54.6875 \nL 63.28125 0 \nL 52.6875 0 \nL 40.921875 44.828125 \nL 29.109375 0 \nL 18.5 0 \nz\n\" id=\"DejaVuSans-119\"/>\n     </defs>\n     <g transform=\"translate(323.98 69.752562)scale(0.14 -0.14)\">\n      <use xlink:href=\"#DejaVuSans-119\"/>\n     </g>\n    </g>\n    <g id=\"patch_13\">\n     <path d=\"M 284.78 90.301937 \nL 312.78 90.301937 \nL 312.78 80.501937 \nL 284.78 80.501937 \nz\n\" style=\"fill:#cccccc;stroke:#cccccc;stroke-linejoin:miter;\"/>\n    </g>\n    <g id=\"text_18\">\n     <!-- v-w -->\n     <defs>\n      <path d=\"M 4.890625 31.390625 \nL 31.203125 31.390625 \nL 31.203125 23.390625 \nL 4.890625 23.390625 \nz\n\" id=\"DejaVuSans-45\"/>\n     </defs>\n     <g transform=\"translate(323.98 90.301937)scale(0.14 -0.14)\">\n      <use xlink:href=\"#DejaVuSans-118\"/>\n      <use x=\"56.554688\" xlink:href=\"#DejaVuSans-45\"/>\n      <use x=\"92.638672\" xlink:href=\"#DejaVuSans-119\"/>\n     </g>\n    </g>\n   </g>\n  </g>\n </g>\n <defs>\n  <clipPath id=\"p13051336ac\">\n   <rect height=\"326.16\" width=\"326.16\" x=\"34.839063\" y=\"25.965375\"/>\n  </clipPath>\n </defs>\n</svg>\n"
          },
          "metadata": {
            "needs_background": "light"
          }
        }
      ]
    },
    {
      "cell_type": "code",
      "source": [],
      "metadata": {
        "id": "aEyAijHeEQZi"
      },
      "execution_count": 67,
      "outputs": []
    },
    {
      "cell_type": "markdown",
      "source": [
        "# Exercise 2"
      ],
      "metadata": {
        "id": "5lhI6njFMIv0"
      }
    },
    {
      "cell_type": "code",
      "source": [
        "v = np.array([1,2,3,7,8,9])\n",
        "print((np.sum(v**2)**(1/2)))\n",
        "\n",
        "print(np.linalg.norm(v))\n"
      ],
      "metadata": {
        "colab": {
          "base_uri": "https://localhost:8080/"
        },
        "id": "Pa-oaE2ZyUMB",
        "outputId": "13f40d4e-80ac-4d9b-ff9a-c2c9b9a28c36"
      },
      "execution_count": 68,
      "outputs": [
        {
          "output_type": "stream",
          "name": "stdout",
          "text": [
            "14.422205101855956\n",
            "14.422205101855956\n"
          ]
        }
      ]
    },
    {
      "cell_type": "code",
      "source": [
        "\n",
        "\n"
      ],
      "metadata": {
        "id": "1d4CiDc20b5b"
      },
      "execution_count": 69,
      "outputs": []
    },
    {
      "cell_type": "code",
      "source": [
        "\n",
        "# the function\n",
        "def normOfVect(v):\n",
        "  return np.sqrt(np.sum(v**2))\n",
        "\n",
        "# test it on a unit-norm vector\n",
        "w = np.array([0,0,1])\n",
        "print( normOfVect(w) )\n",
        "\n",
        "# non-unit-norm vector, and confirm using np.linalg.norm\n",
        "w = np.array([1,2,3])\n",
        "print( normOfVect(w),np.linalg.norm(w) )"
      ],
      "metadata": {
        "id": "2IBYC8qKp_4w",
        "colab": {
          "base_uri": "https://localhost:8080/"
        },
        "outputId": "e7082a88-9f4c-4740-dc36-82c90f8c7292"
      },
      "execution_count": 70,
      "outputs": [
        {
          "output_type": "stream",
          "name": "stdout",
          "text": [
            "1.0\n",
            "3.7416573867739413 3.7416573867739413\n"
          ]
        }
      ]
    },
    {
      "cell_type": "code",
      "source": [],
      "metadata": {
        "id": "VsA3W7EZO3KC"
      },
      "execution_count": 70,
      "outputs": []
    },
    {
      "cell_type": "markdown",
      "source": [
        "# Exercise 3"
      ],
      "metadata": {
        "id": "8ki-fdMqPEGj"
      }
    },
    {
      "cell_type": "code",
      "source": [
        "w = np.array([13,-5,7])\n",
        "def unit_vec(x):\n",
        "  return (1/np.linalg.norm(x))*x\n",
        "print(np.sum(unit_vec(w)))"
      ],
      "metadata": {
        "colab": {
          "base_uri": "https://localhost:8080/"
        },
        "id": "1KrNMvCIz-q-",
        "outputId": "755d48dc-292c-4ca6-a859-2ebf86e3b89e"
      },
      "execution_count": 71,
      "outputs": [
        {
          "output_type": "stream",
          "name": "stdout",
          "text": [
            "0.9622504486493761\n"
          ]
        }
      ]
    },
    {
      "cell_type": "code",
      "source": [
        "\n",
        "# define function\n",
        "def createUnitVector(v):\n",
        "  # get vector norm\n",
        "  mu = np.linalg.norm(v)\n",
        "  # return unit vector\n",
        "  return v / mu\n",
        "\n",
        "\n",
        "# test on a unit vector\n",
        "w = np.array([0,1,0])\n",
        "print( createUnitVector(w) )\n",
        "\n",
        "# test on a non-unit vector that is easy to confirm\n",
        "w = np.array([0,3,0])\n",
        "print( createUnitVector(w) )\n",
        "\n",
        "# test on a non-unit vector\n",
        "w = np.array([13,-5,7])\n",
        "uw = createUnitVector(w)\n",
        "print( uw ), print(' ')\n",
        "# confirm the vectors' norms\n",
        "print( np.linalg.norm(w),np.linalg.norm(uw) )\n",
        "\n",
        "# what happens with the zeros vector?\n",
        "print('\\n\\n\\n') # just some spaces\n",
        "createUnitVector( np.zeros((4,1)) )"
      ],
      "metadata": {
        "id": "mRKCY5NAqDnB",
        "colab": {
          "base_uri": "https://localhost:8080/"
        },
        "outputId": "9167afd3-9d8e-4b96-9e2d-adfc10b9c1e9"
      },
      "execution_count": 72,
      "outputs": [
        {
          "output_type": "stream",
          "name": "stdout",
          "text": [
            "[0. 1. 0.]\n",
            "[0. 1. 0.]\n",
            "[ 0.83395039 -0.32075015  0.44905021]\n",
            " \n",
            "15.588457268119896 0.9999999999999999\n",
            "\n",
            "\n",
            "\n",
            "\n"
          ]
        },
        {
          "output_type": "stream",
          "name": "stderr",
          "text": [
            "<ipython-input-72-57a0ea52dbd0>:6: RuntimeWarning: invalid value encountered in true_divide\n",
            "  return v / mu\n"
          ]
        },
        {
          "output_type": "execute_result",
          "data": {
            "text/plain": [
              "array([[nan],\n",
              "       [nan],\n",
              "       [nan],\n",
              "       [nan]])"
            ]
          },
          "metadata": {},
          "execution_count": 72
        }
      ]
    },
    {
      "cell_type": "code",
      "source": [],
      "metadata": {
        "id": "WuM2gunEO68_"
      },
      "execution_count": 72,
      "outputs": []
    },
    {
      "cell_type": "markdown",
      "source": [
        "# Exercise 4"
      ],
      "metadata": {
        "id": "dDtSlk5RRyT0"
      }
    },
    {
      "cell_type": "code",
      "source": [
        "# define the function\n",
        "def createMagVector(v,mag):\n",
        "  # get vector norm\n",
        "  mu = np.linalg.norm(v)\n",
        "  # return unit vector\n",
        "  return mag * v / mu\n",
        "\n",
        "# test on a vector that is easy to confirm\n",
        "w = np.array([1,0,0])\n",
        "mw = createMagVector(w,4)\n",
        "print( mw )\n",
        "\n",
        "# confirm the vectors' norms\n",
        "print( np.linalg.norm(w),np.linalg.norm(mw) )\n"
      ],
      "metadata": {
        "id": "ar0fVeCdqGXd",
        "colab": {
          "base_uri": "https://localhost:8080/"
        },
        "outputId": "560e6940-5b7f-4bab-91b3-95b92baf7f17"
      },
      "execution_count": 73,
      "outputs": [
        {
          "output_type": "stream",
          "name": "stdout",
          "text": [
            "[4. 0. 0.]\n",
            "1.0 4.0\n"
          ]
        }
      ]
    },
    {
      "cell_type": "code",
      "source": [
        "w = np.array([1,0,0])\n",
        "def unit_vec(x, mag):\n",
        "  return (1/np.linalg.norm(x))*x* mag\n",
        "print(np.sum(unit_vec(w,4)))"
      ],
      "metadata": {
        "id": "2CK7U4qxO-Fd",
        "colab": {
          "base_uri": "https://localhost:8080/"
        },
        "outputId": "bff262df-c1d5-46be-9eda-c77ac268a94d"
      },
      "execution_count": 74,
      "outputs": [
        {
          "output_type": "stream",
          "name": "stdout",
          "text": [
            "4.0\n"
          ]
        }
      ]
    },
    {
      "cell_type": "markdown",
      "source": [
        "# Exercise 5"
      ],
      "metadata": {
        "id": "PLaa7qtQK2Lh"
      }
    },
    {
      "cell_type": "code",
      "source": [
        "# the row vector to transpose\n",
        "v = np.array([[1,2,3]])\n",
        "\n",
        "# initialize the column vector\n",
        "vt = np.zeros((3,1))\n",
        "\n",
        "# direct implementation of the formula using a for loop\n",
        "for i in range(v.shape[1]):\n",
        "  vt[i,0] = v[0,i]\n",
        "\n",
        "# confirm!\n",
        "print(v), print(' ')\n",
        "print(vt)\n",
        "\n",
        "# Note about data types: The two vectors actually have different data types\n",
        "#  (ints vs. floats). That happened because I defined v using ints while the default type\n",
        "#  for np.zeros is float. You can match data types in several ways, including: \n",
        "#  (1) write 3. instead of 3 when creating v; (2) use dtype=np.float as an optional input."
      ],
      "metadata": {
        "id": "_bDlky_EqJmV",
        "colab": {
          "base_uri": "https://localhost:8080/"
        },
        "outputId": "3778c241-895b-4851-f356-777a324b26bb"
      },
      "execution_count": 75,
      "outputs": [
        {
          "output_type": "stream",
          "name": "stdout",
          "text": [
            "[[1 2 3]]\n",
            " \n",
            "[[1.]\n",
            " [2.]\n",
            " [3.]]\n"
          ]
        }
      ]
    },
    {
      "cell_type": "code",
      "source": [
        "#completed"
      ],
      "metadata": {
        "id": "p267dm8cPHnL"
      },
      "execution_count": 77,
      "outputs": []
    },
    {
      "cell_type": "markdown",
      "source": [
        "# Exercise 6"
      ],
      "metadata": {
        "id": "WG4o7KMwK2Oe"
      }
    },
    {
      "cell_type": "code",
      "source": [
        "# some vector\n",
        "c = np.random.randn(5)\n",
        "\n",
        "# squared norm as dot product with itself\n",
        "sqrNrm1 = np.dot(c,c)\n",
        "\n",
        "# squared norm via our function from exercise 1\n",
        "sqrNrm2 = normOfVect(c)**2\n",
        "\n",
        "# print both to confirm they're the same\n",
        "print( sqrNrm1 )\n",
        "print( sqrNrm2 )"
      ],
      "metadata": {
        "id": "TixOP_P-qMVg",
        "colab": {
          "base_uri": "https://localhost:8080/"
        },
        "outputId": "f1411b8e-6029-44e1-b8d0-c1245f8d4446"
      },
      "execution_count": 78,
      "outputs": [
        {
          "output_type": "stream",
          "name": "stdout",
          "text": [
            "4.832221459415757\n",
            "4.832221459415757\n"
          ]
        }
      ]
    },
    {
      "cell_type": "code",
      "source": [
        "c = np.random.randn(5)\n",
        "\n",
        "sqrNrm1 = c.dot(c)\n",
        "\n",
        "# squared norm via our function from exercise 1\n",
        "sqrNrm2 = normOfVect(c)**2\n",
        "\n",
        "# print both to confirm they're the same\n",
        "print( sqrNrm1 )\n",
        "print( sqrNrm2 )"
      ],
      "metadata": {
        "id": "3fMvZGNrPZgx",
        "colab": {
          "base_uri": "https://localhost:8080/"
        },
        "outputId": "e11f158f-1052-462f-e2d3-ef5b1bb1a5f7"
      },
      "execution_count": 79,
      "outputs": [
        {
          "output_type": "stream",
          "name": "stdout",
          "text": [
            "4.179704516784314\n",
            "4.179704516784314\n"
          ]
        }
      ]
    },
    {
      "cell_type": "markdown",
      "source": [
        "# Exercise 7"
      ],
      "metadata": {
        "id": "uNFCPFrWK2Rv"
      }
    },
    {
      "cell_type": "code",
      "source": [
        "# dimensionality\n",
        "n = 11\n",
        "\n",
        "# some random column vectors\n",
        "a = np.random.randn(n,1)\n",
        "b = np.random.randn(n,1)\n",
        "\n",
        "# dot products both ways\n",
        "atb = np.sum(a*b)\n",
        "bta = np.sum(b*a)\n",
        "\n",
        "# they're equal if their difference is 0\n",
        "atb - bta\n",
        "\n",
        "# For an extra challenge, see what happens when you use np.dot() to compute the dot products."
      ],
      "metadata": {
        "id": "Nm42fqcaqOi6",
        "colab": {
          "base_uri": "https://localhost:8080/"
        },
        "outputId": "a1d1499a-4625-4407-8d2f-08664b3a6f7f"
      },
      "execution_count": 80,
      "outputs": [
        {
          "output_type": "execute_result",
          "data": {
            "text/plain": [
              "0.0"
            ]
          },
          "metadata": {},
          "execution_count": 80
        }
      ]
    },
    {
      "cell_type": "code",
      "source": [
        "print(a.shape)\n",
        "print(b.shape)"
      ],
      "metadata": {
        "colab": {
          "base_uri": "https://localhost:8080/"
        },
        "id": "fh8PLbsi4zcC",
        "outputId": "aed8b33c-36f9-4895-afd1-c31a5db738c5"
      },
      "execution_count": 87,
      "outputs": [
        {
          "output_type": "stream",
          "name": "stdout",
          "text": [
            "(11, 1)\n",
            "(11, 1)\n"
          ]
        }
      ]
    },
    {
      "cell_type": "markdown",
      "source": [
        "# Exercise 8"
      ],
      "metadata": {
        "id": "peki_RfFegnb"
      }
    },
    {
      "cell_type": "code",
      "source": [
        "# the vectors a and b\n",
        "a = np.array([1,2])\n",
        "b = np.array([1.5,.5])\n",
        "\n",
        "# compute beta\n",
        "beta = np.dot(a,b) / np.dot(a,a)\n",
        "\n",
        "# compute the projection vector (not explicitly used in the plot)\n",
        "projvect = b - beta*a\n",
        "\n",
        "\n",
        "# draw the figure\n",
        "plt.figure(figsize=(4,4))\n",
        "\n",
        "# vectors\n",
        "plt.arrow(0,0,a[0],a[1],head_width=.2,width=.02,color='k',length_includes_head=True)\n",
        "plt.arrow(0,0,b[0],b[1],head_width=.2,width=.02,color='k',length_includes_head=True)\n",
        "\n",
        "# projection vector\n",
        "plt.plot([b[0],beta*a[0]],[b[1],beta*a[1]],'k--')\n",
        "\n",
        "# projection on a\n",
        "plt.plot(beta*a[0],beta*a[1],'ko',markerfacecolor='w',markersize=13)\n",
        "\n",
        "# make the plot look nicer\n",
        "plt.plot([-1,2.5],[0,0],'--',color='gray',linewidth=.5)\n",
        "plt.plot([0,0],[-1,2.5],'--',color='gray',linewidth=.5)\n",
        "\n",
        "# add labels\n",
        "plt.text(a[0]+.1,a[1],'a',fontweight='bold',fontsize=18)\n",
        "plt.text(b[0],b[1]-.3,'b',fontweight='bold',fontsize=18)\n",
        "plt.text(beta*a[0]-.35,beta*a[1],r'$\\beta$',fontweight='bold',fontsize=18)\n",
        "plt.text((b[0]+beta*a[0])/2,(b[1]+beta*a[1])/2+.1,r'(b-$\\beta$a)',fontweight='bold',fontsize=18)\n",
        "\n",
        "# some finishing touches\n",
        "plt.axis('square')\n",
        "plt.axis([-1,2.5,-1,2.5])\n",
        "plt.show()"
      ],
      "metadata": {
        "id": "xhsmQq4sqQ-e",
        "colab": {
          "base_uri": "https://localhost:8080/",
          "height": 365
        },
        "outputId": "61cddafa-7fee-4ef5-c5fa-6c93cc56b385"
      },
      "execution_count": 88,
      "outputs": [
        {
          "output_type": "display_data",
          "data": {
            "text/plain": [
              "<Figure size 288x288 with 1 Axes>"
            ],
            "image/svg+xml": "<?xml version=\"1.0\" encoding=\"utf-8\" standalone=\"no\"?>\n<!DOCTYPE svg PUBLIC \"-//W3C//DTD SVG 1.1//EN\"\n  \"http://www.w3.org/Graphics/SVG/1.1/DTD/svg11.dtd\">\n<!-- Created with matplotlib (https://matplotlib.org/) -->\n<svg height=\"257.708281pt\" version=\"1.1\" viewBox=\"0 0 272.835938 257.708281\" width=\"272.835938pt\" xmlns=\"http://www.w3.org/2000/svg\" xmlns:xlink=\"http://www.w3.org/1999/xlink\">\n <defs>\n  <style type=\"text/css\">\n*{stroke-linecap:butt;stroke-linejoin:round;}\n  </style>\n </defs>\n <g id=\"figure_1\">\n  <g id=\"patch_1\">\n   <path d=\"M 0 257.708281 \nL 272.835938 257.708281 \nL 272.835938 0 \nL 0 0 \nz\n\" style=\"fill:none;\"/>\n  </g>\n  <g id=\"axes_1\">\n   <g id=\"patch_2\">\n    <path d=\"M 48.195937 229.958906 \nL 265.635938 229.958906 \nL 265.635938 12.518906 \nL 48.195937 12.518906 \nz\n\" style=\"fill:#ffffff;\"/>\n   </g>\n   <g id=\"patch_3\">\n    <path clip-path=\"url(#p06602d8e70)\" d=\"M 172.447366 43.581763 \nL 169.66902 63.030188 \nL 164.667996 60.529676 \nL 110.877321 168.111027 \nL 109.765983 167.555357 \nL 163.556658 59.974007 \nL 158.555634 57.473495 \nz\n\" style=\"stroke:#000000;stroke-linejoin:miter;\"/>\n   </g>\n   <g id=\"patch_4\">\n    <path clip-path=\"url(#p06602d8e70)\" d=\"M 203.510223 136.770335 \nL 187.793523 148.55786 \nL 186.025394 143.253474 \nL 110.518111 168.422568 \nL 110.125193 167.243816 \nL 185.632476 142.074721 \nL 183.864347 136.770335 \nz\n\" style=\"stroke:#000000;stroke-linejoin:miter;\"/>\n   </g>\n   <g id=\"matplotlib.axis_1\">\n    <g id=\"xtick_1\">\n     <g id=\"line2d_1\">\n      <defs>\n       <path d=\"M 0 0 \nL 0 3.5 \n\" id=\"m9aa706d83e\" style=\"stroke:#000000;stroke-width:0.8;\"/>\n      </defs>\n      <g>\n       <use style=\"stroke:#000000;stroke-width:0.8;\" x=\"48.195937\" xlink:href=\"#m9aa706d83e\" y=\"229.958906\"/>\n      </g>\n     </g>\n     <g id=\"text_1\">\n      <!-- −1 -->\n      <defs>\n       <path d=\"M 10.59375 35.5 \nL 73.1875 35.5 \nL 73.1875 27.203125 \nL 10.59375 27.203125 \nz\n\" id=\"DejaVuSans-8722\"/>\n       <path d=\"M 12.40625 8.296875 \nL 28.515625 8.296875 \nL 28.515625 63.921875 \nL 10.984375 60.40625 \nL 10.984375 69.390625 \nL 28.421875 72.90625 \nL 38.28125 72.90625 \nL 38.28125 8.296875 \nL 54.390625 8.296875 \nL 54.390625 0 \nL 12.40625 0 \nz\n\" id=\"DejaVuSans-49\"/>\n      </defs>\n      <g transform=\"translate(37.876406 247.596719)scale(0.14 -0.14)\">\n       <use xlink:href=\"#DejaVuSans-8722\"/>\n       <use x=\"83.789062\" xlink:href=\"#DejaVuSans-49\"/>\n      </g>\n     </g>\n    </g>\n    <g id=\"xtick_2\">\n     <g id=\"line2d_2\">\n      <g>\n       <use style=\"stroke:#000000;stroke-width:0.8;\" x=\"110.321652\" xlink:href=\"#m9aa706d83e\" y=\"229.958906\"/>\n      </g>\n     </g>\n     <g id=\"text_2\">\n      <!-- 0 -->\n      <defs>\n       <path d=\"M 31.78125 66.40625 \nQ 24.171875 66.40625 20.328125 58.90625 \nQ 16.5 51.421875 16.5 36.375 \nQ 16.5 21.390625 20.328125 13.890625 \nQ 24.171875 6.390625 31.78125 6.390625 \nQ 39.453125 6.390625 43.28125 13.890625 \nQ 47.125 21.390625 47.125 36.375 \nQ 47.125 51.421875 43.28125 58.90625 \nQ 39.453125 66.40625 31.78125 66.40625 \nz\nM 31.78125 74.21875 \nQ 44.046875 74.21875 50.515625 64.515625 \nQ 56.984375 54.828125 56.984375 36.375 \nQ 56.984375 17.96875 50.515625 8.265625 \nQ 44.046875 -1.421875 31.78125 -1.421875 \nQ 19.53125 -1.421875 13.0625 8.265625 \nQ 6.59375 17.96875 6.59375 36.375 \nQ 6.59375 54.828125 13.0625 64.515625 \nQ 19.53125 74.21875 31.78125 74.21875 \nz\n\" id=\"DejaVuSans-48\"/>\n      </defs>\n      <g transform=\"translate(105.867902 247.596719)scale(0.14 -0.14)\">\n       <use xlink:href=\"#DejaVuSans-48\"/>\n      </g>\n     </g>\n    </g>\n    <g id=\"xtick_3\">\n     <g id=\"line2d_3\">\n      <g>\n       <use style=\"stroke:#000000;stroke-width:0.8;\" x=\"172.447366\" xlink:href=\"#m9aa706d83e\" y=\"229.958906\"/>\n      </g>\n     </g>\n     <g id=\"text_3\">\n      <!-- 1 -->\n      <g transform=\"translate(167.993616 247.596719)scale(0.14 -0.14)\">\n       <use xlink:href=\"#DejaVuSans-49\"/>\n      </g>\n     </g>\n    </g>\n    <g id=\"xtick_4\">\n     <g id=\"line2d_4\">\n      <g>\n       <use style=\"stroke:#000000;stroke-width:0.8;\" x=\"234.57308\" xlink:href=\"#m9aa706d83e\" y=\"229.958906\"/>\n      </g>\n     </g>\n     <g id=\"text_4\">\n      <!-- 2 -->\n      <defs>\n       <path d=\"M 19.1875 8.296875 \nL 53.609375 8.296875 \nL 53.609375 0 \nL 7.328125 0 \nL 7.328125 8.296875 \nQ 12.9375 14.109375 22.625 23.890625 \nQ 32.328125 33.6875 34.8125 36.53125 \nQ 39.546875 41.84375 41.421875 45.53125 \nQ 43.3125 49.21875 43.3125 52.78125 \nQ 43.3125 58.59375 39.234375 62.25 \nQ 35.15625 65.921875 28.609375 65.921875 \nQ 23.96875 65.921875 18.8125 64.3125 \nQ 13.671875 62.703125 7.8125 59.421875 \nL 7.8125 69.390625 \nQ 13.765625 71.78125 18.9375 73 \nQ 24.125 74.21875 28.421875 74.21875 \nQ 39.75 74.21875 46.484375 68.546875 \nQ 53.21875 62.890625 53.21875 53.421875 \nQ 53.21875 48.921875 51.53125 44.890625 \nQ 49.859375 40.875 45.40625 35.40625 \nQ 44.1875 33.984375 37.640625 27.21875 \nQ 31.109375 20.453125 19.1875 8.296875 \nz\n\" id=\"DejaVuSans-50\"/>\n      </defs>\n      <g transform=\"translate(230.11933 247.596719)scale(0.14 -0.14)\">\n       <use xlink:href=\"#DejaVuSans-50\"/>\n      </g>\n     </g>\n    </g>\n   </g>\n   <g id=\"matplotlib.axis_2\">\n    <g id=\"ytick_1\">\n     <g id=\"line2d_5\">\n      <defs>\n       <path d=\"M 0 0 \nL -3.5 0 \n\" id=\"me17ae0f56d\" style=\"stroke:#000000;stroke-width:0.8;\"/>\n      </defs>\n      <g>\n       <use style=\"stroke:#000000;stroke-width:0.8;\" x=\"48.195937\" xlink:href=\"#me17ae0f56d\" y=\"229.958906\"/>\n      </g>\n     </g>\n     <g id=\"text_5\">\n      <!-- −1.0 -->\n      <defs>\n       <path d=\"M 10.6875 12.40625 \nL 21 12.40625 \nL 21 0 \nL 10.6875 0 \nz\n\" id=\"DejaVuSans-46\"/>\n      </defs>\n      <g transform=\"translate(7.2 235.277813)scale(0.14 -0.14)\">\n       <use xlink:href=\"#DejaVuSans-8722\"/>\n       <use x=\"83.789062\" xlink:href=\"#DejaVuSans-49\"/>\n       <use x=\"147.412109\" xlink:href=\"#DejaVuSans-46\"/>\n       <use x=\"179.199219\" xlink:href=\"#DejaVuSans-48\"/>\n      </g>\n     </g>\n    </g>\n    <g id=\"ytick_2\">\n     <g id=\"line2d_6\">\n      <g>\n       <use style=\"stroke:#000000;stroke-width:0.8;\" x=\"48.195937\" xlink:href=\"#me17ae0f56d\" y=\"198.896049\"/>\n      </g>\n     </g>\n     <g id=\"text_6\">\n      <!-- −0.5 -->\n      <defs>\n       <path d=\"M 10.796875 72.90625 \nL 49.515625 72.90625 \nL 49.515625 64.59375 \nL 19.828125 64.59375 \nL 19.828125 46.734375 \nQ 21.96875 47.46875 24.109375 47.828125 \nQ 26.265625 48.1875 28.421875 48.1875 \nQ 40.625 48.1875 47.75 41.5 \nQ 54.890625 34.8125 54.890625 23.390625 \nQ 54.890625 11.625 47.5625 5.09375 \nQ 40.234375 -1.421875 26.90625 -1.421875 \nQ 22.3125 -1.421875 17.546875 -0.640625 \nQ 12.796875 0.140625 7.71875 1.703125 \nL 7.71875 11.625 \nQ 12.109375 9.234375 16.796875 8.0625 \nQ 21.484375 6.890625 26.703125 6.890625 \nQ 35.15625 6.890625 40.078125 11.328125 \nQ 45.015625 15.765625 45.015625 23.390625 \nQ 45.015625 31 40.078125 35.4375 \nQ 35.15625 39.890625 26.703125 39.890625 \nQ 22.75 39.890625 18.8125 39.015625 \nQ 14.890625 38.140625 10.796875 36.28125 \nz\n\" id=\"DejaVuSans-53\"/>\n      </defs>\n      <g transform=\"translate(7.2 204.214955)scale(0.14 -0.14)\">\n       <use xlink:href=\"#DejaVuSans-8722\"/>\n       <use x=\"83.789062\" xlink:href=\"#DejaVuSans-48\"/>\n       <use x=\"147.412109\" xlink:href=\"#DejaVuSans-46\"/>\n       <use x=\"179.199219\" xlink:href=\"#DejaVuSans-53\"/>\n      </g>\n     </g>\n    </g>\n    <g id=\"ytick_3\">\n     <g id=\"line2d_7\">\n      <g>\n       <use style=\"stroke:#000000;stroke-width:0.8;\" x=\"48.195937\" xlink:href=\"#me17ae0f56d\" y=\"167.833192\"/>\n      </g>\n     </g>\n     <g id=\"text_7\">\n      <!-- 0.0 -->\n      <g transform=\"translate(18.931562 173.152098)scale(0.14 -0.14)\">\n       <use xlink:href=\"#DejaVuSans-48\"/>\n       <use x=\"63.623047\" xlink:href=\"#DejaVuSans-46\"/>\n       <use x=\"95.410156\" xlink:href=\"#DejaVuSans-48\"/>\n      </g>\n     </g>\n    </g>\n    <g id=\"ytick_4\">\n     <g id=\"line2d_8\">\n      <g>\n       <use style=\"stroke:#000000;stroke-width:0.8;\" x=\"48.195937\" xlink:href=\"#me17ae0f56d\" y=\"136.770335\"/>\n      </g>\n     </g>\n     <g id=\"text_8\">\n      <!-- 0.5 -->\n      <g transform=\"translate(18.931562 142.089241)scale(0.14 -0.14)\">\n       <use xlink:href=\"#DejaVuSans-48\"/>\n       <use x=\"63.623047\" xlink:href=\"#DejaVuSans-46\"/>\n       <use x=\"95.410156\" xlink:href=\"#DejaVuSans-53\"/>\n      </g>\n     </g>\n    </g>\n    <g id=\"ytick_5\">\n     <g id=\"line2d_9\">\n      <g>\n       <use style=\"stroke:#000000;stroke-width:0.8;\" x=\"48.195937\" xlink:href=\"#me17ae0f56d\" y=\"105.707478\"/>\n      </g>\n     </g>\n     <g id=\"text_9\">\n      <!-- 1.0 -->\n      <g transform=\"translate(18.931562 111.026384)scale(0.14 -0.14)\">\n       <use xlink:href=\"#DejaVuSans-49\"/>\n       <use x=\"63.623047\" xlink:href=\"#DejaVuSans-46\"/>\n       <use x=\"95.410156\" xlink:href=\"#DejaVuSans-48\"/>\n      </g>\n     </g>\n    </g>\n    <g id=\"ytick_6\">\n     <g id=\"line2d_10\">\n      <g>\n       <use style=\"stroke:#000000;stroke-width:0.8;\" x=\"48.195937\" xlink:href=\"#me17ae0f56d\" y=\"74.644621\"/>\n      </g>\n     </g>\n     <g id=\"text_10\">\n      <!-- 1.5 -->\n      <g transform=\"translate(18.931562 79.963527)scale(0.14 -0.14)\">\n       <use xlink:href=\"#DejaVuSans-49\"/>\n       <use x=\"63.623047\" xlink:href=\"#DejaVuSans-46\"/>\n       <use x=\"95.410156\" xlink:href=\"#DejaVuSans-53\"/>\n      </g>\n     </g>\n    </g>\n    <g id=\"ytick_7\">\n     <g id=\"line2d_11\">\n      <g>\n       <use style=\"stroke:#000000;stroke-width:0.8;\" x=\"48.195937\" xlink:href=\"#me17ae0f56d\" y=\"43.581763\"/>\n      </g>\n     </g>\n     <g id=\"text_11\">\n      <!-- 2.0 -->\n      <g transform=\"translate(18.931562 48.90067)scale(0.14 -0.14)\">\n       <use xlink:href=\"#DejaVuSans-50\"/>\n       <use x=\"63.623047\" xlink:href=\"#DejaVuSans-46\"/>\n       <use x=\"95.410156\" xlink:href=\"#DejaVuSans-48\"/>\n      </g>\n     </g>\n    </g>\n    <g id=\"ytick_8\">\n     <g id=\"line2d_12\">\n      <g>\n       <use style=\"stroke:#000000;stroke-width:0.8;\" x=\"48.195937\" xlink:href=\"#me17ae0f56d\" y=\"12.518906\"/>\n      </g>\n     </g>\n     <g id=\"text_12\">\n      <!-- 2.5 -->\n      <g transform=\"translate(18.931562 17.837813)scale(0.14 -0.14)\">\n       <use xlink:href=\"#DejaVuSans-50\"/>\n       <use x=\"63.623047\" xlink:href=\"#DejaVuSans-46\"/>\n       <use x=\"95.410156\" xlink:href=\"#DejaVuSans-53\"/>\n      </g>\n     </g>\n    </g>\n   </g>\n   <g id=\"line2d_13\">\n    <path clip-path=\"url(#p06602d8e70)\" d=\"M 203.510223 136.770335 \nL 141.384509 105.707478 \n\" style=\"fill:none;stroke:#000000;stroke-dasharray:5.55,2.4;stroke-dashoffset:0;stroke-width:1.5;\"/>\n   </g>\n   <g id=\"line2d_14\">\n    <defs>\n     <path d=\"M 0 6.5 \nC 1.72382 6.5 3.377269 5.815119 4.596194 4.596194 \nC 5.815119 3.377269 6.5 1.72382 6.5 0 \nC 6.5 -1.72382 5.815119 -3.377269 4.596194 -4.596194 \nC 3.377269 -5.815119 1.72382 -6.5 0 -6.5 \nC -1.72382 -6.5 -3.377269 -5.815119 -4.596194 -4.596194 \nC -5.815119 -3.377269 -6.5 -1.72382 -6.5 0 \nC -6.5 1.72382 -5.815119 3.377269 -4.596194 4.596194 \nC -3.377269 5.815119 -1.72382 6.5 0 6.5 \nz\n\" id=\"m6e2cf58548\" style=\"stroke:#000000;\"/>\n    </defs>\n    <g clip-path=\"url(#p06602d8e70)\">\n     <use style=\"fill:#ffffff;stroke:#000000;\" x=\"141.384509\" xlink:href=\"#m6e2cf58548\" y=\"105.707478\"/>\n    </g>\n   </g>\n   <g id=\"line2d_15\">\n    <path clip-path=\"url(#p06602d8e70)\" d=\"M 48.195937 167.833192 \nL 265.635937 167.833192 \n\" style=\"fill:none;stroke:#808080;stroke-dasharray:1.85,0.8;stroke-dashoffset:0;stroke-width:0.5;\"/>\n   </g>\n   <g id=\"line2d_16\">\n    <path clip-path=\"url(#p06602d8e70)\" d=\"M 110.321652 229.958906 \nL 110.321652 12.518906 \n\" style=\"fill:none;stroke:#808080;stroke-dasharray:1.85,0.8;stroke-dashoffset:0;stroke-width:0.5;\"/>\n   </g>\n   <g id=\"patch_5\">\n    <path d=\"M 48.195937 229.958906 \nL 48.195937 12.518906 \n\" style=\"fill:none;stroke:#000000;stroke-linecap:square;stroke-linejoin:miter;stroke-width:0.8;\"/>\n   </g>\n   <g id=\"patch_6\">\n    <path d=\"M 265.635938 229.958906 \nL 265.635938 12.518906 \n\" style=\"fill:none;stroke:#000000;stroke-linecap:square;stroke-linejoin:miter;stroke-width:0.8;\"/>\n   </g>\n   <g id=\"patch_7\">\n    <path d=\"M 48.195937 229.958906 \nL 265.635937 229.958906 \n\" style=\"fill:none;stroke:#000000;stroke-linecap:square;stroke-linejoin:miter;stroke-width:0.8;\"/>\n   </g>\n   <g id=\"patch_8\">\n    <path d=\"M 48.195937 12.518906 \nL 265.635937 12.518906 \n\" style=\"fill:none;stroke:#000000;stroke-linecap:square;stroke-linejoin:miter;stroke-width:0.8;\"/>\n   </g>\n   <g id=\"text_13\">\n    <!-- a -->\n    <defs>\n     <path d=\"M 32.90625 24.609375 \nQ 27.4375 24.609375 24.671875 22.75 \nQ 21.921875 20.90625 21.921875 17.28125 \nQ 21.921875 13.96875 24.140625 12.078125 \nQ 26.375 10.203125 30.328125 10.203125 \nQ 35.25 10.203125 38.625 13.734375 \nQ 42 17.28125 42 22.609375 \nL 42 24.609375 \nz\nM 59.625 31.203125 \nL 59.625 0 \nL 42 0 \nL 42 8.109375 \nQ 38.484375 3.125 34.078125 0.84375 \nQ 29.6875 -1.421875 23.390625 -1.421875 \nQ 14.890625 -1.421875 9.59375 3.53125 \nQ 4.296875 8.5 4.296875 16.40625 \nQ 4.296875 26.03125 10.90625 30.515625 \nQ 17.53125 35.015625 31.6875 35.015625 \nL 42 35.015625 \nL 42 36.375 \nQ 42 40.53125 38.71875 42.453125 \nQ 35.453125 44.390625 28.515625 44.390625 \nQ 22.90625 44.390625 18.0625 43.265625 \nQ 13.234375 42.140625 9.078125 39.890625 \nL 9.078125 53.21875 \nQ 14.703125 54.59375 20.359375 55.296875 \nQ 26.03125 56 31.6875 56 \nQ 46.484375 56 53.046875 50.171875 \nQ 59.625 44.34375 59.625 31.203125 \nz\n\" id=\"DejaVuSans-Bold-97\"/>\n    </defs>\n    <g transform=\"translate(178.659938 43.581763)scale(0.18 -0.18)\">\n     <use xlink:href=\"#DejaVuSans-Bold-97\"/>\n    </g>\n   </g>\n   <g id=\"text_14\">\n    <!-- b -->\n    <defs>\n     <path d=\"M 37.5 11.28125 \nQ 43.109375 11.28125 46.0625 15.375 \nQ 49.03125 19.484375 49.03125 27.296875 \nQ 49.03125 35.109375 46.0625 39.203125 \nQ 43.109375 43.3125 37.5 43.3125 \nQ 31.890625 43.3125 28.875 39.1875 \nQ 25.875 35.0625 25.875 27.296875 \nQ 25.875 19.53125 28.875 15.40625 \nQ 31.890625 11.28125 37.5 11.28125 \nz\nM 25.875 46.6875 \nQ 29.5 51.46875 33.890625 53.734375 \nQ 38.28125 56 44 56 \nQ 54.109375 56 60.59375 47.96875 \nQ 67.09375 39.9375 67.09375 27.296875 \nQ 67.09375 14.65625 60.59375 6.609375 \nQ 54.109375 -1.421875 44 -1.421875 \nQ 38.28125 -1.421875 33.890625 0.84375 \nQ 29.5 3.125 25.875 7.90625 \nL 25.875 0 \nL 8.40625 0 \nL 8.40625 75.984375 \nL 25.875 75.984375 \nz\n\" id=\"DejaVuSans-Bold-98\"/>\n    </defs>\n    <g transform=\"translate(203.510223 155.408049)scale(0.18 -0.18)\">\n     <use xlink:href=\"#DejaVuSans-Bold-98\"/>\n    </g>\n   </g>\n   <g id=\"text_15\">\n    <!-- $\\beta$ -->\n    <defs>\n     <path d=\"M 13.625 3.375 \nL 8.9375 -20.796875 \nL -0.09375 -20.796875 \nL 14.5 54.34375 \nQ 18.84375 76.609375 39.65625 76.609375 \nQ 60.75 76.609375 57.171875 57.8125 \nQ 54.734375 44.4375 45.21875 39.546875 \nQ 58.015625 35.15625 55.515625 22.125 \nQ 51.125 -1.078125 27.484375 -1.03125 \nQ 17.140625 -0.984375 13.625 3.375 \nz\nM 15.921875 15.09375 \nQ 19.671875 6.59375 29.296875 6.640625 \nQ 43.359375 6.640625 46.34375 21.96875 \nQ 49.03125 35.75 26.171875 34.671875 \nL 27.78125 42.96875 \nQ 45.453125 42.671875 48.53125 58.59375 \nQ 50.640625 69.34375 39.203125 69.28125 \nQ 26.421875 69.28125 23.484375 54.046875 \nz\n\" id=\"DejaVuSans-Oblique-946\"/>\n    </defs>\n    <g transform=\"translate(119.640509 105.707478)scale(0.18 -0.18)\">\n     <use transform=\"translate(0 0.390625)\" xlink:href=\"#DejaVuSans-Oblique-946\"/>\n    </g>\n   </g>\n   <g id=\"text_16\">\n    <!-- (b-$\\beta$a) -->\n    <defs>\n     <path d=\"M 37.703125 -13.1875 \nL 23.1875 -13.1875 \nQ 15.71875 -1.125 12.15625 9.734375 \nQ 8.59375 20.609375 8.59375 31.296875 \nQ 8.59375 42 12.171875 52.953125 \nQ 15.765625 63.921875 23.1875 75.875 \nL 37.703125 75.875 \nQ 31.453125 64.3125 28.328125 53.25 \nQ 25.203125 42.1875 25.203125 31.390625 \nQ 25.203125 20.609375 28.296875 9.515625 \nQ 31.390625 -1.5625 37.703125 -13.1875 \nz\n\" id=\"DejaVuSans-Bold-40\"/>\n     <path d=\"M 5.421875 35.890625 \nL 36.078125 35.890625 \nL 36.078125 21.6875 \nL 5.421875 21.6875 \nz\n\" id=\"DejaVuSans-Bold-45\"/>\n     <path d=\"M 8.015625 -13.1875 \nQ 14.265625 -1.5625 17.390625 9.515625 \nQ 20.515625 20.609375 20.515625 31.390625 \nQ 20.515625 42.1875 17.390625 53.25 \nQ 14.265625 64.3125 8.015625 75.875 \nL 22.515625 75.875 \nQ 29.9375 63.921875 33.515625 52.953125 \nQ 37.109375 42 37.109375 31.296875 \nQ 37.109375 20.609375 33.546875 9.734375 \nQ 29.984375 -1.125 22.515625 -13.1875 \nz\n\" id=\"DejaVuSans-Bold-41\"/>\n    </defs>\n    <g transform=\"translate(172.447366 115.026335)scale(0.18 -0.18)\">\n     <use transform=\"translate(0 0.390625)\" xlink:href=\"#DejaVuSans-Bold-40\"/>\n     <use transform=\"translate(45.703125 0.390625)\" xlink:href=\"#DejaVuSans-Bold-98\"/>\n     <use transform=\"translate(117.285156 0.390625)\" xlink:href=\"#DejaVuSans-Bold-45\"/>\n     <use transform=\"translate(158.789062 0.390625)\" xlink:href=\"#DejaVuSans-Oblique-946\"/>\n     <use transform=\"translate(222.607422 0.390625)\" xlink:href=\"#DejaVuSans-Bold-97\"/>\n     <use transform=\"translate(290.087891 0.390625)\" xlink:href=\"#DejaVuSans-Bold-41\"/>\n    </g>\n   </g>\n  </g>\n </g>\n <defs>\n  <clipPath id=\"p06602d8e70\">\n   <rect height=\"217.44\" width=\"217.44\" x=\"48.195937\" y=\"12.518906\"/>\n  </clipPath>\n </defs>\n</svg>\n"
          },
          "metadata": {
            "needs_background": "light"
          }
        }
      ]
    },
    {
      "cell_type": "code",
      "source": [],
      "metadata": {
        "id": "nM9xPKX5Sepk"
      },
      "execution_count": null,
      "outputs": []
    },
    {
      "cell_type": "markdown",
      "source": [
        "# Exercise 9"
      ],
      "metadata": {
        "id": "sZM4JqfVajCq"
      }
    },
    {
      "cell_type": "code",
      "source": [
        "# generate random R2 vectors (note: no orientation here! we don't need it for this exercise)\n",
        "t = np.random.randn(2)\n",
        "r = np.random.randn(2)\n",
        "\n",
        "# the decomposition\n",
        "t_para = r * (np.dot(t,r) / np.dot(r,r))\n",
        "t_perp = t - t_para\n",
        "\n",
        "# confirm that the two components sum to the target\n",
        "print(t)\n",
        "print( t_para+t_perp )\n",
        "\n",
        "# confirm orthogonality (dot product must be zero!)\n",
        "print( np.dot(t_para,t_perp) )\n",
        "# Note about this result: Due to numerical precision errors, \n",
        "#   you might get a result of something like 10^-17, which can be interpretd as zero.\n",
        "\n",
        "\n",
        "\n",
        "# draw them!\n",
        "plt.figure(figsize=(6,6))\n",
        "\n",
        "# draw main vectors\n",
        "plt.plot([0,t[0]],[0,t[1]],color='k',linewidth=3,label=r'$\\mathbf{t}$')\n",
        "plt.plot([0,r[0]],[0,r[1]],color=[.7,.7,.7],linewidth=3,label=r'$\\mathbf{r}$')\n",
        "\n",
        "# draw decomposed vector components\n",
        "plt.plot([0,t_para[0]],[0,t_para[1]],'k--',linewidth=3,label=r'$\\mathbf{t}_{\\|}$')\n",
        "plt.plot([0,t_perp[0]],[0,t_perp[1]],'k:',linewidth=3,label=r'$\\mathbf{t}_{\\perp}$')\n",
        "\n",
        "plt.axis('equal')\n",
        "plt.legend()\n",
        "plt.savefig('Figure_02_08.png',dpi=300)\n",
        "plt.show()"
      ],
      "metadata": {
        "id": "VaxGL2QUqZFn",
        "colab": {
          "base_uri": "https://localhost:8080/",
          "height": 555
        },
        "outputId": "410bcda4-1265-47c2-999d-0e0d70bab6d9"
      },
      "execution_count": 89,
      "outputs": [
        {
          "output_type": "stream",
          "name": "stdout",
          "text": [
            "[0.81909128 0.09819418]\n",
            "[0.81909128 0.09819418]\n",
            "-2.7755575615628914e-17\n"
          ]
        },
        {
          "output_type": "display_data",
          "data": {
            "text/plain": [
              "<Figure size 432x432 with 1 Axes>"
            ],
            "image/svg+xml": "<?xml version=\"1.0\" encoding=\"utf-8\" standalone=\"no\"?>\n<!DOCTYPE svg PUBLIC \"-//W3C//DTD SVG 1.1//EN\"\n  \"http://www.w3.org/Graphics/SVG/1.1/DTD/svg11.dtd\">\n<!-- Created with matplotlib (https://matplotlib.org/) -->\n<svg height=\"361.109375pt\" version=\"1.1\" viewBox=\"0 0 403.178316 361.109375\" width=\"403.178316pt\" xmlns=\"http://www.w3.org/2000/svg\" xmlns:xlink=\"http://www.w3.org/1999/xlink\">\n <defs>\n  <style type=\"text/css\">\n*{stroke-linecap:butt;stroke-linejoin:round;}\n  </style>\n </defs>\n <g id=\"figure_1\">\n  <g id=\"patch_1\">\n   <path d=\"M 0 361.109375 \nL 403.178316 361.109375 \nL 403.178316 0 \nL 0 0 \nz\n\" style=\"fill:none;\"/>\n  </g>\n  <g id=\"axes_1\">\n   <g id=\"patch_2\">\n    <path d=\"M 57.103438 333.36 \nL 391.903437 333.36 \nL 391.903437 7.2 \nL 57.103438 7.2 \nz\n\" style=\"fill:#ffffff;\"/>\n   </g>\n   <g id=\"matplotlib.axis_1\">\n    <g id=\"xtick_1\">\n     <g id=\"line2d_1\">\n      <defs>\n       <path d=\"M 0 0 \nL 0 3.5 \n\" id=\"m941fd60c6c\" style=\"stroke:#000000;stroke-width:0.8;\"/>\n      </defs>\n      <g>\n       <use style=\"stroke:#000000;stroke-width:0.8;\" x=\"90.761943\" xlink:href=\"#m941fd60c6c\" y=\"333.36\"/>\n      </g>\n     </g>\n     <g id=\"text_1\">\n      <!-- −0.5 -->\n      <defs>\n       <path d=\"M 10.59375 35.5 \nL 73.1875 35.5 \nL 73.1875 27.203125 \nL 10.59375 27.203125 \nz\n\" id=\"DejaVuSans-8722\"/>\n       <path d=\"M 31.78125 66.40625 \nQ 24.171875 66.40625 20.328125 58.90625 \nQ 16.5 51.421875 16.5 36.375 \nQ 16.5 21.390625 20.328125 13.890625 \nQ 24.171875 6.390625 31.78125 6.390625 \nQ 39.453125 6.390625 43.28125 13.890625 \nQ 47.125 21.390625 47.125 36.375 \nQ 47.125 51.421875 43.28125 58.90625 \nQ 39.453125 66.40625 31.78125 66.40625 \nz\nM 31.78125 74.21875 \nQ 44.046875 74.21875 50.515625 64.515625 \nQ 56.984375 54.828125 56.984375 36.375 \nQ 56.984375 17.96875 50.515625 8.265625 \nQ 44.046875 -1.421875 31.78125 -1.421875 \nQ 19.53125 -1.421875 13.0625 8.265625 \nQ 6.59375 17.96875 6.59375 36.375 \nQ 6.59375 54.828125 13.0625 64.515625 \nQ 19.53125 74.21875 31.78125 74.21875 \nz\n\" id=\"DejaVuSans-48\"/>\n       <path d=\"M 10.6875 12.40625 \nL 21 12.40625 \nL 21 0 \nL 10.6875 0 \nz\n\" id=\"DejaVuSans-46\"/>\n       <path d=\"M 10.796875 72.90625 \nL 49.515625 72.90625 \nL 49.515625 64.59375 \nL 19.828125 64.59375 \nL 19.828125 46.734375 \nQ 21.96875 47.46875 24.109375 47.828125 \nQ 26.265625 48.1875 28.421875 48.1875 \nQ 40.625 48.1875 47.75 41.5 \nQ 54.890625 34.8125 54.890625 23.390625 \nQ 54.890625 11.625 47.5625 5.09375 \nQ 40.234375 -1.421875 26.90625 -1.421875 \nQ 22.3125 -1.421875 17.546875 -0.640625 \nQ 12.796875 0.140625 7.71875 1.703125 \nL 7.71875 11.625 \nQ 12.109375 9.234375 16.796875 8.0625 \nQ 21.484375 6.890625 26.703125 6.890625 \nQ 35.15625 6.890625 40.078125 11.328125 \nQ 45.015625 15.765625 45.015625 23.390625 \nQ 45.015625 31 40.078125 35.4375 \nQ 35.15625 39.890625 26.703125 39.890625 \nQ 22.75 39.890625 18.8125 39.015625 \nQ 14.890625 38.140625 10.796875 36.28125 \nz\n\" id=\"DejaVuSans-53\"/>\n      </defs>\n      <g transform=\"translate(73.763975 350.997813)scale(0.14 -0.14)\">\n       <use xlink:href=\"#DejaVuSans-8722\"/>\n       <use x=\"83.789062\" xlink:href=\"#DejaVuSans-48\"/>\n       <use x=\"147.412109\" xlink:href=\"#DejaVuSans-46\"/>\n       <use x=\"179.199219\" xlink:href=\"#DejaVuSans-53\"/>\n      </g>\n     </g>\n    </g>\n    <g id=\"xtick_2\">\n     <g id=\"line2d_2\">\n      <g>\n       <use style=\"stroke:#000000;stroke-width:0.8;\" x=\"164.28299\" xlink:href=\"#m941fd60c6c\" y=\"333.36\"/>\n      </g>\n     </g>\n     <g id=\"text_2\">\n      <!-- 0.0 -->\n      <g transform=\"translate(153.150802 350.997813)scale(0.14 -0.14)\">\n       <use xlink:href=\"#DejaVuSans-48\"/>\n       <use x=\"63.623047\" xlink:href=\"#DejaVuSans-46\"/>\n       <use x=\"95.410156\" xlink:href=\"#DejaVuSans-48\"/>\n      </g>\n     </g>\n    </g>\n    <g id=\"xtick_3\">\n     <g id=\"line2d_3\">\n      <g>\n       <use style=\"stroke:#000000;stroke-width:0.8;\" x=\"237.804036\" xlink:href=\"#m941fd60c6c\" y=\"333.36\"/>\n      </g>\n     </g>\n     <g id=\"text_3\">\n      <!-- 0.5 -->\n      <g transform=\"translate(226.671848 350.997813)scale(0.14 -0.14)\">\n       <use xlink:href=\"#DejaVuSans-48\"/>\n       <use x=\"63.623047\" xlink:href=\"#DejaVuSans-46\"/>\n       <use x=\"95.410156\" xlink:href=\"#DejaVuSans-53\"/>\n      </g>\n     </g>\n    </g>\n    <g id=\"xtick_4\">\n     <g id=\"line2d_4\">\n      <g>\n       <use style=\"stroke:#000000;stroke-width:0.8;\" x=\"311.325082\" xlink:href=\"#m941fd60c6c\" y=\"333.36\"/>\n      </g>\n     </g>\n     <g id=\"text_4\">\n      <!-- 1.0 -->\n      <defs>\n       <path d=\"M 12.40625 8.296875 \nL 28.515625 8.296875 \nL 28.515625 63.921875 \nL 10.984375 60.40625 \nL 10.984375 69.390625 \nL 28.421875 72.90625 \nL 38.28125 72.90625 \nL 38.28125 8.296875 \nL 54.390625 8.296875 \nL 54.390625 0 \nL 12.40625 0 \nz\n\" id=\"DejaVuSans-49\"/>\n      </defs>\n      <g transform=\"translate(300.192894 350.997813)scale(0.14 -0.14)\">\n       <use xlink:href=\"#DejaVuSans-49\"/>\n       <use x=\"63.623047\" xlink:href=\"#DejaVuSans-46\"/>\n       <use x=\"95.410156\" xlink:href=\"#DejaVuSans-48\"/>\n      </g>\n     </g>\n    </g>\n    <g id=\"xtick_5\">\n     <g id=\"line2d_5\">\n      <g>\n       <use style=\"stroke:#000000;stroke-width:0.8;\" x=\"384.846128\" xlink:href=\"#m941fd60c6c\" y=\"333.36\"/>\n      </g>\n     </g>\n     <g id=\"text_5\">\n      <!-- 1.5 -->\n      <g transform=\"translate(373.713941 350.997813)scale(0.14 -0.14)\">\n       <use xlink:href=\"#DejaVuSans-49\"/>\n       <use x=\"63.623047\" xlink:href=\"#DejaVuSans-46\"/>\n       <use x=\"95.410156\" xlink:href=\"#DejaVuSans-53\"/>\n      </g>\n     </g>\n    </g>\n   </g>\n   <g id=\"matplotlib.axis_2\">\n    <g id=\"ytick_1\">\n     <g id=\"line2d_6\">\n      <defs>\n       <path d=\"M 0 0 \nL -3.5 0 \n\" id=\"m80a7e517ed\" style=\"stroke:#000000;stroke-width:0.8;\"/>\n      </defs>\n      <g>\n       <use style=\"stroke:#000000;stroke-width:0.8;\" x=\"57.103438\" xlink:href=\"#m80a7e517ed\" y=\"316.669745\"/>\n      </g>\n     </g>\n     <g id=\"text_6\">\n      <!-- −0.25 -->\n      <defs>\n       <path d=\"M 19.1875 8.296875 \nL 53.609375 8.296875 \nL 53.609375 0 \nL 7.328125 0 \nL 7.328125 8.296875 \nQ 12.9375 14.109375 22.625 23.890625 \nQ 32.328125 33.6875 34.8125 36.53125 \nQ 39.546875 41.84375 41.421875 45.53125 \nQ 43.3125 49.21875 43.3125 52.78125 \nQ 43.3125 58.59375 39.234375 62.25 \nQ 35.15625 65.921875 28.609375 65.921875 \nQ 23.96875 65.921875 18.8125 64.3125 \nQ 13.671875 62.703125 7.8125 59.421875 \nL 7.8125 69.390625 \nQ 13.765625 71.78125 18.9375 73 \nQ 24.125 74.21875 28.421875 74.21875 \nQ 39.75 74.21875 46.484375 68.546875 \nQ 53.21875 62.890625 53.21875 53.421875 \nQ 53.21875 48.921875 51.53125 44.890625 \nQ 49.859375 40.875 45.40625 35.40625 \nQ 44.1875 33.984375 37.640625 27.21875 \nQ 31.109375 20.453125 19.1875 8.296875 \nz\n\" id=\"DejaVuSans-50\"/>\n      </defs>\n      <g transform=\"translate(7.2 321.988651)scale(0.14 -0.14)\">\n       <use xlink:href=\"#DejaVuSans-8722\"/>\n       <use x=\"83.789062\" xlink:href=\"#DejaVuSans-48\"/>\n       <use x=\"147.412109\" xlink:href=\"#DejaVuSans-46\"/>\n       <use x=\"179.199219\" xlink:href=\"#DejaVuSans-50\"/>\n       <use x=\"242.822266\" xlink:href=\"#DejaVuSans-53\"/>\n      </g>\n     </g>\n    </g>\n    <g id=\"ytick_2\">\n     <g id=\"line2d_7\">\n      <g>\n       <use style=\"stroke:#000000;stroke-width:0.8;\" x=\"57.103438\" xlink:href=\"#m80a7e517ed\" y=\"279.909222\"/>\n      </g>\n     </g>\n     <g id=\"text_7\">\n      <!-- 0.00 -->\n      <g transform=\"translate(18.931563 285.228128)scale(0.14 -0.14)\">\n       <use xlink:href=\"#DejaVuSans-48\"/>\n       <use x=\"63.623047\" xlink:href=\"#DejaVuSans-46\"/>\n       <use x=\"95.410156\" xlink:href=\"#DejaVuSans-48\"/>\n       <use x=\"159.033203\" xlink:href=\"#DejaVuSans-48\"/>\n      </g>\n     </g>\n    </g>\n    <g id=\"ytick_3\">\n     <g id=\"line2d_8\">\n      <g>\n       <use style=\"stroke:#000000;stroke-width:0.8;\" x=\"57.103438\" xlink:href=\"#m80a7e517ed\" y=\"243.148699\"/>\n      </g>\n     </g>\n     <g id=\"text_8\">\n      <!-- 0.25 -->\n      <g transform=\"translate(18.931563 248.467605)scale(0.14 -0.14)\">\n       <use xlink:href=\"#DejaVuSans-48\"/>\n       <use x=\"63.623047\" xlink:href=\"#DejaVuSans-46\"/>\n       <use x=\"95.410156\" xlink:href=\"#DejaVuSans-50\"/>\n       <use x=\"159.033203\" xlink:href=\"#DejaVuSans-53\"/>\n      </g>\n     </g>\n    </g>\n    <g id=\"ytick_4\">\n     <g id=\"line2d_9\">\n      <g>\n       <use style=\"stroke:#000000;stroke-width:0.8;\" x=\"57.103438\" xlink:href=\"#m80a7e517ed\" y=\"206.388176\"/>\n      </g>\n     </g>\n     <g id=\"text_9\">\n      <!-- 0.50 -->\n      <g transform=\"translate(18.931563 211.707082)scale(0.14 -0.14)\">\n       <use xlink:href=\"#DejaVuSans-48\"/>\n       <use x=\"63.623047\" xlink:href=\"#DejaVuSans-46\"/>\n       <use x=\"95.410156\" xlink:href=\"#DejaVuSans-53\"/>\n       <use x=\"159.033203\" xlink:href=\"#DejaVuSans-48\"/>\n      </g>\n     </g>\n    </g>\n    <g id=\"ytick_5\">\n     <g id=\"line2d_10\">\n      <g>\n       <use style=\"stroke:#000000;stroke-width:0.8;\" x=\"57.103438\" xlink:href=\"#m80a7e517ed\" y=\"169.627653\"/>\n      </g>\n     </g>\n     <g id=\"text_10\">\n      <!-- 0.75 -->\n      <defs>\n       <path d=\"M 8.203125 72.90625 \nL 55.078125 72.90625 \nL 55.078125 68.703125 \nL 28.609375 0 \nL 18.3125 0 \nL 43.21875 64.59375 \nL 8.203125 64.59375 \nz\n\" id=\"DejaVuSans-55\"/>\n      </defs>\n      <g transform=\"translate(18.931563 174.946559)scale(0.14 -0.14)\">\n       <use xlink:href=\"#DejaVuSans-48\"/>\n       <use x=\"63.623047\" xlink:href=\"#DejaVuSans-46\"/>\n       <use x=\"95.410156\" xlink:href=\"#DejaVuSans-55\"/>\n       <use x=\"159.033203\" xlink:href=\"#DejaVuSans-53\"/>\n      </g>\n     </g>\n    </g>\n    <g id=\"ytick_6\">\n     <g id=\"line2d_11\">\n      <g>\n       <use style=\"stroke:#000000;stroke-width:0.8;\" x=\"57.103438\" xlink:href=\"#m80a7e517ed\" y=\"132.86713\"/>\n      </g>\n     </g>\n     <g id=\"text_11\">\n      <!-- 1.00 -->\n      <g transform=\"translate(18.931563 138.186036)scale(0.14 -0.14)\">\n       <use xlink:href=\"#DejaVuSans-49\"/>\n       <use x=\"63.623047\" xlink:href=\"#DejaVuSans-46\"/>\n       <use x=\"95.410156\" xlink:href=\"#DejaVuSans-48\"/>\n       <use x=\"159.033203\" xlink:href=\"#DejaVuSans-48\"/>\n      </g>\n     </g>\n    </g>\n    <g id=\"ytick_7\">\n     <g id=\"line2d_12\">\n      <g>\n       <use style=\"stroke:#000000;stroke-width:0.8;\" x=\"57.103438\" xlink:href=\"#m80a7e517ed\" y=\"96.106607\"/>\n      </g>\n     </g>\n     <g id=\"text_12\">\n      <!-- 1.25 -->\n      <g transform=\"translate(18.931563 101.425513)scale(0.14 -0.14)\">\n       <use xlink:href=\"#DejaVuSans-49\"/>\n       <use x=\"63.623047\" xlink:href=\"#DejaVuSans-46\"/>\n       <use x=\"95.410156\" xlink:href=\"#DejaVuSans-50\"/>\n       <use x=\"159.033203\" xlink:href=\"#DejaVuSans-53\"/>\n      </g>\n     </g>\n    </g>\n    <g id=\"ytick_8\">\n     <g id=\"line2d_13\">\n      <g>\n       <use style=\"stroke:#000000;stroke-width:0.8;\" x=\"57.103438\" xlink:href=\"#m80a7e517ed\" y=\"59.346084\"/>\n      </g>\n     </g>\n     <g id=\"text_13\">\n      <!-- 1.50 -->\n      <g transform=\"translate(18.931563 64.66499)scale(0.14 -0.14)\">\n       <use xlink:href=\"#DejaVuSans-49\"/>\n       <use x=\"63.623047\" xlink:href=\"#DejaVuSans-46\"/>\n       <use x=\"95.410156\" xlink:href=\"#DejaVuSans-53\"/>\n       <use x=\"159.033203\" xlink:href=\"#DejaVuSans-48\"/>\n      </g>\n     </g>\n    </g>\n    <g id=\"ytick_9\">\n     <g id=\"line2d_14\">\n      <g>\n       <use style=\"stroke:#000000;stroke-width:0.8;\" x=\"57.103438\" xlink:href=\"#m80a7e517ed\" y=\"22.585561\"/>\n      </g>\n     </g>\n     <g id=\"text_14\">\n      <!-- 1.75 -->\n      <g transform=\"translate(18.931563 27.904467)scale(0.14 -0.14)\">\n       <use xlink:href=\"#DejaVuSans-49\"/>\n       <use x=\"63.623047\" xlink:href=\"#DejaVuSans-46\"/>\n       <use x=\"95.410156\" xlink:href=\"#DejaVuSans-55\"/>\n       <use x=\"159.033203\" xlink:href=\"#DejaVuSans-53\"/>\n      </g>\n     </g>\n    </g>\n   </g>\n   <g id=\"line2d_15\">\n    <path clip-path=\"url(#p61c38df4cc)\" d=\"M 164.28299 279.909222 \nL 284.723885 265.470544 \n\" style=\"fill:none;stroke:#000000;stroke-linecap:square;stroke-width:3;\"/>\n   </g>\n   <g id=\"line2d_16\">\n    <path clip-path=\"url(#p61c38df4cc)\" d=\"M 164.28299 279.909222 \nL 263.960706 22.025455 \n\" style=\"fill:none;stroke:#b2b2b2;stroke-linecap:square;stroke-width:3;\"/>\n   </g>\n   <g id=\"line2d_17\">\n    <path clip-path=\"url(#p61c38df4cc)\" d=\"M 164.28299 279.909222 \nL 184.793387 226.845221 \n\" style=\"fill:none;stroke:#000000;stroke-dasharray:11.1,4.8;stroke-dashoffset:0;stroke-width:3;\"/>\n   </g>\n   <g id=\"line2d_18\">\n    <path clip-path=\"url(#p61c38df4cc)\" d=\"M 164.28299 279.909222 \nL 264.213488 318.534545 \n\" style=\"fill:none;stroke:#000000;stroke-dasharray:3,4.95;stroke-dashoffset:0;stroke-width:3;\"/>\n   </g>\n   <g id=\"patch_3\">\n    <path d=\"M 57.103438 333.36 \nL 57.103438 7.2 \n\" style=\"fill:none;stroke:#000000;stroke-linecap:square;stroke-linejoin:miter;stroke-width:0.8;\"/>\n   </g>\n   <g id=\"patch_4\">\n    <path d=\"M 391.903437 333.36 \nL 391.903437 7.2 \n\" style=\"fill:none;stroke:#000000;stroke-linecap:square;stroke-linejoin:miter;stroke-width:0.8;\"/>\n   </g>\n   <g id=\"patch_5\">\n    <path d=\"M 57.103438 333.36 \nL 391.903437 333.36 \n\" style=\"fill:none;stroke:#000000;stroke-linecap:square;stroke-linejoin:miter;stroke-width:0.8;\"/>\n   </g>\n   <g id=\"patch_6\">\n    <path d=\"M 57.103438 7.2 \nL 391.903437 7.2 \n\" style=\"fill:none;stroke:#000000;stroke-linecap:square;stroke-linejoin:miter;stroke-width:0.8;\"/>\n   </g>\n   <g id=\"legend_1\">\n    <g id=\"patch_7\">\n     <path d=\"M 319.383437 102.305937 \nL 382.103437 102.305937 \nQ 384.903437 102.305937 384.903437 99.505937 \nL 384.903437 17 \nQ 384.903437 14.2 382.103437 14.2 \nL 319.383437 14.2 \nQ 316.583437 14.2 316.583437 17 \nL 316.583437 99.505937 \nQ 316.583437 102.305937 319.383437 102.305937 \nz\n\" style=\"fill:#ffffff;opacity:0.8;stroke:#cccccc;stroke-linejoin:miter;\"/>\n    </g>\n    <g id=\"line2d_19\">\n     <path d=\"M 322.183437 25.537812 \nL 350.183437 25.537812 \n\" style=\"fill:none;stroke:#000000;stroke-linecap:square;stroke-width:3;\"/>\n    </g>\n    <g id=\"line2d_20\"/>\n    <g id=\"text_15\">\n     <!-- $\\mathbf{t}$ -->\n     <defs>\n      <path d=\"M 27.484375 70.21875 \nL 27.484375 54.6875 \nL 45.515625 54.6875 \nL 45.515625 42.1875 \nL 27.484375 42.1875 \nL 27.484375 19 \nQ 27.484375 15.1875 29 13.84375 \nQ 30.515625 12.5 35.015625 12.5 \nL 44 12.5 \nL 44 0 \nL 29 0 \nQ 18.65625 0 14.328125 4.3125 \nQ 10.015625 8.640625 10.015625 19 \nL 10.015625 42.1875 \nL 1.3125 42.1875 \nL 1.3125 54.6875 \nL 10.015625 54.6875 \nL 10.015625 70.21875 \nz\n\" id=\"DejaVuSans-Bold-116\"/>\n     </defs>\n     <g transform=\"translate(361.383437 30.437812)scale(0.14 -0.14)\">\n      <use transform=\"translate(0 0.78125)\" xlink:href=\"#DejaVuSans-Bold-116\"/>\n     </g>\n    </g>\n    <g id=\"line2d_21\">\n     <path d=\"M 322.183437 46.087187 \nL 350.183437 46.087187 \n\" style=\"fill:none;stroke:#b2b2b2;stroke-linecap:square;stroke-width:3;\"/>\n    </g>\n    <g id=\"line2d_22\"/>\n    <g id=\"text_16\">\n     <!-- $\\mathbf{r}$ -->\n     <defs>\n      <path d=\"M 49.03125 39.796875 \nQ 46.734375 40.875 44.453125 41.375 \nQ 42.1875 41.890625 39.890625 41.890625 \nQ 33.15625 41.890625 29.515625 37.5625 \nQ 25.875 33.25 25.875 25.203125 \nL 25.875 0 \nL 8.40625 0 \nL 8.40625 54.6875 \nL 25.875 54.6875 \nL 25.875 45.703125 \nQ 29.25 51.078125 33.609375 53.53125 \nQ 37.984375 56 44.09375 56 \nQ 44.96875 56 45.984375 55.921875 \nQ 47.015625 55.859375 48.96875 55.609375 \nz\n\" id=\"DejaVuSans-Bold-114\"/>\n     </defs>\n     <g transform=\"translate(361.383437 50.987187)scale(0.14 -0.14)\">\n      <use xlink:href=\"#DejaVuSans-Bold-114\"/>\n     </g>\n    </g>\n    <g id=\"line2d_23\">\n     <path d=\"M 322.183437 66.636562 \nL 350.183437 66.636562 \n\" style=\"fill:none;stroke:#000000;stroke-dasharray:11.1,4.8;stroke-dashoffset:0;stroke-width:3;\"/>\n    </g>\n    <g id=\"line2d_24\"/>\n    <g id=\"text_17\">\n     <!-- $\\mathbf{t}_{\\|}$ -->\n     <defs>\n      <path d=\"M 21 76.421875 \nL 21 -23.578125 \nL 12.703125 -23.578125 \nL 12.703125 76.421875 \nz\n\" id=\"DejaVuSans-124\"/>\n     </defs>\n     <g transform=\"translate(361.383437 71.536562)scale(0.14 -0.14)\">\n      <use transform=\"translate(0 0.78125)\" xlink:href=\"#DejaVuSans-Bold-116\"/>\n      <use transform=\"translate(48.759766 -15.625)scale(0.7)\" xlink:href=\"#DejaVuSans-124\"/>\n     </g>\n    </g>\n    <g id=\"line2d_25\">\n     <path d=\"M 322.183437 88.894375 \nL 350.183437 88.894375 \n\" style=\"fill:none;stroke:#000000;stroke-dasharray:3,4.95;stroke-dashoffset:0;stroke-width:3;\"/>\n    </g>\n    <g id=\"line2d_26\"/>\n    <g id=\"text_18\">\n     <!-- $\\mathbf{t}_{\\perp}$ -->\n     <defs>\n      <path d=\"M 64.09375 0 \nL 5.203125 0 \nL 5.203125 6.59375 \nL 31.40625 6.59375 \nL 31.40625 66.203125 \nL 38 66.203125 \nL 38 6.59375 \nL 64.09375 6.59375 \nz\n\" id=\"STIXGeneral-Regular-10178\"/>\n     </defs>\n     <g transform=\"translate(361.383437 93.794375)scale(0.14 -0.14)\">\n      <use transform=\"translate(0 0.78125)\" xlink:href=\"#DejaVuSans-Bold-116\"/>\n      <use transform=\"translate(62.397461 -15.625)scale(0.7)\" xlink:href=\"#STIXGeneral-Regular-10178\"/>\n     </g>\n    </g>\n   </g>\n  </g>\n </g>\n <defs>\n  <clipPath id=\"p61c38df4cc\">\n   <rect height=\"326.16\" width=\"334.8\" x=\"57.103438\" y=\"7.2\"/>\n  </clipPath>\n </defs>\n</svg>\n"
          },
          "metadata": {
            "needs_background": "light"
          }
        }
      ]
    },
    {
      "cell_type": "markdown",
      "source": [
        "# Exercise 10"
      ],
      "metadata": {
        "id": "vSS3N5NdiAlo"
      }
    },
    {
      "cell_type": "code",
      "source": [
        "# Replace t_para in the previous exercise with the line below:\n",
        "t_para = r * (np.dot(t,r) / np.dot(t,t))"
      ],
      "metadata": {
        "id": "C6NG78lhqbwq"
      },
      "execution_count": null,
      "outputs": []
    }
  ]
}